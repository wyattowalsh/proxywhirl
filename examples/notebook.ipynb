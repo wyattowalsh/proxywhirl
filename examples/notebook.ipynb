{
 "cells": [
  {
   "cell_type": "markdown",
   "id": "bdedfe5d",
   "metadata": {},
   "source": [
    "<style>\n",
    "/* ------------------------------------------------------------------\n",
    "   proxywhirl — Header \"Rotating Proxy • Luminous Brand Text\"\n",
    "   STYLE-ONLY (plus lighter wording): Title trimmed, subtitle fresh.\n",
    "   - Unified brand text for <code>…</code> (title & subtitle)\n",
    "   - High-contrast gradient type, glossy highlight, data-stream underline\n",
    "   - Rotating relay rings & faint network grid in the background\n",
    "   - Dark-mode tuned, motion-respectful\n",
    "-------------------------------------------------------------------*/\n",
    "\n",
    "/* Fonts */\n",
    "@import url('https://fonts.googleapis.com/css2?family=Inter:wght@400;600;800&family=JetBrains+Mono:wght@600;700&display=swap');\n",
    "\n",
    "/* ===========================================================\n",
    "   Theme Tokens\n",
    "=========================================================== */\n",
    ":root{\n",
    "  /* Accents (no #6a9fb5) */\n",
    "  --pw-accent:   #8b5cf6; /* violet-500 */\n",
    "  --pw-accent-2: #22d3ee; /* cyan-400  */\n",
    "  --pw-accent-3: #f59e0b; /* amber-500 */\n",
    "  --pw-accent-4: #ef4444; /* red-500   */\n",
    "\n",
    "  /* Foreground */\n",
    "  --pw-text:   #0f172a;   /* slate-900 */\n",
    "  --pw-subtle: #334155;   /* slate-600 */\n",
    "\n",
    "  /* Surfaces */\n",
    "  --pw-card:   rgba(255, 255, 255, 0.78);\n",
    "  --pw-border: rgba(148, 163, 184, 0.26);\n",
    "  --pw-shadow: 0 18px 56px rgba(2, 6, 23, 0.18), 0 6px 16px rgba(2, 6, 23, 0.10);\n",
    "\n",
    "  /* FX */\n",
    "  --pw-radius: 22px;\n",
    "  --pw-blur:   12px;\n",
    "  --pw-sat:    1.20;\n",
    "\n",
    "  /* Brand gradient */\n",
    "  --brand-grad: linear-gradient(90deg,\n",
    "    var(--pw-accent),\n",
    "    var(--pw-accent-2),\n",
    "    var(--pw-accent-3),\n",
    "    var(--pw-accent-4),\n",
    "    var(--pw-accent));\n",
    "\n",
    "  /* Ring sizing */\n",
    "  --ring-size: min(56vmin, 520px);\n",
    "  --ring-thick: 10px;\n",
    "}\n",
    "\n",
    "@media (prefers-color-scheme: dark){\n",
    "  :root{\n",
    "    --pw-text:   #e2e8f0;  /* slate-200 */\n",
    "    --pw-subtle: #94a3b8;  /* slate-400 */\n",
    "    --pw-card:   rgba(2, 6, 23, 0.64);\n",
    "    --pw-border: rgba(148, 163, 184, 0.20);\n",
    "    --pw-shadow: 0 22px 60px rgba(0,0,0,.55), 0 8px 20px rgba(0,0,0,.35);\n",
    "  }\n",
    "}\n",
    "\n",
    "/* ===========================================================\n",
    "   Motion & Micro-Effects\n",
    "=========================================================== */\n",
    "@keyframes float{0%,100%{transform:translateY(0)}50%{transform:translateY(-6px)}}\n",
    "@keyframes fadeInUp{from{opacity:0;transform:translateY(10px)}to{opacity:1;transform:translateY(0)}}\n",
    "@keyframes shimmer{0%{background-position:0% 50%}100%{background-position:220% 50%}}\n",
    "@keyframes spinCW{to{transform:rotate(360deg)}}\n",
    "@keyframes spinCCW{to{transform:rotate(-360deg)}}\n",
    "@keyframes scanlines{0%{background-position:0 0,0 0}100%{background-position:0 40px,0 0}}\n",
    "@keyframes dataFlow{0%{background-position:0 0,0 0}100%{background-position:200% 0,0 0}}\n",
    "@keyframes chromaPulse{\n",
    "  0%,100%{filter:drop-shadow(0 8px 20px rgba(139,92,246,.20))}\n",
    "  50%{filter:drop-shadow(0 10px 24px rgba(34,211,238,.26))}\n",
    "}\n",
    "\n",
    "/* ===========================================================\n",
    "   Container\n",
    "=========================================================== */\n",
    "div[align='center']{\n",
    "  font-family:'Inter',ui-sans-serif,system-ui,-apple-system,Segoe UI,Roboto,Helvetica,Arial,\"Apple Color Emoji\",\"Segoe UI Emoji\";\n",
    "  max-width:980px;\n",
    "  margin:46px auto 26px;\n",
    "  padding:42px 34px 26px;\n",
    "  color:var(--pw-text);\n",
    "\n",
    "  border:1px solid transparent;\n",
    "  border-radius:var(--pw-radius);\n",
    "  background:\n",
    "    linear-gradient(180deg,var(--pw-card),var(--pw-card)) padding-box,\n",
    "    linear-gradient(118deg,\n",
    "      rgba(139,92,246,0.60),\n",
    "      rgba(34,211,238,0.48),\n",
    "      rgba(245,158,11,0.48),\n",
    "      rgba(239,68,68,0.42)) border-box;\n",
    "  box-shadow:var(--pw-shadow);\n",
    "\n",
    "  position:relative;\n",
    "  overflow:hidden;\n",
    "  isolation:isolate;\n",
    "  backdrop-filter:blur(var(--pw-blur)) saturate(calc(var(--pw-sat) * 115%));\n",
    "  -webkit-backdrop-filter:blur(var(--pw-blur)) saturate(calc(var(--pw-sat) * 115%));\n",
    "  animation:fadeInUp .55s ease-out both;\n",
    "  text-rendering:geometricPrecision;\n",
    "  -webkit-font-smoothing:antialiased;\n",
    "}\n",
    "\n",
    "/* Background layers: aurora + faint grid */\n",
    "div[align='center']::before,\n",
    "div[align='center']::after{\n",
    "  content:\"\";\n",
    "  position:absolute;\n",
    "  inset:-1px;\n",
    "  pointer-events:none;\n",
    "  z-index:-1;\n",
    "}\n",
    "div[align='center']::before{\n",
    "  background:\n",
    "    radial-gradient(1100px 520px at 50% -18%, rgba(139,92,246,0.22), transparent 58%),\n",
    "    radial-gradient(1000px 480px at 50% 118%, rgba(34,211,238,0.16), transparent 55%),\n",
    "    radial-gradient(1200px 460px at -8% 40%, rgba(239,68,68,0.12), transparent 60%),\n",
    "    radial-gradient(1100px 440px at 108% 60%, rgba(245,158,11,0.12), transparent 60%),\n",
    "    repeating-linear-gradient(0deg, rgba(148,163,184,0.06) 0 1px, transparent 1px 28px),\n",
    "    repeating-linear-gradient(90deg, rgba(148,163,184,0.05) 0 1px, transparent 1px 28px);\n",
    "  animation: scanlines 16s linear infinite;\n",
    "  background-size:auto,auto,auto,auto, auto 40px, 40px auto;\n",
    "}\n",
    "\n",
    "/* Conic wash */\n",
    "div[align='center']::after{\n",
    "  background:conic-gradient(from 160deg at 50% 50%,\n",
    "    rgba(139,92,246,0.28),\n",
    "    rgba(34,211,238,0.28),\n",
    "    rgba(245,158,11,0.28),\n",
    "    rgba(139,92,246,0.28));\n",
    "  -webkit-mask:radial-gradient(closest-side, rgba(255,255,255,0.32), transparent 72%);\n",
    "  mask:radial-gradient(closest-side, rgba(255,255,255,0.32), transparent 72%);\n",
    "  filter:blur(22px);\n",
    "  opacity:.55;\n",
    "}\n",
    "\n",
    "/* ===========================================================\n",
    "   Rotating Proxy Rings (behind the title)\n",
    "=========================================================== */\n",
    "@supports (mask:radial-gradient(black, transparent)){\n",
    "  div[align='center'] h1{position:relative; text-wrap:balance}\n",
    "  div[align='center'] h1::before,\n",
    "  div[align='center'] h1::after{\n",
    "    content:\"\";\n",
    "    position:absolute;\n",
    "    left:50%;\n",
    "    top:calc(-1 * (var(--ring-size) * 0.62));\n",
    "    width:var(--ring-size);\n",
    "    height:var(--ring-size);\n",
    "    transform:translateX(-50%);\n",
    "    pointer-events:none;\n",
    "    z-index:-1;\n",
    "  }\n",
    "  /* Outer dashed ring */\n",
    "  div[align='center'] h1::before{\n",
    "    background:\n",
    "      conic-gradient(from 0deg,\n",
    "        rgba(255,255,255,0.0) 0 10deg,\n",
    "        rgba(255,255,255,0.85) 10deg 12deg,\n",
    "        rgba(255,255,255,0.0) 12deg 22deg) 50%/100% 100% no-repeat,\n",
    "      var(--brand-grad);\n",
    "    -webkit-mask:\n",
    "      radial-gradient(circle, transparent calc(50% - var(--ring-thick)), #000 calc(50% - var(--ring-thick) + 1px)) intersect,\n",
    "      radial-gradient(circle, #000 52%, transparent 52.3%);\n",
    "    mask:\n",
    "      radial-gradient(circle, transparent calc(50% - var(--ring-thick)), #000 calc(50% - var(--ring-thick) + 1px)) intersect,\n",
    "      radial-gradient(circle, #000 52%, transparent 52.3%);\n",
    "    border-radius:50%;\n",
    "    box-shadow:0 0 28px rgba(139,92,246,0.25), inset 0 0 24px rgba(34,211,238,0.18);\n",
    "    animation:spinCW 26s linear infinite;\n",
    "  }\n",
    "  /* Inner dotted ring */\n",
    "  div[align='center'] h1::after{\n",
    "    width:calc(var(--ring-size) * 0.74);\n",
    "    height:calc(var(--ring-size) * 0.74);\n",
    "    top:calc(-1 * (var(--ring-size) * 0.50));\n",
    "    background:\n",
    "      radial-gradient(circle at 50% 0%, rgba(255,255,255,0.95) 0 3px, transparent 3.5px) 50% 50%/6px 6px repeat,\n",
    "      var(--brand-grad);\n",
    "    -webkit-mask:\n",
    "      radial-gradient(circle, transparent calc(50% - (var(--ring-thick) * .75)), #000 calc(50% - (var(--ring-thick) * .75) + 1px)) intersect,\n",
    "      radial-gradient(circle, #000 52%, transparent 52.2%);\n",
    "    mask:\n",
    "      radial-gradient(circle, transparent calc(50% - (var(--ring-thick) * .75)), #000 calc(50% - (var(--ring-thick) * .75) + 1px)) intersect,\n",
    "      radial-gradient(circle, #000 52%, transparent 52.2%);\n",
    "    border-radius:50%;\n",
    "    filter:drop-shadow(0 0 14px rgba(34,211,238,0.28));\n",
    "    animation:spinCCW 18s linear infinite;\n",
    "  }\n",
    "}\n",
    "\n",
    "/* ===========================================================\n",
    "   Logo\n",
    "=========================================================== */\n",
    "div[align='center'] img{\n",
    "  display:block;\n",
    "  margin:12px auto 14px;\n",
    "  transform-origin:center;\n",
    "  animation:float 6s ease-in-out infinite;\n",
    "  filter:drop-shadow(0 12px 30px rgba(139,92,246,0.34));\n",
    "}\n",
    "\n",
    "/* ===========================================================\n",
    "   Title & Subtitle\n",
    "=========================================================== */\n",
    "div[align='center'] h1{\n",
    "  margin:12px 0 10px;\n",
    "  font-weight:800;\n",
    "  font-size:clamp(32px, 3.6vw, 48px);\n",
    "  letter-spacing:-0.02em;\n",
    "  line-height:1.16;\n",
    "  color:var(--pw-text);\n",
    "}\n",
    "div[align='center'] p{\n",
    "  margin:6px 0 18px;\n",
    "  color:var(--pw-subtle);\n",
    "  font-size:clamp(13px, 1.6vw, 16px);\n",
    "  letter-spacing:0.01em;\n",
    "  animation:fadeInUp .65s ease-out both .05s;\n",
    "}\n",
    "\n",
    "/* ===========================================================\n",
    "   UNIFIED BRAND TEXT — <code>…</code> (title & subtitle)\n",
    "   SAME DESIGN • title = larger/stronger\n",
    "=========================================================== */\n",
    "div[align='center'] h1 code,\n",
    "div[align='center'] p code{\n",
    "  position:relative;\n",
    "  display:inline-block;\n",
    "  vertical-align:middle;\n",
    "\n",
    "  font-family:'JetBrains Mono',ui-monospace,SFMono-Regular,Menlo,Consolas,\"Liberation Mono\",monospace;\n",
    "  letter-spacing:.0065em;\n",
    "\n",
    "  background:var(--brand-grad);\n",
    "  background-size:260% 100%;\n",
    "  background-clip:text;\n",
    "  -webkit-background-clip:text;\n",
    "  color:transparent;\n",
    "  -webkit-text-fill-color:transparent;\n",
    "  animation:shimmer 12s linear infinite;\n",
    "\n",
    "  -webkit-text-stroke:.012em rgba(2,6,23,.40);\n",
    "  text-shadow:\n",
    "    0 .8px 0 rgba(255,255,255,.18),\n",
    "    0 2px 10px rgba(139,92,246,.22),\n",
    "    0 8px 22px rgba(34,211,238,.12),\n",
    "    0.6px 0 rgba(239,68,68,.10),\n",
    "   -0.6px 0 rgba(34,211,238,.10);\n",
    "  filter:saturate(1.12);\n",
    "  transform:translateZ(0);\n",
    "}\n",
    "div[align='center'] h1 code{\n",
    "  font-weight:800;\n",
    "  -webkit-text-stroke-width:.020em;\n",
    "  animation:shimmer 11s linear infinite, chromaPulse 4.6s ease-in-out infinite;\n",
    "}\n",
    "div[align='center'] p code{\n",
    "  font-weight:700;\n",
    "  -webkit-text-stroke-width:.014em;\n",
    "}\n",
    "\n",
    "/* Gloss highlight (both) */\n",
    "div[align='center'] h1 code::before,\n",
    "div[align='center'] p code::before{\n",
    "  content:\"\";\n",
    "  position:absolute; inset:-6% -8%;\n",
    "  border-radius:10px;\n",
    "  background:\n",
    "    linear-gradient(120deg,\n",
    "      rgba(255,255,255,0.00) 35%,\n",
    "      rgba(255,255,255,0.20) 48%,\n",
    "      rgba(255,255,255,0.00) 62%);\n",
    "  mix-blend-mode:screen;\n",
    "  opacity:.65;\n",
    "  filter:blur(2px);\n",
    "  pointer-events:none;\n",
    "}\n",
    "\n",
    "/* Data-stream underline (both) */\n",
    "div[align='center'] h1 code::after,\n",
    "div[align='center'] p code::after{\n",
    "  content:\"\";\n",
    "  position:absolute;\n",
    "  left:-2%;\n",
    "  right:-2%;\n",
    "  bottom:-.18em;\n",
    "  height:2px;\n",
    "  border-radius:999px;\n",
    "  background:\n",
    "    linear-gradient(90deg,\n",
    "      rgba(255,255,255,.0) 0%,\n",
    "      rgba(255,255,255,.85) 8%,\n",
    "      rgba(255,255,255,.0) 16%) 0 0/140px 100% repeat-x,\n",
    "    var(--brand-grad);\n",
    "  opacity:.9;\n",
    "  animation:dataFlow 2.4s linear infinite, shimmer 12s linear infinite;\n",
    "  mix-blend-mode:screen;\n",
    "  pointer-events:none;\n",
    "}\n",
    "\n",
    "/* Hover micro-lift */\n",
    "@media (hover:hover) and (pointer:fine){\n",
    "  div[align='center'] h1 code:hover,\n",
    "  div[align='center'] p code:hover{\n",
    "    transform:translateY(-1px);\n",
    "    text-shadow:\n",
    "      0 .8px 0 rgba(255,255,255,.22),\n",
    "      0 4px 18px rgba(139,92,246,.38),\n",
    "      0 16px 32px rgba(34,211,238,.18),\n",
    "      0.6px 0 rgba(239,68,68,.18),\n",
    "     -0.6px 0 rgba(34,211,238,.18);\n",
    "  }\n",
    "}\n",
    "\n",
    "/* Selection colors */\n",
    "div[align='center'] code::selection{\n",
    "  background:rgba(139,92,246,.25);\n",
    "  -webkit-text-fill-color:#fff;\n",
    "}\n",
    "div[align='center'] ::selection{\n",
    "  background:rgba(34,211,238,.18);\n",
    "}\n",
    "\n",
    "/* ===========================================================\n",
    "   Divider — prism ribbon\n",
    "=========================================================== */\n",
    "div[align='center'] hr{\n",
    "  height:2px;border:0;margin-top:22px;\n",
    "  background:linear-gradient(90deg,transparent,\n",
    "    rgba(139,92,246,.82),\n",
    "    rgba(34,211,238,.82),\n",
    "    rgba(245,158,11,.82),\n",
    "    transparent);\n",
    "  border-radius:999px;\n",
    "  position:relative;\n",
    "  animation:fadeInUp .75s ease-out both .1s;\n",
    "}\n",
    "div[align='center'] hr::after{\n",
    "  content:\"\";\n",
    "  position:absolute;inset:-8px 0 0 0;\n",
    "  background:radial-gradient(600px 30px at 50% 0%, rgba(139,92,246,.36), transparent 60%);\n",
    "  filter:blur(10px);pointer-events:none;\n",
    "}\n",
    "\n",
    "/* ===========================================================\n",
    "   A11y — Respect motion preferences\n",
    "=========================================================== */\n",
    "@media (prefers-reduced-motion: reduce){\n",
    "  *{animation:none !important; transition:none !important}\n",
    "}\n",
    "</style>\n",
    "\n",
    "<div align='center'>\n",
    "  <img src=\"../docs/public/img/icon.svg\" width=\"15%\"/>\n",
    "  <h1><code>proxywhirl</code> Examples</h1>\n",
    "  <p>Practical usage demos for <code>proxywhirl</code></p>\n",
    "  <hr/>\n",
    "</div>\n"
   ]
  },
  {
   "cell_type": "markdown",
   "id": "5492d212",
   "metadata": {},
   "source": [
    "---\n"
   ]
  },
  {
   "cell_type": "markdown",
   "id": "54bbfcd6",
   "metadata": {},
   "source": [
    "## Setup\n"
   ]
  },
  {
   "cell_type": "markdown",
   "id": "60435e15",
   "metadata": {},
   "source": [
    "### Notebook Setup\n"
   ]
  },
  {
   "cell_type": "code",
   "execution_count": 1,
   "id": "218ecf66",
   "metadata": {},
   "outputs": [
    {
     "name": "stdout",
     "output_type": "stream",
     "text": [
      "/Users/ww/dev/projects/proxywhirl\n"
     ]
    }
   ],
   "source": [
    "# set pwd to codebase root\n",
    "%cd ../"
   ]
  },
  {
   "cell_type": "code",
   "execution_count": 3,
   "id": "50ca7de9",
   "metadata": {},
   "outputs": [],
   "source": [
    "# uncomment if in active developent for hot reload\n",
    "# %load_ext autoreload\n",
    "%aimport proxywhirl\n",
    "%autoreload 1"
   ]
  },
  {
   "cell_type": "markdown",
   "id": "caf5fe4d",
   "metadata": {},
   "source": [
    "### Project Setup\n"
   ]
  },
  {
   "cell_type": "code",
   "execution_count": null,
   "id": "c5130e10",
   "metadata": {},
   "outputs": [],
   "source": [
    "%%bash\n",
    "\n",
    "make install"
   ]
  },
  {
   "cell_type": "markdown",
   "id": "08e23b8a",
   "metadata": {},
   "source": [
    "---\n"
   ]
  },
  {
   "cell_type": "markdown",
   "id": "4d26f4fe",
   "metadata": {},
   "source": [
    "## Use Cases\n"
   ]
  },
  {
   "cell_type": "markdown",
   "id": "2ea6d8a1",
   "metadata": {},
   "source": [
    "### Use the Rotating Proxy\n"
   ]
  },
  {
   "cell_type": "markdown",
   "id": "1772e52a",
   "metadata": {},
   "source": [
    "#### Python API\n"
   ]
  },
  {
   "cell_type": "markdown",
   "id": "d46fcc8c",
   "metadata": {},
   "source": [
    "Instantiate `ProxyWhirl` and call `get_proxy()` to get a random proxy from the pool.\n"
   ]
  },
  {
   "cell_type": "code",
   "execution_count": null,
   "id": "0fbcec78",
   "metadata": {},
   "outputs": [],
   "source": [
    "from pathlib import Path\n",
    "from proxywhirl import ProxyWhirl, CacheType, RotationStrategy\n",
    "\n",
    "# If you prefer strings instead of enums, you can use \"MEMORY\", \"JSON\", \"SQLITE\", \"ROUND_ROBIN\", etc.\n",
    "# These values are case-insensitive and are normalized internally.\n",
    "\n",
    "pw = ProxyWhirl(\n",
    "    # --- Cache Configuration ---\n",
    "    # Specifies the storage backend for the proxy cache.\n",
    "    # - MEMORY: High-performance, ephemeral in-memory LRU cache. Ideal for single-process, short-lived tasks.\n",
    "    # - JSON:   Persistent, file-based cache with atomic writes for process safety. Good for sharing between runs.\n",
    "    # - SQLITE: Advanced persistent cache with relational querying, analytics, and time-series metrics.\n",
    "    cache_type=CacheType.MEMORY,\n",
    "\n",
    "    # Filesystem path for persistent caches (JSON, SQLITE). Ignored if cache_type is MEMORY.\n",
    "    # If None, a default path may be used depending on the cache implementation.\n",
    "    cache_path=Path(\"./.proxywhirl_cache\"),\n",
    "\n",
    "    # --- Rotator Configuration ---\n",
    "    # Defines the algorithm for selecting the next proxy from the cache.\n",
    "    # - ROUND_ROBIN:  Cycles through the list of available proxies sequentially.\n",
    "    # - RANDOM:       Selects a proxy at random.\n",
    "    # - HEALTH_BASED: Prioritizes proxies with higher health and quality scores.\n",
    "    rotation_strategy=RotationStrategy.HEALTH_BASED,\n",
    "\n",
    "    # --- Health & Validation Configuration ---\n",
    "    # Interval (in seconds) for periodic background health checks. This is intended for integration\n",
    "    # with external schedulers (e.g., cron, Celery Beat) to trigger pw.validate_proxies().\n",
    "    health_check_interval=300,  # 5 minutes\n",
    "\n",
    "    # If True, automatically validates all proxies immediately after they are fetched from loaders.\n",
    "    # This ensures the cache is populated only with known-good proxies, but increases initial fetch time.\n",
    "    auto_validate=True,\n",
    "\n",
    "    # Per-proxy timeout (in seconds) for each validation probe. A request is considered failed if it exceeds this limit.\n",
    "    validator_timeout=10.0,\n",
    "\n",
    "    # The URL endpoint used by the validator to test proxy connectivity and anonymity.\n",
    "    # Should be a highly reliable public endpoint that reflects the request's origin IP.\n",
    "    validator_test_url=\"https://httpbin.org/ip\",\n",
    "\n",
    "    # Activates a circuit breaker after 'N' consecutive validation failures against the test URL.\n",
    "    # This prevents cascading failures if the network or the test endpoint itself is down.\n",
    "    validator_circuit_breaker_threshold=100,\n",
    "\n",
    "    # Defines specific endpoints for targeted health checks, mapping a target ID to its definition.\n",
    "    # Allows assessing proxy health against multiple, task-specific services (e.g., google, amazon).\n",
    "    validation_targets=None,  # e.g., {\"google\": TargetDefinition(...)}\n",
    "\n",
    "    # --- Performance & Resource Management ---\n",
    "    # If True, enables the collection and export of internal performance metrics (e.g., for Prometheus).\n",
    "    # This adds minor overhead but is invaluable for monitoring in production environments.\n",
    "    enable_metrics=True,\n",
    "\n",
    "    # Sets the concurrency limit for the asynchronous validation worker pool.\n",
    "    # Higher values can speed up validation but increase CPU, memory, and network usage.\n",
    "    max_concurrent_validations=20,\n",
    "\n",
    "    # A global cap on the total number of proxies to fetch from all loaders in a single `fetch_proxies()` call.\n",
    "    # Useful for controlling memory usage and initial processing load. `None` means no limit.\n",
    "    max_fetch_proxies=None,\n",
    "\n",
    "    # Limits the number of newly fetched proxies that are validated when `auto_validate` is True.\n",
    "    # This prevents long validation delays when loaders return thousands of proxies. `None` means no limit.\n",
    "    max_validate_on_fetch=500,\n",
    ")\n",
    "\n",
    "# Retrieve a single proxy using the configured rotation strategy.\n",
    "# If the cache is empty, this call will automatically trigger a fetch and validation cycle.\n",
    "proxy = pw.get_proxy()\n",
    "logger.info(f\"Obtained proxy: {proxy.host}:{proxy.port} from {proxy.source}\")\n",
    "\n",
    "# Get another proxy to demonstrate rotation\n",
    "proxy2 = pw.get_proxy()\n",
    "logger.info(f\"Obtained next proxy: {proxy2.host}:{proxy2.port} from {proxy2.source}\")"
   ]
  },
  {
   "cell_type": "markdown",
   "id": "bb856410",
   "metadata": {},
   "source": [
    "You can then use the proxy object with HTTP clients like `httpx`.\n"
   ]
  },
  {
   "cell_type": "code",
   "execution_count": null,
   "id": "fcbf9950",
   "metadata": {},
   "outputs": [],
   "source": [
    "import httpx\n",
    "\n",
    "if proxy:\n",
    "    # The `proxy.uris` property provides a dictionary of scheme-specific URIs\n",
    "    proxy_uris = proxy.uris\n",
    "    \n",
    "    # Select the appropriate URI, for example, 'http'\n",
    "    # Fallback to the first available scheme if 'http' is not present\n",
    "    http_proxy_uri = proxy_uris.get(\"http\", next(iter(proxy_uris.values()), None))\n",
    "\n",
    "    if http_proxy_uri:\n",
    "        try:\n",
    "            with httpx.Client(proxies={\"all://\": http_proxy_uri}, timeout=15.0) as client:\n",
    "                logger.info(f\"Making request via proxy: {http_proxy_uri}\")\n",
    "                response = client.get(\"https://httpbin.org/get\")\n",
    "                response.raise_for_status()\n",
    "                \n",
    "                # Report back to ProxyWhirl that the request was successful\n",
    "                pw.update_proxy_health(proxy, success=True, response_time=response.elapsed.total_seconds())\n",
    "                logger.success(f\"Successfully received response from origin: {response.json().get('origin')}\")\n",
    "                \n",
    "        except httpx.RequestError as e:\n",
    "            # Report the failure back to ProxyWhirl to penalize the proxy's health score\n",
    "            pw.update_proxy_health(proxy, success=False, error_message=str(e))\n",
    "            logger.error(f\"Request failed using proxy {http_proxy_uri}: {e}\")"
   ]
  },
  {
   "cell_type": "markdown",
   "id": "8ed9696f",
   "metadata": {},
   "source": [
    "#### CLI\n"
   ]
  },
  {
   "cell_type": "markdown",
   "id": "5ef5ba39",
   "metadata": {},
   "source": [
    "Use the `get` command to retrieve a single proxy from the command line. You can specify the output format.\n"
   ]
  },
  {
   "cell_type": "code",
   "execution_count": null,
   "id": "dac5cef5",
   "metadata": {},
   "outputs": [],
   "source": [
    "%%bash\n",
    "\n",
    "# Get a proxy in the default host:port format\n",
    "echo \"Default format:\"\n",
    "proxywhirl get --cache-type json --cache-path ./.proxywhirl_cache.json\n",
    "\n",
    "# Get a proxy as a full URI, useful for scripting\n",
    "echo -e \"\\nURI format:\"\n",
    "proxywhirl get --cache-type json --cache-path ./.proxywhirl_cache.json --format uri\n",
    "\n",
    "# Get proxy details in JSON format\n",
    "echo -e \"\\nJSON format:\"\n",
    "proxywhirl get --cache-type json --cache-path ./.proxywhirl_cache.json --format json"
   ]
  },
  {
   "cell_type": "markdown",
   "id": "bb5720cc",
   "metadata": {},
   "source": [
    "#### TUI\n"
   ]
  },
  {
   "cell_type": "markdown",
   "id": "d9b24f52",
   "metadata": {},
   "source": [
    "Launch the Terminal User Interface to interactively manage and select proxies.\n"
   ]
  },
  {
   "cell_type": "code",
   "execution_count": null,
   "id": "63070312",
   "metadata": {},
   "outputs": [],
   "source": [
    "%%bash\n",
    "\n",
    "# The TUI provides a dashboard to view, filter, and test proxies in real-time.\n",
    "# You can manually copy proxy details from the interface.\n",
    "# Note: This command will run an interactive session.\n",
    "# proxywhirl tui\n",
    "echo \"To launch the TUI, run the command: proxywhirl tui\""
   ]
  },
  {
   "cell_type": "markdown",
   "id": "f9ada297",
   "metadata": {},
   "source": [
    "---\n"
   ]
  },
  {
   "cell_type": "markdown",
   "id": "8bae86b7",
   "metadata": {},
   "source": [
    "### Generate a Proxy List\n"
   ]
  },
  {
   "cell_type": "markdown",
   "id": "599e1885",
   "metadata": {},
   "source": [
    "#### Python API\n"
   ]
  },
  {
   "cell_type": "markdown",
   "id": "37d674f4",
   "metadata": {},
   "source": [
    "Use the `export_proxies` method to generate a list in various formats with advanced filtering and sorting.\n"
   ]
  },
  {
   "cell_type": "code",
   "execution_count": null,
   "id": "b8a53450",
   "metadata": {},
   "outputs": [],
   "source": [
    "    \"from proxywhirl.exporter import ExportConfig, ExportFormat, ProxyFilter, SortField, SortOrder, VolumeControl\n",
    "\",\n",
    "from proxywhirl.models import Scheme\n",
    "\n",
    "# Define an export configuration\n",
    "export_config = ExportConfig(\n",
    "    # Specify the output format\n",
    "    format=ExportFormat.JSON_PRETTY,\n",
    "    \n",
    "    # Define filters to select specific proxies\n",
    "    filters=ProxyFilter(\n",
    "        countries=[\"US\", \"CA\"],             # Only proxies from USA and Canada\n",
    "        schemes=[Scheme.HTTPS],              # Only HTTPS proxies\n",
    "        min_quality_score=0.7,               # Only high-quality proxies\n",
    "        healthy_only=True                    # Only proxies that are currently active\n",
    "    ),\n",
    "    \n",
    "    # Control the volume and sorting of the output\n",
    "    volume=VolumeControl(\n",
    "        limit=20,                            # Limit to the top 20 results\n",
    "        sort_by=SortField.RESPONSE_TIME,     # Sort by the fastest response time\n",
    "        sort_order=SortOrder.ASC             # Sort in ascending order\n",
    "    ),\n",
    "    \n",
    "    # Include metadata in the export\n",
    "    include_metadata=True\n",
    ")\n",
    "\n",
    "# Generate the proxy list as a string\n",
    "proxy_list_json = pw.export_proxies(config=export_config)\n",
    "\n",
    "logger.info(f\"Generated JSON proxy list for high-quality US/CA proxies:\")\n",
    "print(proxy_list_json)\n",
    "\n",
    "# You can also export directly to a file\n",
    "export_config.format = ExportFormat.CSV\n",
    "export_config.output_file = \"./proxies.csv\"\n",
    "file_path, count = pw.export_to_file(config=export_config)\n",
    "logger.success(f\"Successfully exported {count} proxies to {file_path}\")"
   ]
  },
  {
   "cell_type": "markdown",
   "id": "62d266fc",
   "metadata": {},
   "source": [
    "#### CLI\n"
   ]
  },
  {
   "cell_type": "markdown",
   "id": "43b60e50",
   "metadata": {},
   "source": [
    "The `export` command provides powerful command-line tools for generating proxy lists with the same filtering and formatting capabilities as the API.\n"
   ]
  },
  {
   "cell_type": "code",
   "execution_count": null,
   "id": "6440932e",
   "metadata": {},
   "outputs": [],
   "source": [
    "%%bash\n",
    "\n",
    "# Export top 10 fastest, healthy, HTTPS proxies from Germany to a TXT file\n",
    "proxywhirl export \\\n",
    "    --cache-type json --cache-path ./.proxywhirl_cache.json \\\n",
    "    --format txt_uri \\\n",
    "    --output ./fast_de_proxies.txt \\\n",
    "    --overwrite \\\n",
    "    --limit 10 \\\n",
    "    --countries DE \\\n",
    "    --schemes https \\\n",
    "    --healthy-only true \\\n",
    "    --sort-by response_time \\\n",
    "    --sort-order asc\n",
    "\n",
    "echo \"Generated fast_de_proxies.txt:\"\n",
    "cat ./fast_de_proxies.txt\n",
    "\n",
    "# Export all SOCKS5 proxies to a CSV file without headers\n",
    "proxywhirl export \\\n",
    "    --cache-type json --cache-path ./.proxywhirl_cache.json \\\n",
    "    --format csv_no_headers \\\n",
    "    --output ./socks5_proxies.csv \\\n",
    "    --overwrite \\\n",
    "    --schemes socks5\n",
    "\n",
    "echo -e \"\\nGenerated socks5_proxies.csv with first 5 rows:\"\n",
    "head -n 5 ./socks5_proxies.csv"
   ]
  },
  {
   "cell_type": "markdown",
   "id": "b8b7f7d8",
   "metadata": {},
   "source": [
    "#### TUI\n"
   ]
  },
  {
   "cell_type": "markdown",
   "id": "11653784",
   "metadata": {},
   "source": [
    "The TUI allows for interactive filtering and exporting of proxy lists.\n"
   ]
  },
  {
   "cell_type": "code",
   "execution_count": null,
   "id": "5c3ba55b",
   "metadata": {},
   "outputs": [],
   "source": [
    "%%bash\n",
    "\n",
    "# In the TUI, you can:\n",
    "# 1. Use the filter input to narrow down the proxy list.\n",
    "# 2. Press 'e' to open the export dialog.\n",
    "# 3. Select your desired format and options.\n",
    "# 4. The exported file will be saved to your current directory.\n",
    "#\n",
    "# To launch the TUI, run the command: proxywhirl tui\n",
    "echo \"Launch the TUI with 'proxywhirl tui' to use its interactive export features.\""
   ]
  },
  {
   "cell_type": "markdown",
   "id": "f5593145",
   "metadata": {},
   "source": [
    "---\n"
   ]
  },
  {
   "cell_type": "markdown",
   "id": "d4c74419",
   "metadata": {},
   "source": [
    "### Generate a Report\n"
   ]
  },
  {
   "cell_type": "markdown",
   "id": "d952e1be",
   "metadata": {},
   "source": [
    "#### Python API\n"
   ]
  },
  {
   "cell_type": "markdown",
   "id": "b28f2f90",
   "metadata": {},
   "source": [
    "Generate a comprehensive health report of all loaders, the cache, and the validator.\n"
   ]
  },
  {
   "cell_type": "code",
   "execution_count": null,
   "id": "cf93d571",
   "metadata": {},
   "outputs": [],
   "source": [
    "import asyncio\n",
    "\n",
    "async def generate_report():\n",
    "    # The report generation is an async method\n",
    "    report = await pw.generate_health_report()\n",
    "    logger.info(\"Generated ProxyWhirl Health Report:\")\n",
    "    print(report)\n",
    "\n",
    "# Run the async function\n",
    "asyncio.run(generate_report())"
   ]
  },
  {
   "cell_type": "markdown",
   "id": "5495516a",
   "metadata": {},
   "source": [
    "#### CLI\n"
   ]
  },
  {
   "cell_type": "markdown",
   "id": "4aa45b38",
   "metadata": {},
   "source": [
    "Use the health-report command to get a detailed status report directly in your terminal.\n"
   ]
  },
  {
   "cell_type": "code",
   "execution_count": null,
   "id": "52d3576c",
   "metadata": {},
   "outputs": [],
   "source": [
    "%%bash\n",
    "\n",
    "# Generate a health report and print it to the console\n",
    "proxywhirl health-report --cache-type json --cache-path ./.proxywhirl_cache.json"
   ]
  },
  {
   "cell_type": "markdown",
   "id": "9458a079",
   "metadata": {},
   "source": [
    "#### TUI\n"
   ]
  },
  {
   "cell_type": "markdown",
   "id": "7f3164ce",
   "metadata": {},
   "source": [
    "The TUI dashboard provides a real-time, visual representation of the system's health.\n"
   ]
  },
  {
   "cell_type": "code",
   "execution_count": null,
   "id": "173a11e8",
   "metadata": {},
   "outputs": [],
   "source": [
    "%%bash\n",
    "\n",
    "# In the TUI, the \"Health Monitor\" and \"Analytics\" tabs provide live insights\n",
    "# into loader performance, proxy quality distribution, and success rates,\n",
    "# offering a dynamic alternative to the static health report.\n",
    "#\n",
    "# To launch the TUI, run the command: proxywhirl tui\n",
    "echo \"Launch 'proxywhirl tui' to view the live health and analytics dashboard.\""
   ]
  },
  {
   "cell_type": "markdown",
   "id": "5449c55f",
   "metadata": {},
   "source": [
    "---\n"
   ]
  },
  {
   "cell_type": "markdown",
   "id": "d3ef5dfa",
   "metadata": {},
   "source": [
    "### Direct Validation & Listing\n"
   ]
  },
  {
   "cell_type": "markdown",
   "id": "0c8dfdc7",
   "metadata": {},
   "source": [
    "#### Python API\n"
   ]
  },
  {
   "cell_type": "markdown",
   "id": "cbbfeb81",
   "metadata": {},
   "source": [
    "You can explicitly validate all proxies in the cache and then list them to inspect their status.Generate a comprehensive health report of all loaders, the cache, and the validator.\n"
   ]
  },
  {
   "cell_type": "code",
   "execution_count": null,
   "id": "37852d66",
   "metadata": {},
   "outputs": [],
   "source": [
    "import asyncio\n",
    "\n",
    "async def validate_and_list():\n",
    "    logger.info(\"Starting explicit validation of all cached proxies...\")\n",
    "    \n",
    "    # Run validation on all proxies in the cache\n",
    "    summary = await pw.validate_proxies_async()\n",
    "    \n",
    "    logger.success(f\"Validation complete. Valid: {summary.valid_proxy_count}, Failed: {summary.failed_proxy_count}\")\n",
    "    logger.info(f\"Overall Success Rate: {summary.success_rate:.1%}\")\n",
    "    \n",
    "    # List the updated proxies from the cache\n",
    "    updated_proxies = pw.list_proxies()\n",
    "    logger.info(f\"Listing top 5 proxies post-validation:\")\n",
    "    for p in updated_proxies[:5]:\n",
    "        status = \"✅ Active\" if p.status == \"active\" else \"❌ Inactive\"\n",
    "        logger.info(f\"- {p.host}:{p.port} | Status: {status} | Quality: {p.intelligent_quality_score:.2f}\")\n",
    "\n",
    "# Run the async function\n",
    "asyncio.run(validate_and_list())"
   ]
  },
  {
   "cell_type": "markdown",
   "id": "e38bf4e3",
   "metadata": {},
   "source": [
    "#### CLI\n"
   ]
  },
  {
   "cell_type": "markdown",
   "id": "e4a0ae08",
   "metadata": {},
   "source": [
    "Use the `validate` and `list` commands to manage and inspect your proxy cache from the terminal.\n"
   ]
  },
  {
   "cell_type": "code",
   "execution_count": null,
   "id": "74cb229d",
   "metadata": {},
   "outputs": [],
   "source": [
    "%%bash\n",
    "\n",
    "# Run validation on the entire JSON cache\n",
    "echo \"--- Running Validation ---\"\n",
    "proxywhirl validate --cache-type json --cache-path ./.proxywhirl_cache.json --interactive false\n",
    "\n",
    "# List the top 5 proxies after validation in a table\n",
    "echo -e \"\\n--- Listing Top 5 Proxies (Table) ---\"\n",
    "proxywhirl list --cache-type json --cache-path ./.proxywhirl_cache.json --limit 5\n",
    "\n",
    "# List all proxies (including unhealthy) in JSON format\n",
    "echo -e \"\\n--- Listing All Proxies (JSON) ---\"\n",
    "proxywhirl list --cache-type json --cache-path ./.proxywhirl_cache.json --healthy-only false --json"
   ]
  },
  {
   "cell_type": "markdown",
   "id": "f5ad3659",
   "metadata": {},
   "source": [
    "#### TUI\n"
   ]
  },
  {
   "cell_type": "markdown",
   "id": "8bf6029c",
   "metadata": {},
   "source": [
    "The TUI provides interactive buttons and keybindings for validation and real-time list updates.\n"
   ]
  },
  {
   "cell_type": "code",
   "execution_count": null,
   "id": "f4f97eff",
   "metadata": {},
   "outputs": [],
   "source": [
    "%%bash\n",
    "\n",
    "# In the TUI:\n",
    "# 1. Press 'v' or click the \"Validate All\" button to start a full validation.\n",
    "# 2. The proxy table will update in real-time with status changes.\n",
    "# 3. Use the filter bar to dynamically search and inspect proxies.\n",
    "#\n",
    "# To launch the TUI, run the command: proxywhirl tui\n",
    "echo \"Launch 'proxywhirl tui' for interactive validation and live-updating proxy lists.\""
   ]
  },
  {
   "cell_type": "markdown",
   "id": "c12a0b7f",
   "metadata": {},
   "source": [
    "---\n"
   ]
  },
  {
   "cell_type": "markdown",
   "id": "cc881811",
   "metadata": {},
   "source": [
    "### Advanced Configuration\n"
   ]
  },
  {
   "cell_type": "markdown",
   "id": "ea8fcc4a",
   "metadata": {},
   "source": [
    "#### Python API\n"
   ]
  },
  {
   "cell_type": "markdown",
   "id": "4e747010",
   "metadata": {},
   "source": [
    "Configure `ProxyWhirl` to use persistent caches like JSON or SQLite for sharing proxies between runs or processes.You can explicitly validate all proxies in the cache and then list them to inspect their status.\n"
   ]
  },
  {
   "cell_type": "code",
   "execution_count": null,
   "id": "fd0ace68",
   "metadata": {},
   "outputs": [],
   "source": [
    "from pathlib import Path\n",
    "\n",
    "# --- JSON Cache Example ---\n",
    "json_cache_path = Path(\"./persistent_proxies.json\")\n",
    "pw_json = ProxyWhirl(\n",
    "    cache_type=CacheType.JSON,\n",
    "    cache_path=json_cache_path\n",
    ")\n",
    "# Proxies fetched with this instance will be saved to persistent_proxies.json\n",
    "pw_json.fetch_proxies()\n",
    "logger.success(f\"Fetched and saved {pw_json.get_proxy_count()} proxies to {json_cache_path}\")\n",
    "\n",
    "\n",
    "# --- SQLite Cache Example ---\n",
    "# The SQLite cache offers advanced analytics and performance.\n",
    "sqlite_cache_path = Path(\"./persistent_proxies.sqlite\")\n",
    "pw_sqlite = ProxyWhirl(\n",
    "    cache_type=CacheType.SQLITE,\n",
    "    cache_path=sqlite_cache_path\n",
    ")\n",
    "pw_sqlite.fetch_proxies()\n",
    "logger.success(f\"Fetched and saved {pw_sqlite.get_proxy_count()} proxies to {sqlite_cache_path}\")\n",
    "\n",
    "# You can register custom loaders or use a subset of the default ones\n",
    "from proxywhirl.loaders import ProxyScrapeLoader, UserProvidedLoader\n",
    "\n",
    "# Example with a user-provided list\n",
    "my_proxies = [\n",
    "    {\"host\": \"1.1.1.1\", \"port\": 80, \"protocol\": \"http\"},\n",
    "    {\"host\": \"8.8.8.8\", \"port\": 443, \"protocol\": \"https\"}\n",
    "]\n",
    "\n",
    "# Instantiate ProxyWhirl (it starts with default loaders)\n",
    "pw_custom = ProxyWhirl()\n",
    "\n",
    "# Register a new loader instance\n",
    "pw_custom.register_custom_loader(UserProvidedLoader(my_proxies))\n",
    "logger.info(f\"Registered a custom loader. Total loaders: {len(pw_custom.loaders)}\")"
   ]
  },
  {
   "cell_type": "markdown",
   "id": "b8675c94",
   "metadata": {},
   "source": [
    "#### CLI\n"
   ]
  },
  {
   "cell_type": "markdown",
   "id": "197cdd81",
   "metadata": {},
   "source": [
    "Use the `validate` and `list` commands to manage and inspect your proxy cache from the terminal.\n"
   ]
  },
  {
   "cell_type": "code",
   "execution_count": null,
   "id": "b40d76e5",
   "metadata": {},
   "outputs": [],
   "source": [
    "%%bash\n",
    "\n",
    "# Run validation on the entire JSON cache\n",
    "echo \"--- Running Validation ---\"\n",
    "proxywhirl validate --cache-type json --cache-path ./.proxywhirl_cache.json --interactive false\n",
    "\n",
    "# List the top 5 proxies after validation in a table\n",
    "echo -e \"\\n--- Listing Top 5 Proxies (Table) ---\"\n",
    "proxywhirl list --cache-type json --cache-path ./.proxywhirl_cache.json --limit 5\n",
    "\n",
    "# List all proxies (including unhealthy) in JSON format\n",
    "echo -e \"\\n--- Listing All Proxies (JSON) ---\"\n",
    "proxywhirl list --cache-type json --cache-path ./.proxywhirl_cache.json --healthy-only false --json"
   ]
  },
  {
   "cell_type": "markdown",
   "id": "9ac6b5c3",
   "metadata": {},
   "source": [
    "#### TUI\n"
   ]
  },
  {
   "cell_type": "markdown",
   "id": "f1c6adfb",
   "metadata": {},
   "source": [
    "The TUI provides interactive buttons and keybindings for validation and real-time list updates.\n"
   ]
  },
  {
   "cell_type": "code",
   "execution_count": null,
   "id": "c675db6c",
   "metadata": {},
   "outputs": [],
   "source": [
    "%%bash\n",
    "\n",
    "# In the TUI:\n",
    "# 1. Press 'v' or click the \"Validate All\" button to start a full validation.\n",
    "# 2. The proxy table will update in real-time with status changes.\n",
    "# 3. Use the filter bar to dynamically search and inspect proxies.\n",
    "#\n",
    "# To launch the TUI, run the command: proxywhirl tui\n",
    "echo \"Launch 'proxywhirl tui' for interactive validation and live-updating proxy lists.\""
   ]
  },
  {
   "cell_type": "markdown",
   "id": "4d7bb138",
   "metadata": {},
   "source": []
  }
 ],
 "metadata": {
  "kernelspec": {
   "display_name": "proxywhirl (3.13.1)",
   "language": "python",
   "name": "python3"
  },
  "language_info": {
   "codemirror_mode": {
    "name": "ipython",
    "version": 3
   },
   "file_extension": ".py",
   "mimetype": "text/x-python",
   "name": "python",
   "nbconvert_exporter": "python",
   "pygments_lexer": "ipython3",
   "version": "3.13.1"
  }
 },
 "nbformat": 4,
 "nbformat_minor": 5
}
