{
 "cells": [
  {
   "cell_type": "markdown",
   "id": "bdedfe5d",
   "metadata": {},
   "source": [
    "\n",
    "<style>\n",
    "/* ------------------------------------------------------------------\n",
    "   proxywhirl — Header \"Rotating Proxy • Luminous Brand Text\"\n",
    "   STYLE-ONLY (plus lighter wording): Title trimmed, subtitle fresh.\n",
    "   - Unified brand text for <code>…</code> (title & subtitle)\n",
    "   - High-contrast gradient type, glossy highlight, data-stream underline\n",
    "   - Rotating relay rings & faint network grid in the background\n",
    "   - Dark-mode tuned, motion-respectful\n",
    "-------------------------------------------------------------------*/\n",
    "\n",
    "/* Fonts */\n",
    "@import url('https://fonts.googleapis.com/css2?family=Inter:wght@400;600;800&family=JetBrains+Mono:wght@600;700&display=swap');\n",
    "\n",
    "/* ===========================================================\n",
    "   Theme Tokens\n",
    "=========================================================== */\n",
    ":root{\n",
    "  /* Accents (no #6a9fb5) */\n",
    "  --pw-accent:   #8b5cf6; /* violet-500 */\n",
    "  --pw-accent-2: #22d3ee; /* cyan-400  */\n",
    "  --pw-accent-3: #f59e0b; /* amber-500 */\n",
    "  --pw-accent-4: #ef4444; /* red-500   */\n",
    "\n",
    "  /* Foreground */\n",
    "  --pw-text:   #0f172a;   /* slate-900 */\n",
    "  --pw-subtle: #334155;   /* slate-600 */\n",
    "\n",
    "  /* Surfaces */\n",
    "  --pw-card:   rgba(255, 255, 255, 0.78);\n",
    "  --pw-border: rgba(148, 163, 184, 0.26);\n",
    "  --pw-shadow: 0 18px 56px rgba(2, 6, 23, 0.18), 0 6px 16px rgba(2, 6, 23, 0.10);\n",
    "\n",
    "  /* FX */\n",
    "  --pw-radius: 22px;\n",
    "  --pw-blur:   12px;\n",
    "  --pw-sat:    1.20;\n",
    "\n",
    "  /* Brand gradient */\n",
    "  --brand-grad: linear-gradient(90deg,\n",
    "    var(--pw-accent),\n",
    "    var(--pw-accent-2),\n",
    "    var(--pw-accent-3),\n",
    "    var(--pw-accent-4),\n",
    "    var(--pw-accent));\n",
    "\n",
    "  /* Ring sizing */\n",
    "  --ring-size: min(56vmin, 520px);\n",
    "  --ring-thick: 10px;\n",
    "}\n",
    "\n",
    "@media (prefers-color-scheme: dark){\n",
    "  :root{\n",
    "    --pw-text:   #e2e8f0;  /* slate-200 */\n",
    "    --pw-subtle: #94a3b8;  /* slate-400 */\n",
    "    --pw-card:   rgba(2, 6, 23, 0.64);\n",
    "    --pw-border: rgba(148, 163, 184, 0.20);\n",
    "    --pw-shadow: 0 22px 60px rgba(0,0,0,.55), 0 8px 20px rgba(0,0,0,.35);\n",
    "  }\n",
    "}\n",
    "\n",
    "/* ===========================================================\n",
    "   Motion & Micro-Effects\n",
    "=========================================================== */\n",
    "@keyframes float{0%,100%{transform:translateY(0)}50%{transform:translateY(-6px)}}\n",
    "@keyframes fadeInUp{from{opacity:0;transform:translateY(10px)}to{opacity:1;transform:translateY(0)}}\n",
    "@keyframes shimmer{0%{background-position:0% 50%}100%{background-position:220% 50%}}\n",
    "@keyframes spinCW{to{transform:rotate(360deg)}}\n",
    "@keyframes spinCCW{to{transform:rotate(-360deg)}}\n",
    "@keyframes scanlines{0%{background-position:0 0,0 0}100%{background-position:0 40px,0 0}}\n",
    "@keyframes dataFlow{0%{background-position:0 0,0 0}100%{background-position:200% 0,0 0}}\n",
    "@keyframes chromaPulse{\n",
    "  0%,100%{filter:drop-shadow(0 8px 20px rgba(139,92,246,.20))}\n",
    "  50%{filter:drop-shadow(0 10px 24px rgba(34,211,238,.26))}\n",
    "}\n",
    "\n",
    "/* ===========================================================\n",
    "   Container\n",
    "=========================================================== */\n",
    "div[align='center']{\n",
    "  font-family:'Inter',ui-sans-serif,system-ui,-apple-system,Segoe UI,Roboto,Helvetica,Arial,\"Apple Color Emoji\",\"Segoe UI Emoji\";\n",
    "  max-width:980px;\n",
    "  margin:46px auto 26px;\n",
    "  padding:42px 34px 26px;\n",
    "  color:var(--pw-text);\n",
    "\n",
    "  border:1px solid transparent;\n",
    "  border-radius:var(--pw-radius);\n",
    "  background:\n",
    "    linear-gradient(180deg,var(--pw-card),var(--pw-card)) padding-box,\n",
    "    linear-gradient(118deg,\n",
    "      rgba(139,92,246,0.60),\n",
    "      rgba(34,211,238,0.48),\n",
    "      rgba(245,158,11,0.48),\n",
    "      rgba(239,68,68,0.42)) border-box;\n",
    "  box-shadow:var(--pw-shadow);\n",
    "\n",
    "  position:relative;\n",
    "  overflow:hidden;\n",
    "  isolation:isolate;\n",
    "  backdrop-filter:blur(var(--pw-blur)) saturate(calc(var(--pw-sat) * 115%));\n",
    "  -webkit-backdrop-filter:blur(var(--pw-blur)) saturate(calc(var(--pw-sat) * 115%));\n",
    "  animation:fadeInUp .55s ease-out both;\n",
    "  text-rendering:geometricPrecision;\n",
    "  -webkit-font-smoothing:antialiased;\n",
    "}\n",
    "\n",
    "/* Background layers: aurora + faint grid */\n",
    "div[align='center']::before,\n",
    "div[align='center']::after{\n",
    "  content:\"\";\n",
    "  position:absolute;\n",
    "  inset:-1px;\n",
    "  pointer-events:none;\n",
    "  z-index:-1;\n",
    "}\n",
    "div[align='center']::before{\n",
    "  background:\n",
    "    radial-gradient(1100px 520px at 50% -18%, rgba(139,92,246,0.22), transparent 58%),\n",
    "    radial-gradient(1000px 480px at 50% 118%, rgba(34,211,238,0.16), transparent 55%),\n",
    "    radial-gradient(1200px 460px at -8% 40%, rgba(239,68,68,0.12), transparent 60%),\n",
    "    radial-gradient(1100px 440px at 108% 60%, rgba(245,158,11,0.12), transparent 60%),\n",
    "    repeating-linear-gradient(0deg, rgba(148,163,184,0.06) 0 1px, transparent 1px 28px),\n",
    "    repeating-linear-gradient(90deg, rgba(148,163,184,0.05) 0 1px, transparent 1px 28px);\n",
    "  animation: scanlines 16s linear infinite;\n",
    "  background-size:auto,auto,auto,auto, auto 40px, 40px auto;\n",
    "}\n",
    "\n",
    "/* Conic wash */\n",
    "div[align='center']::after{\n",
    "  background:conic-gradient(from 160deg at 50% 50%,\n",
    "    rgba(139,92,246,0.28),\n",
    "    rgba(34,211,238,0.28),\n",
    "    rgba(245,158,11,0.28),\n",
    "    rgba(139,92,246,0.28));\n",
    "  -webkit-mask:radial-gradient(closest-side, rgba(255,255,255,0.32), transparent 72%);\n",
    "  mask:radial-gradient(closest-side, rgba(255,255,255,0.32), transparent 72%);\n",
    "  filter:blur(22px);\n",
    "  opacity:.55;\n",
    "}\n",
    "\n",
    "/* ===========================================================\n",
    "   Rotating Proxy Rings (behind the title)\n",
    "=========================================================== */\n",
    "@supports (mask:radial-gradient(black, transparent)){\n",
    "  div[align='center'] h1{position:relative; text-wrap:balance}\n",
    "  div[align='center'] h1::before,\n",
    "  div[align='center'] h1::after{\n",
    "    content:\"\";\n",
    "    position:absolute;\n",
    "    left:50%;\n",
    "    top:calc(-1 * (var(--ring-size) * 0.62));\n",
    "    width:var(--ring-size);\n",
    "    height:var(--ring-size);\n",
    "    transform:translateX(-50%);\n",
    "    pointer-events:none;\n",
    "    z-index:-1;\n",
    "  }\n",
    "  /* Outer dashed ring */\n",
    "  div[align='center'] h1::before{\n",
    "    background:\n",
    "      conic-gradient(from 0deg,\n",
    "        rgba(255,255,255,0.0) 0 10deg,\n",
    "        rgba(255,255,255,0.85) 10deg 12deg,\n",
    "        rgba(255,255,255,0.0) 12deg 22deg) 50%/100% 100% no-repeat,\n",
    "      var(--brand-grad);\n",
    "    -webkit-mask:\n",
    "      radial-gradient(circle, transparent calc(50% - var(--ring-thick)), #000 calc(50% - var(--ring-thick) + 1px)) intersect,\n",
    "      radial-gradient(circle, #000 52%, transparent 52.3%);\n",
    "    mask:\n",
    "      radial-gradient(circle, transparent calc(50% - var(--ring-thick)), #000 calc(50% - var(--ring-thick) + 1px)) intersect,\n",
    "      radial-gradient(circle, #000 52%, transparent 52.3%);\n",
    "    border-radius:50%;\n",
    "    box-shadow:0 0 28px rgba(139,92,246,0.25), inset 0 0 24px rgba(34,211,238,0.18);\n",
    "    animation:spinCW 26s linear infinite;\n",
    "  }\n",
    "  /* Inner dotted ring */\n",
    "  div[align='center'] h1::after{\n",
    "    width:calc(var(--ring-size) * 0.74);\n",
    "    height:calc(var(--ring-size) * 0.74);\n",
    "    top:calc(-1 * (var(--ring-size) * 0.50));\n",
    "    background:\n",
    "      radial-gradient(circle at 50% 0%, rgba(255,255,255,0.95) 0 3px, transparent 3.5px) 50% 50%/6px 6px repeat,\n",
    "      var(--brand-grad);\n",
    "    -webkit-mask:\n",
    "      radial-gradient(circle, transparent calc(50% - (var(--ring-thick) * .75)), #000 calc(50% - (var(--ring-thick) * .75) + 1px)) intersect,\n",
    "      radial-gradient(circle, #000 52%, transparent 52.2%);\n",
    "    mask:\n",
    "      radial-gradient(circle, transparent calc(50% - (var(--ring-thick) * .75)), #000 calc(50% - (var(--ring-thick) * .75) + 1px)) intersect,\n",
    "      radial-gradient(circle, #000 52%, transparent 52.2%);\n",
    "    border-radius:50%;\n",
    "    filter:drop-shadow(0 0 14px rgba(34,211,238,0.28));\n",
    "    animation:spinCCW 18s linear infinite;\n",
    "  }\n",
    "}\n",
    "\n",
    "/* ===========================================================\n",
    "   Logo\n",
    "=========================================================== */\n",
    "div[align='center'] img{\n",
    "  display:block;\n",
    "  margin:12px auto 14px;\n",
    "  transform-origin:center;\n",
    "  animation:float 6s ease-in-out infinite;\n",
    "  filter:drop-shadow(0 12px 30px rgba(139,92,246,0.34));\n",
    "}\n",
    "\n",
    "/* ===========================================================\n",
    "   Title & Subtitle\n",
    "=========================================================== */\n",
    "div[align='center'] h1{\n",
    "  margin:12px 0 10px;\n",
    "  font-weight:800;\n",
    "  font-size:clamp(32px, 3.6vw, 48px);\n",
    "  letter-spacing:-0.02em;\n",
    "  line-height:1.16;\n",
    "  color:var(--pw-text);\n",
    "}\n",
    "div[align='center'] p{\n",
    "  margin:6px 0 18px;\n",
    "  color:var(--pw-subtle);\n",
    "  font-size:clamp(13px, 1.6vw, 16px);\n",
    "  letter-spacing:0.01em;\n",
    "  animation:fadeInUp .65s ease-out both .05s;\n",
    "}\n",
    "\n",
    "/* ===========================================================\n",
    "   UNIFIED BRAND TEXT — <code>…</code> (title & subtitle)\n",
    "   SAME DESIGN • title = larger/stronger\n",
    "=========================================================== */\n",
    "div[align='center'] h1 code,\n",
    "div[align='center'] p code{\n",
    "  position:relative;\n",
    "  display:inline-block;\n",
    "  vertical-align:middle;\n",
    "\n",
    "  font-family:'JetBrains Mono',ui-monospace,SFMono-Regular,Menlo,Consolas,\"Liberation Mono\",monospace;\n",
    "  letter-spacing:.0065em;\n",
    "\n",
    "  background:var(--brand-grad);\n",
    "  background-size:260% 100%;\n",
    "  background-clip:text;\n",
    "  -webkit-background-clip:text;\n",
    "  color:transparent;\n",
    "  -webkit-text-fill-color:transparent;\n",
    "  animation:shimmer 12s linear infinite;\n",
    "\n",
    "  -webkit-text-stroke:.012em rgba(2,6,23,.40);\n",
    "  text-shadow:\n",
    "    0 .8px 0 rgba(255,255,255,.18),\n",
    "    0 2px 10px rgba(139,92,246,.22),\n",
    "    0 8px 22px rgba(34,211,238,.12),\n",
    "    0.6px 0 rgba(239,68,68,.10),\n",
    "   -0.6px 0 rgba(34,211,238,.10);\n",
    "  filter:saturate(1.12);\n",
    "  transform:translateZ(0);\n",
    "}\n",
    "div[align='center'] h1 code{\n",
    "  font-weight:800;\n",
    "  -webkit-text-stroke-width:.020em;\n",
    "  animation:shimmer 11s linear infinite, chromaPulse 4.6s ease-in-out infinite;\n",
    "}\n",
    "div[align='center'] p code{\n",
    "  font-weight:700;\n",
    "  -webkit-text-stroke-width:.014em;\n",
    "}\n",
    "\n",
    "/* Gloss highlight (both) */\n",
    "div[align='center'] h1 code::before,\n",
    "div[align='center'] p code::before{\n",
    "  content:\"\";\n",
    "  position:absolute; inset:-6% -8%;\n",
    "  border-radius:10px;\n",
    "  background:\n",
    "    linear-gradient(120deg,\n",
    "      rgba(255,255,255,0.00) 35%,\n",
    "      rgba(255,255,255,0.20) 48%,\n",
    "      rgba(255,255,255,0.00) 62%);\n",
    "  mix-blend-mode:screen;\n",
    "  opacity:.65;\n",
    "  filter:blur(2px);\n",
    "  pointer-events:none;\n",
    "}\n",
    "\n",
    "/* Data-stream underline (both) */\n",
    "div[align='center'] h1 code::after,\n",
    "div[align='center'] p code::after{\n",
    "  content:\"\";\n",
    "  position:absolute;\n",
    "  left:-2%;\n",
    "  right:-2%;\n",
    "  bottom:-.18em;\n",
    "  height:2px;\n",
    "  border-radius:999px;\n",
    "  background:\n",
    "    linear-gradient(90deg,\n",
    "      rgba(255,255,255,.0) 0%,\n",
    "      rgba(255,255,255,.85) 8%,\n",
    "      rgba(255,255,255,.0) 16%) 0 0/140px 100% repeat-x,\n",
    "    var(--brand-grad);\n",
    "  opacity:.9;\n",
    "  animation:dataFlow 2.4s linear infinite, shimmer 12s linear infinite;\n",
    "  mix-blend-mode:screen;\n",
    "  pointer-events:none;\n",
    "}\n",
    "\n",
    "/* Hover micro-lift */\n",
    "@media (hover:hover) and (pointer:fine){\n",
    "  div[align='center'] h1 code:hover,\n",
    "  div[align='center'] p code:hover{\n",
    "    transform:translateY(-1px);\n",
    "    text-shadow:\n",
    "      0 .8px 0 rgba(255,255,255,.22),\n",
    "      0 4px 18px rgba(139,92,246,.38),\n",
    "      0 16px 32px rgba(34,211,238,.18),\n",
    "      0.6px 0 rgba(239,68,68,.18),\n",
    "     -0.6px 0 rgba(34,211,238,.18);\n",
    "  }\n",
    "}\n",
    "\n",
    "/* Selection colors */\n",
    "div[align='center'] code::selection{\n",
    "  background:rgba(139,92,246,.25);\n",
    "  -webkit-text-fill-color:#fff;\n",
    "}\n",
    "div[align='center'] ::selection{\n",
    "  background:rgba(34,211,238,.18);\n",
    "}\n",
    "\n",
    "/* ===========================================================\n",
    "   Divider — prism ribbon\n",
    "=========================================================== */\n",
    "div[align='center'] hr{\n",
    "  height:2px;border:0;margin-top:22px;\n",
    "  background:linear-gradient(90deg,transparent,\n",
    "    rgba(139,92,246,.82),\n",
    "    rgba(34,211,238,.82),\n",
    "    rgba(245,158,11,.82),\n",
    "    transparent);\n",
    "  border-radius:999px;\n",
    "  position:relative;\n",
    "  animation:fadeInUp .75s ease-out both .1s;\n",
    "}\n",
    "div[align='center'] hr::after{\n",
    "  content:\"\";\n",
    "  position:absolute;inset:-8px 0 0 0;\n",
    "  background:radial-gradient(600px 30px at 50% 0%, rgba(139,92,246,.36), transparent 60%);\n",
    "  filter:blur(10px);pointer-events:none;\n",
    "}\n",
    "\n",
    "/* ===========================================================\n",
    "   A11y — Respect motion preferences\n",
    "=========================================================== */\n",
    "@media (prefers-reduced-motion: reduce){\n",
    "  *{animation:none !important; transition:none !important}\n",
    "}\n",
    "</style>\n",
    "\n",
    "<div align='center'>\n",
    "  <img src=\"./docs/public/img/icon.svg\" width=\"15%\"/>\n",
    "  <h1><code>proxywhirl</code> Examples</h1>\n",
    "  <p>Practical usage demos for <code>proxywhirl</code></p>\n",
    "  <hr/>\n",
    "</div>"
   ]
  },
  {
   "cell_type": "markdown",
   "id": "5492d212",
   "metadata": {},
   "source": [
    "---"
   ]
  },
  {
   "cell_type": "markdown",
   "id": "54bbfcd6",
   "metadata": {},
   "source": [
    "## Setup"
   ]
  },
  {
   "cell_type": "markdown",
   "id": "60435e15",
   "metadata": {},
   "source": [
    "### Notebook Setup"
   ]
  },
  {
   "cell_type": "code",
   "execution_count": 1,
   "id": "50ca7de9",
   "metadata": {},
   "outputs": [
    {
     "name": "stdout",
     "output_type": "stream",
     "text": [
      "The autoreload extension is already loaded. To reload it, use:\n",
      "  %reload_ext autoreload\n"
     ]
    }
   ],
   "source": [
    "# uncomment if in active developent for hot reload\n",
    "%load_ext autoreload\n",
    "%aimport proxywhirl\n",
    "%autoreload 1"
   ]
  },
  {
   "cell_type": "markdown",
   "id": "caf5fe4d",
   "metadata": {},
   "source": [
    "### Project Setup"
   ]
  },
  {
   "cell_type": "code",
   "execution_count": 3,
   "id": "c5130e10",
   "metadata": {},
   "outputs": [
    {
     "name": "stdout",
     "output_type": "stream",
     "text": [
      "\u001b[36mSetting up Python environment...\u001b[0m\n",
      "uv venv && source .venv/bin/activate\n"
     ]
    },
    {
     "name": "stderr",
     "output_type": "stream",
     "text": [
      "Using CPython \u001b[36m3.13.1\u001b[39m\n",
      "Creating virtual environment at: \u001b[36m.venv\u001b[39m\n",
      "\u001b[1m\u001b[33mwarning\u001b[39m\u001b[0m\u001b[1m:\u001b[0m \u001b[1mA virtual environment already exists at `.venv`. In the future, uv will require `\u001b[32m--clear\u001b[39m` to replace it\u001b[0m\n",
      "Activate with: \u001b[32msource .venv/bin/activate\u001b[39m\n"
     ]
    },
    {
     "name": "stdout",
     "output_type": "stream",
     "text": [
      "\u001b[36mSyncing all dependencies...\u001b[0m\n",
      "uv sync --all-groups\n"
     ]
    },
    {
     "name": "stderr",
     "output_type": "stream",
     "text": [
      "\u001b[1m\u001b[33mwarning\u001b[39m\u001b[0m\u001b[1m:\u001b[0m \u001b[1mSkipping installation of entry points (`project.scripts`) because this project is not packaged; to install entry points, set `tool.uv.package = true` or define a `build-system`\u001b[0m\n",
      "\u001b[2mResolved \u001b[1m228 packages\u001b[0m \u001b[2min 16ms\u001b[0m\u001b[0m\n",
      "\u001b[2mAudited \u001b[1m222 packages\u001b[0m \u001b[2min 0.16ms\u001b[0m\u001b[0m\n"
     ]
    },
    {
     "name": "stdout",
     "output_type": "stream",
     "text": [
      "\u001b[32m✓ Environment setup complete\u001b[0m\n",
      "\u001b[33mActivate with: source .venv/bin/activate\u001b[0m\n"
     ]
    }
   ],
   "source": [
    "%%bash\n",
    "\n",
    "make install"
   ]
  },
  {
   "cell_type": "markdown",
   "id": "08e23b8a",
   "metadata": {},
   "source": [
    "---"
   ]
  },
  {
   "cell_type": "markdown",
   "id": "eab9e3e2",
   "metadata": {},
   "source": [
    "## Python API"
   ]
  },
  {
   "cell_type": "code",
   "execution_count": 4,
   "id": "a6f2ee1d",
   "metadata": {},
   "outputs": [
    {
     "data": {
      "text/html": [
       "<pre style=\"white-space:pre;overflow-x:auto;line-height:normal;font-family:Menlo,'DejaVu Sans Mono',consolas,'Courier New',monospace\"><span style=\"color: #7fbfbf; text-decoration-color: #7fbfbf\">[08/24/25 08:06:50] </span><span style=\"color: #008080; text-decoration-color: #008080\">INFO    </span> Enhanced ProxyValidator initialized with %d test URLs and %d targets  <a href=\"file:///Users/ww/dev/projects/proxywhirl/proxywhirl/validator.py\" target=\"_blank\"><span style=\"color: #7f7f7f; text-decoration-color: #7f7f7f\">validator.py</span></a><span style=\"color: #7f7f7f; text-decoration-color: #7f7f7f\">:</span><a href=\"file:///Users/ww/dev/projects/proxywhirl/proxywhirl/validator.py#305\" target=\"_blank\"><span style=\"color: #7f7f7f; text-decoration-color: #7f7f7f\">305</span></a>\n",
       "</pre>\n"
      ],
      "text/plain": [
       "\u001b[2;36m[08/24/25 08:06:50]\u001b[0m\u001b[2;36m \u001b[0m\u001b[36mINFO    \u001b[0m Enhanced ProxyValidator initialized with %d test URLs and %d targets  \u001b]8;id=424059;file:///Users/ww/dev/projects/proxywhirl/proxywhirl/validator.py\u001b\\\u001b[2mvalidator.py\u001b[0m\u001b]8;;\u001b\\\u001b[2m:\u001b[0m\u001b]8;id=315909;file:///Users/ww/dev/projects/proxywhirl/proxywhirl/validator.py#305\u001b\\\u001b[2m305\u001b[0m\u001b]8;;\u001b\\\n"
      ]
     },
     "metadata": {},
     "output_type": "display_data"
    },
    {
     "data": {
      "text/html": [
       "<pre style=\"white-space:pre;overflow-x:auto;line-height:normal;font-family:Menlo,'DejaVu Sans Mono',consolas,'Courier New',monospace\"><span style=\"color: #7fbfbf; text-decoration-color: #7fbfbf\">                    </span><span style=\"color: #008080; text-decoration-color: #008080\">INFO    </span> Created <span style=\"color: #008080; text-decoration-color: #008080; font-weight: bold\">8</span> proxy loaders                                              <a href=\"file:///Users/ww/dev/projects/proxywhirl/proxywhirl/proxywhirl.py\" target=\"_blank\"><span style=\"color: #7f7f7f; text-decoration-color: #7f7f7f\">proxywhirl.py</span></a><span style=\"color: #7f7f7f; text-decoration-color: #7f7f7f\">:</span><a href=\"file:///Users/ww/dev/projects/proxywhirl/proxywhirl/proxywhirl.py#283\" target=\"_blank\"><span style=\"color: #7f7f7f; text-decoration-color: #7f7f7f\">283</span></a>\n",
       "</pre>\n"
      ],
      "text/plain": [
       "\u001b[2;36m                   \u001b[0m\u001b[2;36m \u001b[0m\u001b[36mINFO    \u001b[0m Created \u001b[1;36m8\u001b[0m proxy loaders                                              \u001b]8;id=562736;file:///Users/ww/dev/projects/proxywhirl/proxywhirl/proxywhirl.py\u001b\\\u001b[2mproxywhirl.py\u001b[0m\u001b]8;;\u001b\\\u001b[2m:\u001b[0m\u001b]8;id=202320;file:///Users/ww/dev/projects/proxywhirl/proxywhirl/proxywhirl.py#283\u001b\\\u001b[2m283\u001b[0m\u001b]8;;\u001b\\\n"
      ]
     },
     "metadata": {},
     "output_type": "display_data"
    },
    {
     "data": {
      "text/html": [
       "<pre style=\"white-space:pre;overflow-x:auto;line-height:normal;font-family:Menlo,'DejaVu Sans Mono',consolas,'Courier New',monospace\"><span style=\"color: #7fbfbf; text-decoration-color: #7fbfbf\">                    </span><span style=\"color: #008080; text-decoration-color: #008080\">INFO    </span> ProxyWhirl initialized with memory cache and round_robin rotation    <a href=\"file:///Users/ww/dev/projects/proxywhirl/proxywhirl/proxywhirl.py\" target=\"_blank\"><span style=\"color: #7f7f7f; text-decoration-color: #7f7f7f\">proxywhirl.py</span></a><span style=\"color: #7f7f7f; text-decoration-color: #7f7f7f\">:</span><a href=\"file:///Users/ww/dev/projects/proxywhirl/proxywhirl/proxywhirl.py#234\" target=\"_blank\"><span style=\"color: #7f7f7f; text-decoration-color: #7f7f7f\">234</span></a>\n",
       "</pre>\n"
      ],
      "text/plain": [
       "\u001b[2;36m                   \u001b[0m\u001b[2;36m \u001b[0m\u001b[36mINFO    \u001b[0m ProxyWhirl initialized with memory cache and round_robin rotation    \u001b]8;id=886601;file:///Users/ww/dev/projects/proxywhirl/proxywhirl/proxywhirl.py\u001b\\\u001b[2mproxywhirl.py\u001b[0m\u001b]8;;\u001b\\\u001b[2m:\u001b[0m\u001b]8;id=886498;file:///Users/ww/dev/projects/proxywhirl/proxywhirl/proxywhirl.py#234\u001b\\\u001b[2m234\u001b[0m\u001b]8;;\u001b\\\n"
      ]
     },
     "metadata": {},
     "output_type": "display_data"
    },
    {
     "data": {
      "text/html": [
       "<pre style=\"white-space:pre;overflow-x:auto;line-height:normal;font-family:Menlo,'DejaVu Sans Mono',consolas,'Courier New',monospace\"><span style=\"color: #7fbfbf; text-decoration-color: #7fbfbf\">                    </span><span style=\"color: #008080; text-decoration-color: #008080\">INFO    </span> Cache is empty, auto-fetching proxies for proxy request<span style=\"color: #808000; text-decoration-color: #808000\">...</span>           <a href=\"file:///Users/ww/dev/projects/proxywhirl/proxywhirl/proxywhirl.py\" target=\"_blank\"><span style=\"color: #7f7f7f; text-decoration-color: #7f7f7f\">proxywhirl.py</span></a><span style=\"color: #7f7f7f; text-decoration-color: #7f7f7f\">:</span><a href=\"file:///Users/ww/dev/projects/proxywhirl/proxywhirl/proxywhirl.py#625\" target=\"_blank\"><span style=\"color: #7f7f7f; text-decoration-color: #7f7f7f\">625</span></a>\n",
       "</pre>\n"
      ],
      "text/plain": [
       "\u001b[2;36m                   \u001b[0m\u001b[2;36m \u001b[0m\u001b[36mINFO    \u001b[0m Cache is empty, auto-fetching proxies for proxy request\u001b[33m...\u001b[0m           \u001b]8;id=965310;file:///Users/ww/dev/projects/proxywhirl/proxywhirl/proxywhirl.py\u001b\\\u001b[2mproxywhirl.py\u001b[0m\u001b]8;;\u001b\\\u001b[2m:\u001b[0m\u001b]8;id=960511;file:///Users/ww/dev/projects/proxywhirl/proxywhirl/proxywhirl.py#625\u001b\\\u001b[2m625\u001b[0m\u001b]8;;\u001b\\\n"
      ]
     },
     "metadata": {},
     "output_type": "display_data"
    },
    {
     "data": {
      "text/html": [
       "<pre style=\"white-space:pre;overflow-x:auto;line-height:normal;font-family:Menlo,'DejaVu Sans Mono',consolas,'Courier New',monospace\"><span style=\"color: #7fbfbf; text-decoration-color: #7fbfbf\">                    </span><span style=\"color: #008080; text-decoration-color: #008080\">INFO    </span> Starting parallel load from <span style=\"color: #008080; text-decoration-color: #008080; font-weight: bold\">8</span> loaders                                <a href=\"file:///Users/ww/dev/projects/proxywhirl/proxywhirl/proxywhirl.py\" target=\"_blank\"><span style=\"color: #7f7f7f; text-decoration-color: #7f7f7f\">proxywhirl.py</span></a><span style=\"color: #7f7f7f; text-decoration-color: #7f7f7f\">:</span><a href=\"file:///Users/ww/dev/projects/proxywhirl/proxywhirl/proxywhirl.py#484\" target=\"_blank\"><span style=\"color: #7f7f7f; text-decoration-color: #7f7f7f\">484</span></a>\n",
       "</pre>\n"
      ],
      "text/plain": [
       "\u001b[2;36m                   \u001b[0m\u001b[2;36m \u001b[0m\u001b[36mINFO    \u001b[0m Starting parallel load from \u001b[1;36m8\u001b[0m loaders                                \u001b]8;id=199502;file:///Users/ww/dev/projects/proxywhirl/proxywhirl/proxywhirl.py\u001b\\\u001b[2mproxywhirl.py\u001b[0m\u001b]8;;\u001b\\\u001b[2m:\u001b[0m\u001b]8;id=106561;file:///Users/ww/dev/projects/proxywhirl/proxywhirl/proxywhirl.py#484\u001b\\\u001b[2m484\u001b[0m\u001b]8;;\u001b\\\n"
      ]
     },
     "metadata": {},
     "output_type": "display_data"
    },
    {
     "data": {
      "text/html": [
       "<pre style=\"white-space:pre;overflow-x:auto;line-height:normal;font-family:Menlo,'DejaVu Sans Mono',consolas,'Courier New',monospace\"><span style=\"color: #7fbfbf; text-decoration-color: #7fbfbf\">                    </span><span style=\"color: #008080; text-decoration-color: #008080\">INFO    </span> HTTP Request: <span style=\"color: #808000; text-decoration-color: #808000; font-weight: bold\">GET</span>                                                     <a href=\"file:///Users/ww/.local/share/uv/python/cpython-3.13.1-macos-aarch64-none/lib/python3.13/logging/__init__.py\" target=\"_blank\"><span style=\"color: #7f7f7f; text-decoration-color: #7f7f7f\">__init__.py</span></a><span style=\"color: #7f7f7f; text-decoration-color: #7f7f7f\">:</span><a href=\"file:///Users/ww/.local/share/uv/python/cpython-3.13.1-macos-aarch64-none/lib/python3.13/logging/__init__.py#1736\" target=\"_blank\"><span style=\"color: #7f7f7f; text-decoration-color: #7f7f7f\">1736</span></a>\n",
       "<span style=\"color: #7fbfbf; text-decoration-color: #7fbfbf\">                    </span>         <span style=\"color: #0000ff; text-decoration-color: #0000ff; text-decoration: underline\">https://raw.githubusercontent.com/TheSpeedX/PROXY-List/master/socks4.</span> <span style=\"color: #7f7f7f; text-decoration-color: #7f7f7f\">                </span>\n",
       "<span style=\"color: #7fbfbf; text-decoration-color: #7fbfbf\">                    </span>         <span style=\"color: #0000ff; text-decoration-color: #0000ff; text-decoration: underline\">txt</span> <span style=\"color: #008000; text-decoration-color: #008000\">\"HTTP/1.1 200 OK\"</span>                                                 <span style=\"color: #7f7f7f; text-decoration-color: #7f7f7f\">                </span>\n",
       "</pre>\n"
      ],
      "text/plain": [
       "\u001b[2;36m                   \u001b[0m\u001b[2;36m \u001b[0m\u001b[36mINFO    \u001b[0m HTTP Request: \u001b[1;33mGET\u001b[0m                                                     \u001b]8;id=749360;file:///Users/ww/.local/share/uv/python/cpython-3.13.1-macos-aarch64-none/lib/python3.13/logging/__init__.py\u001b\\\u001b[2m__init__.py\u001b[0m\u001b]8;;\u001b\\\u001b[2m:\u001b[0m\u001b]8;id=363387;file:///Users/ww/.local/share/uv/python/cpython-3.13.1-macos-aarch64-none/lib/python3.13/logging/__init__.py#1736\u001b\\\u001b[2m1736\u001b[0m\u001b]8;;\u001b\\\n",
       "\u001b[2;36m                    \u001b[0m         \u001b[4;94mhttps://raw.githubusercontent.com/TheSpeedX/PROXY-List/master/socks4.\u001b[0m \u001b[2m                \u001b[0m\n",
       "\u001b[2;36m                    \u001b[0m         \u001b[4;94mtxt\u001b[0m \u001b[32m\"HTTP/1.1 200 OK\"\u001b[0m                                                 \u001b[2m                \u001b[0m\n"
      ]
     },
     "metadata": {},
     "output_type": "display_data"
    },
    {
     "data": {
      "text/html": [
       "<pre style=\"white-space:pre;overflow-x:auto;line-height:normal;font-family:Menlo,'DejaVu Sans Mono',consolas,'Courier New',monospace\"><span style=\"color: #7fbfbf; text-decoration-color: #7fbfbf\">[08/24/25 08:06:51] </span><span style=\"color: #008080; text-decoration-color: #008080\">INFO    </span> HTTP Request: <span style=\"color: #808000; text-decoration-color: #808000; font-weight: bold\">GET</span>                                                     <a href=\"file:///Users/ww/.local/share/uv/python/cpython-3.13.1-macos-aarch64-none/lib/python3.13/logging/__init__.py\" target=\"_blank\"><span style=\"color: #7f7f7f; text-decoration-color: #7f7f7f\">__init__.py</span></a><span style=\"color: #7f7f7f; text-decoration-color: #7f7f7f\">:</span><a href=\"file:///Users/ww/.local/share/uv/python/cpython-3.13.1-macos-aarch64-none/lib/python3.13/logging/__init__.py#1736\" target=\"_blank\"><span style=\"color: #7f7f7f; text-decoration-color: #7f7f7f\">1736</span></a>\n",
       "<span style=\"color: #7fbfbf; text-decoration-color: #7fbfbf\">                    </span>         <span style=\"color: #0000ff; text-decoration-color: #0000ff; text-decoration: underline\">https://raw.githubusercontent.com/TheSpeedX/PROXY-List/master/socks5.</span> <span style=\"color: #7f7f7f; text-decoration-color: #7f7f7f\">                </span>\n",
       "<span style=\"color: #7fbfbf; text-decoration-color: #7fbfbf\">                    </span>         <span style=\"color: #0000ff; text-decoration-color: #0000ff; text-decoration: underline\">txt</span> <span style=\"color: #008000; text-decoration-color: #008000\">\"HTTP/1.1 200 OK\"</span>                                                 <span style=\"color: #7f7f7f; text-decoration-color: #7f7f7f\">                </span>\n",
       "</pre>\n"
      ],
      "text/plain": [
       "\u001b[2;36m[08/24/25 08:06:51]\u001b[0m\u001b[2;36m \u001b[0m\u001b[36mINFO    \u001b[0m HTTP Request: \u001b[1;33mGET\u001b[0m                                                     \u001b]8;id=191590;file:///Users/ww/.local/share/uv/python/cpython-3.13.1-macos-aarch64-none/lib/python3.13/logging/__init__.py\u001b\\\u001b[2m__init__.py\u001b[0m\u001b]8;;\u001b\\\u001b[2m:\u001b[0m\u001b]8;id=836022;file:///Users/ww/.local/share/uv/python/cpython-3.13.1-macos-aarch64-none/lib/python3.13/logging/__init__.py#1736\u001b\\\u001b[2m1736\u001b[0m\u001b]8;;\u001b\\\n",
       "\u001b[2;36m                    \u001b[0m         \u001b[4;94mhttps://raw.githubusercontent.com/TheSpeedX/PROXY-List/master/socks5.\u001b[0m \u001b[2m                \u001b[0m\n",
       "\u001b[2;36m                    \u001b[0m         \u001b[4;94mtxt\u001b[0m \u001b[32m\"HTTP/1.1 200 OK\"\u001b[0m                                                 \u001b[2m                \u001b[0m\n"
      ]
     },
     "metadata": {},
     "output_type": "display_data"
    },
    {
     "data": {
      "text/html": [
       "<pre style=\"white-space:pre;overflow-x:auto;line-height:normal;font-family:Menlo,'DejaVu Sans Mono',consolas,'Courier New',monospace\"><span style=\"color: #7fbfbf; text-decoration-color: #7fbfbf\">                    </span><span style=\"color: #008080; text-decoration-color: #008080\">INFO    </span> Fetching proxies from Proxifly                                          <a href=\"file:///Users/ww/dev/projects/proxywhirl/proxywhirl/loaders/proxifly.py\" target=\"_blank\"><span style=\"color: #7f7f7f; text-decoration-color: #7f7f7f\">proxifly.py</span></a><span style=\"color: #7f7f7f; text-decoration-color: #7f7f7f\">:</span><a href=\"file:///Users/ww/dev/projects/proxywhirl/proxywhirl/loaders/proxifly.py#57\" target=\"_blank\"><span style=\"color: #7f7f7f; text-decoration-color: #7f7f7f\">57</span></a>\n",
       "</pre>\n"
      ],
      "text/plain": [
       "\u001b[2;36m                   \u001b[0m\u001b[2;36m \u001b[0m\u001b[36mINFO    \u001b[0m Fetching proxies from Proxifly                                          \u001b]8;id=309215;file:///Users/ww/dev/projects/proxywhirl/proxywhirl/loaders/proxifly.py\u001b\\\u001b[2mproxifly.py\u001b[0m\u001b]8;;\u001b\\\u001b[2m:\u001b[0m\u001b]8;id=563532;file:///Users/ww/dev/projects/proxywhirl/proxywhirl/loaders/proxifly.py#57\u001b\\\u001b[2m57\u001b[0m\u001b]8;;\u001b\\\n"
      ]
     },
     "metadata": {},
     "output_type": "display_data"
    },
    {
     "data": {
      "text/html": [
       "<pre style=\"white-space:pre;overflow-x:auto;line-height:normal;font-family:Menlo,'DejaVu Sans Mono',consolas,'Courier New',monospace\"><span style=\"color: #7fbfbf; text-decoration-color: #7fbfbf\">                    </span><span style=\"color: #008080; text-decoration-color: #008080\">INFO    </span> Loaded <span style=\"color: #008080; text-decoration-color: #008080; font-weight: bold\">5100</span> proxies from the-speedx-socks                            <a href=\"file:///Users/ww/dev/projects/proxywhirl/proxywhirl/loaders/the_speedx.py\" target=\"_blank\"><span style=\"color: #7f7f7f; text-decoration-color: #7f7f7f\">the_speedx.py</span></a><span style=\"color: #7f7f7f; text-decoration-color: #7f7f7f\">:</span><a href=\"file:///Users/ww/dev/projects/proxywhirl/proxywhirl/loaders/the_speedx.py#125\" target=\"_blank\"><span style=\"color: #7f7f7f; text-decoration-color: #7f7f7f\">125</span></a>\n",
       "</pre>\n"
      ],
      "text/plain": [
       "\u001b[2;36m                   \u001b[0m\u001b[2;36m \u001b[0m\u001b[36mINFO    \u001b[0m Loaded \u001b[1;36m5100\u001b[0m proxies from the-speedx-socks                            \u001b]8;id=812033;file:///Users/ww/dev/projects/proxywhirl/proxywhirl/loaders/the_speedx.py\u001b\\\u001b[2mthe_speedx.py\u001b[0m\u001b]8;;\u001b\\\u001b[2m:\u001b[0m\u001b]8;id=776616;file:///Users/ww/dev/projects/proxywhirl/proxywhirl/loaders/the_speedx.py#125\u001b\\\u001b[2m125\u001b[0m\u001b]8;;\u001b\\\n"
      ]
     },
     "metadata": {},
     "output_type": "display_data"
    },
    {
     "data": {
      "text/html": [
       "<pre style=\"white-space:pre;overflow-x:auto;line-height:normal;font-family:Menlo,'DejaVu Sans Mono',consolas,'Courier New',monospace\"><span style=\"color: #7fbfbf; text-decoration-color: #7fbfbf\">                    </span><span style=\"color: #008080; text-decoration-color: #008080\">INFO    </span> HTTP Request: <span style=\"color: #808000; text-decoration-color: #808000; font-weight: bold\">GET</span>                                                     <a href=\"file:///Users/ww/.local/share/uv/python/cpython-3.13.1-macos-aarch64-none/lib/python3.13/logging/__init__.py\" target=\"_blank\"><span style=\"color: #7f7f7f; text-decoration-color: #7f7f7f\">__init__.py</span></a><span style=\"color: #7f7f7f; text-decoration-color: #7f7f7f\">:</span><a href=\"file:///Users/ww/.local/share/uv/python/cpython-3.13.1-macos-aarch64-none/lib/python3.13/logging/__init__.py#1736\" target=\"_blank\"><span style=\"color: #7f7f7f; text-decoration-color: #7f7f7f\">1736</span></a>\n",
       "<span style=\"color: #7fbfbf; text-decoration-color: #7fbfbf\">                    </span>         <span style=\"color: #0000ff; text-decoration-color: #0000ff; text-decoration: underline\">https://raw.githubusercontent.com/clarketm/proxy-list/master/proxy-li</span> <span style=\"color: #7f7f7f; text-decoration-color: #7f7f7f\">                </span>\n",
       "<span style=\"color: #7fbfbf; text-decoration-color: #7fbfbf\">                    </span>         <span style=\"color: #0000ff; text-decoration-color: #0000ff; text-decoration: underline\">st-raw.txt</span> <span style=\"color: #008000; text-decoration-color: #008000\">\"HTTP/1.1 200 OK\"</span>                                          <span style=\"color: #7f7f7f; text-decoration-color: #7f7f7f\">                </span>\n",
       "</pre>\n"
      ],
      "text/plain": [
       "\u001b[2;36m                   \u001b[0m\u001b[2;36m \u001b[0m\u001b[36mINFO    \u001b[0m HTTP Request: \u001b[1;33mGET\u001b[0m                                                     \u001b]8;id=828025;file:///Users/ww/.local/share/uv/python/cpython-3.13.1-macos-aarch64-none/lib/python3.13/logging/__init__.py\u001b\\\u001b[2m__init__.py\u001b[0m\u001b]8;;\u001b\\\u001b[2m:\u001b[0m\u001b]8;id=648266;file:///Users/ww/.local/share/uv/python/cpython-3.13.1-macos-aarch64-none/lib/python3.13/logging/__init__.py#1736\u001b\\\u001b[2m1736\u001b[0m\u001b]8;;\u001b\\\n",
       "\u001b[2;36m                    \u001b[0m         \u001b[4;94mhttps://raw.githubusercontent.com/clarketm/proxy-list/master/proxy-li\u001b[0m \u001b[2m                \u001b[0m\n",
       "\u001b[2;36m                    \u001b[0m         \u001b[4;94mst-raw.txt\u001b[0m \u001b[32m\"HTTP/1.1 200 OK\"\u001b[0m                                          \u001b[2m                \u001b[0m\n"
      ]
     },
     "metadata": {},
     "output_type": "display_data"
    },
    {
     "data": {
      "text/html": [
       "<pre style=\"white-space:pre;overflow-x:auto;line-height:normal;font-family:Menlo,'DejaVu Sans Mono',consolas,'Courier New',monospace\"><span style=\"color: #7fbfbf; text-decoration-color: #7fbfbf\">                    </span><span style=\"color: #008080; text-decoration-color: #008080\">INFO    </span> Loaded <span style=\"color: #008080; text-decoration-color: #008080; font-weight: bold\">400</span> proxies from clarketm-http                               <a href=\"file:///Users/ww/dev/projects/proxywhirl/proxywhirl/loaders/clarketm_raw.py\" target=\"_blank\"><span style=\"color: #7f7f7f; text-decoration-color: #7f7f7f\">clarketm_raw.py</span></a><span style=\"color: #7f7f7f; text-decoration-color: #7f7f7f\">:</span><a href=\"file:///Users/ww/dev/projects/proxywhirl/proxywhirl/loaders/clarketm_raw.py#49\" target=\"_blank\"><span style=\"color: #7f7f7f; text-decoration-color: #7f7f7f\">49</span></a>\n",
       "</pre>\n"
      ],
      "text/plain": [
       "\u001b[2;36m                   \u001b[0m\u001b[2;36m \u001b[0m\u001b[36mINFO    \u001b[0m Loaded \u001b[1;36m400\u001b[0m proxies from clarketm-http                               \u001b]8;id=469548;file:///Users/ww/dev/projects/proxywhirl/proxywhirl/loaders/clarketm_raw.py\u001b\\\u001b[2mclarketm_raw.py\u001b[0m\u001b]8;;\u001b\\\u001b[2m:\u001b[0m\u001b]8;id=455398;file:///Users/ww/dev/projects/proxywhirl/proxywhirl/loaders/clarketm_raw.py#49\u001b\\\u001b[2m49\u001b[0m\u001b]8;;\u001b\\\n"
      ]
     },
     "metadata": {},
     "output_type": "display_data"
    },
    {
     "data": {
      "text/html": [
       "<pre style=\"white-space:pre;overflow-x:auto;line-height:normal;font-family:Menlo,'DejaVu Sans Mono',consolas,'Courier New',monospace\"><span style=\"color: #7fbfbf; text-decoration-color: #7fbfbf\">                    </span><span style=\"color: #008080; text-decoration-color: #008080\">INFO    </span> HTTP Request: <span style=\"color: #808000; text-decoration-color: #808000; font-weight: bold\">GET</span>                                                     <a href=\"file:///Users/ww/.local/share/uv/python/cpython-3.13.1-macos-aarch64-none/lib/python3.13/logging/__init__.py\" target=\"_blank\"><span style=\"color: #7f7f7f; text-decoration-color: #7f7f7f\">__init__.py</span></a><span style=\"color: #7f7f7f; text-decoration-color: #7f7f7f\">:</span><a href=\"file:///Users/ww/.local/share/uv/python/cpython-3.13.1-macos-aarch64-none/lib/python3.13/logging/__init__.py#1736\" target=\"_blank\"><span style=\"color: #7f7f7f; text-decoration-color: #7f7f7f\">1736</span></a>\n",
       "<span style=\"color: #7fbfbf; text-decoration-color: #7fbfbf\">                    </span>         <span style=\"color: #0000ff; text-decoration-color: #0000ff; text-decoration: underline\">https://raw.githubusercontent.com/monosans/proxy-list/main/proxies/ht</span> <span style=\"color: #7f7f7f; text-decoration-color: #7f7f7f\">                </span>\n",
       "<span style=\"color: #7fbfbf; text-decoration-color: #7fbfbf\">                    </span>         <span style=\"color: #0000ff; text-decoration-color: #0000ff; text-decoration: underline\">tp.txt</span> <span style=\"color: #008000; text-decoration-color: #008000\">\"HTTP/1.1 200 OK\"</span>                                              <span style=\"color: #7f7f7f; text-decoration-color: #7f7f7f\">                </span>\n",
       "</pre>\n"
      ],
      "text/plain": [
       "\u001b[2;36m                   \u001b[0m\u001b[2;36m \u001b[0m\u001b[36mINFO    \u001b[0m HTTP Request: \u001b[1;33mGET\u001b[0m                                                     \u001b]8;id=55016;file:///Users/ww/.local/share/uv/python/cpython-3.13.1-macos-aarch64-none/lib/python3.13/logging/__init__.py\u001b\\\u001b[2m__init__.py\u001b[0m\u001b]8;;\u001b\\\u001b[2m:\u001b[0m\u001b]8;id=159427;file:///Users/ww/.local/share/uv/python/cpython-3.13.1-macos-aarch64-none/lib/python3.13/logging/__init__.py#1736\u001b\\\u001b[2m1736\u001b[0m\u001b]8;;\u001b\\\n",
       "\u001b[2;36m                    \u001b[0m         \u001b[4;94mhttps://raw.githubusercontent.com/monosans/proxy-list/main/proxies/ht\u001b[0m \u001b[2m                \u001b[0m\n",
       "\u001b[2;36m                    \u001b[0m         \u001b[4;94mtp.txt\u001b[0m \u001b[32m\"HTTP/1.1 200 OK\"\u001b[0m                                              \u001b[2m                \u001b[0m\n"
      ]
     },
     "metadata": {},
     "output_type": "display_data"
    },
    {
     "data": {
      "text/html": [
       "<pre style=\"white-space:pre;overflow-x:auto;line-height:normal;font-family:Menlo,'DejaVu Sans Mono',consolas,'Courier New',monospace\"><span style=\"color: #7fbfbf; text-decoration-color: #7fbfbf\">                    </span><span style=\"color: #008080; text-decoration-color: #008080\">INFO    </span> Loaded <span style=\"color: #008080; text-decoration-color: #008080; font-weight: bold\">34</span> proxies from monosans                                         <a href=\"file:///Users/ww/dev/projects/proxywhirl/proxywhirl/loaders/monosans.py\" target=\"_blank\"><span style=\"color: #7f7f7f; text-decoration-color: #7f7f7f\">monosans.py</span></a><span style=\"color: #7f7f7f; text-decoration-color: #7f7f7f\">:</span><a href=\"file:///Users/ww/dev/projects/proxywhirl/proxywhirl/loaders/monosans.py#83\" target=\"_blank\"><span style=\"color: #7f7f7f; text-decoration-color: #7f7f7f\">83</span></a>\n",
       "</pre>\n"
      ],
      "text/plain": [
       "\u001b[2;36m                   \u001b[0m\u001b[2;36m \u001b[0m\u001b[36mINFO    \u001b[0m Loaded \u001b[1;36m34\u001b[0m proxies from monosans                                         \u001b]8;id=873510;file:///Users/ww/dev/projects/proxywhirl/proxywhirl/loaders/monosans.py\u001b\\\u001b[2mmonosans.py\u001b[0m\u001b]8;;\u001b\\\u001b[2m:\u001b[0m\u001b]8;id=703257;file:///Users/ww/dev/projects/proxywhirl/proxywhirl/loaders/monosans.py#83\u001b\\\u001b[2m83\u001b[0m\u001b]8;;\u001b\\\n"
      ]
     },
     "metadata": {},
     "output_type": "display_data"
    },
    {
     "data": {
      "text/html": [
       "<pre style=\"white-space:pre;overflow-x:auto;line-height:normal;font-family:Menlo,'DejaVu Sans Mono',consolas,'Courier New',monospace\"><span style=\"color: #7fbfbf; text-decoration-color: #7fbfbf\">                    </span><span style=\"color: #008080; text-decoration-color: #008080\">INFO    </span> Fetching proxies from VakhovFresh                                   <a href=\"file:///Users/ww/dev/projects/proxywhirl/proxywhirl/loaders/vakhov_fresh.py\" target=\"_blank\"><span style=\"color: #7f7f7f; text-decoration-color: #7f7f7f\">vakhov_fresh.py</span></a><span style=\"color: #7f7f7f; text-decoration-color: #7f7f7f\">:</span><a href=\"file:///Users/ww/dev/projects/proxywhirl/proxywhirl/loaders/vakhov_fresh.py#62\" target=\"_blank\"><span style=\"color: #7f7f7f; text-decoration-color: #7f7f7f\">62</span></a>\n",
       "</pre>\n"
      ],
      "text/plain": [
       "\u001b[2;36m                   \u001b[0m\u001b[2;36m \u001b[0m\u001b[36mINFO    \u001b[0m Fetching proxies from VakhovFresh                                   \u001b]8;id=356369;file:///Users/ww/dev/projects/proxywhirl/proxywhirl/loaders/vakhov_fresh.py\u001b\\\u001b[2mvakhov_fresh.py\u001b[0m\u001b]8;;\u001b\\\u001b[2m:\u001b[0m\u001b]8;id=435401;file:///Users/ww/dev/projects/proxywhirl/proxywhirl/loaders/vakhov_fresh.py#62\u001b\\\u001b[2m62\u001b[0m\u001b]8;;\u001b\\\n"
      ]
     },
     "metadata": {},
     "output_type": "display_data"
    },
    {
     "data": {
      "text/html": [
       "<pre style=\"white-space:pre;overflow-x:auto;line-height:normal;font-family:Menlo,'DejaVu Sans Mono',consolas,'Courier New',monospace\"><span style=\"color: #7fbfbf; text-decoration-color: #7fbfbf\">                    </span><span style=\"color: #008080; text-decoration-color: #008080\">INFO    </span> Fetching proxies from JetkaiProxyList                          <a href=\"file:///Users/ww/dev/projects/proxywhirl/proxywhirl/loaders/jetkai_proxy_list.py\" target=\"_blank\"><span style=\"color: #7f7f7f; text-decoration-color: #7f7f7f\">jetkai_proxy_list.py</span></a><span style=\"color: #7f7f7f; text-decoration-color: #7f7f7f\">:</span><a href=\"file:///Users/ww/dev/projects/proxywhirl/proxywhirl/loaders/jetkai_proxy_list.py#56\" target=\"_blank\"><span style=\"color: #7f7f7f; text-decoration-color: #7f7f7f\">56</span></a>\n",
       "</pre>\n"
      ],
      "text/plain": [
       "\u001b[2;36m                   \u001b[0m\u001b[2;36m \u001b[0m\u001b[36mINFO    \u001b[0m Fetching proxies from JetkaiProxyList                          \u001b]8;id=30165;file:///Users/ww/dev/projects/proxywhirl/proxywhirl/loaders/jetkai_proxy_list.py\u001b\\\u001b[2mjetkai_proxy_list.py\u001b[0m\u001b]8;;\u001b\\\u001b[2m:\u001b[0m\u001b]8;id=210226;file:///Users/ww/dev/projects/proxywhirl/proxywhirl/loaders/jetkai_proxy_list.py#56\u001b\\\u001b[2m56\u001b[0m\u001b]8;;\u001b\\\n"
      ]
     },
     "metadata": {},
     "output_type": "display_data"
    },
    {
     "data": {
      "text/html": [
       "<pre style=\"white-space:pre;overflow-x:auto;line-height:normal;font-family:Menlo,'DejaVu Sans Mono',consolas,'Courier New',monospace\"><span style=\"color: #7fbfbf; text-decoration-color: #7fbfbf\">                    </span><span style=\"color: #008080; text-decoration-color: #008080\">INFO    </span> Loaded <span style=\"color: #008080; text-decoration-color: #008080; font-weight: bold\">5100</span> proxies from the-speedx-socks in <span style=\"color: #008080; text-decoration-color: #008080; font-weight: bold\">0.</span>25s                         <a href=\"file:///Users/ww/dev/projects/proxywhirl/proxywhirl/loaders/base.py\" target=\"_blank\"><span style=\"color: #7f7f7f; text-decoration-color: #7f7f7f\">base.py</span></a><span style=\"color: #7f7f7f; text-decoration-color: #7f7f7f\">:</span><a href=\"file:///Users/ww/dev/projects/proxywhirl/proxywhirl/loaders/base.py#224\" target=\"_blank\"><span style=\"color: #7f7f7f; text-decoration-color: #7f7f7f\">224</span></a>\n",
       "</pre>\n"
      ],
      "text/plain": [
       "\u001b[2;36m                   \u001b[0m\u001b[2;36m \u001b[0m\u001b[36mINFO    \u001b[0m Loaded \u001b[1;36m5100\u001b[0m proxies from the-speedx-socks in \u001b[1;36m0.\u001b[0m25s                         \u001b]8;id=330774;file:///Users/ww/dev/projects/proxywhirl/proxywhirl/loaders/base.py\u001b\\\u001b[2mbase.py\u001b[0m\u001b]8;;\u001b\\\u001b[2m:\u001b[0m\u001b]8;id=810361;file:///Users/ww/dev/projects/proxywhirl/proxywhirl/loaders/base.py#224\u001b\\\u001b[2m224\u001b[0m\u001b]8;;\u001b\\\n"
      ]
     },
     "metadata": {},
     "output_type": "display_data"
    },
    {
     "data": {
      "text/html": [
       "<pre style=\"white-space:pre;overflow-x:auto;line-height:normal;font-family:Menlo,'DejaVu Sans Mono',consolas,'Courier New',monospace\"><span style=\"color: #7fbfbf; text-decoration-color: #7fbfbf\">                    </span><span style=\"color: #008080; text-decoration-color: #008080\">INFO    </span> Loaded <span style=\"color: #008080; text-decoration-color: #008080; font-weight: bold\">400</span> proxies from clarketm-http in <span style=\"color: #008080; text-decoration-color: #008080; font-weight: bold\">0.</span>22s                             <a href=\"file:///Users/ww/dev/projects/proxywhirl/proxywhirl/loaders/base.py\" target=\"_blank\"><span style=\"color: #7f7f7f; text-decoration-color: #7f7f7f\">base.py</span></a><span style=\"color: #7f7f7f; text-decoration-color: #7f7f7f\">:</span><a href=\"file:///Users/ww/dev/projects/proxywhirl/proxywhirl/loaders/base.py#224\" target=\"_blank\"><span style=\"color: #7f7f7f; text-decoration-color: #7f7f7f\">224</span></a>\n",
       "</pre>\n"
      ],
      "text/plain": [
       "\u001b[2;36m                   \u001b[0m\u001b[2;36m \u001b[0m\u001b[36mINFO    \u001b[0m Loaded \u001b[1;36m400\u001b[0m proxies from clarketm-http in \u001b[1;36m0.\u001b[0m22s                             \u001b]8;id=604802;file:///Users/ww/dev/projects/proxywhirl/proxywhirl/loaders/base.py\u001b\\\u001b[2mbase.py\u001b[0m\u001b]8;;\u001b\\\u001b[2m:\u001b[0m\u001b]8;id=307315;file:///Users/ww/dev/projects/proxywhirl/proxywhirl/loaders/base.py#224\u001b\\\u001b[2m224\u001b[0m\u001b]8;;\u001b\\\n"
      ]
     },
     "metadata": {},
     "output_type": "display_data"
    },
    {
     "data": {
      "text/html": [
       "<pre style=\"white-space:pre;overflow-x:auto;line-height:normal;font-family:Menlo,'DejaVu Sans Mono',consolas,'Courier New',monospace\"><span style=\"color: #7fbfbf; text-decoration-color: #7fbfbf\">                    </span><span style=\"color: #008080; text-decoration-color: #008080\">INFO    </span> Loaded <span style=\"color: #008080; text-decoration-color: #008080; font-weight: bold\">34</span> proxies from monosans in <span style=\"color: #008080; text-decoration-color: #008080; font-weight: bold\">0.</span>18s                                   <a href=\"file:///Users/ww/dev/projects/proxywhirl/proxywhirl/loaders/base.py\" target=\"_blank\"><span style=\"color: #7f7f7f; text-decoration-color: #7f7f7f\">base.py</span></a><span style=\"color: #7f7f7f; text-decoration-color: #7f7f7f\">:</span><a href=\"file:///Users/ww/dev/projects/proxywhirl/proxywhirl/loaders/base.py#224\" target=\"_blank\"><span style=\"color: #7f7f7f; text-decoration-color: #7f7f7f\">224</span></a>\n",
       "</pre>\n"
      ],
      "text/plain": [
       "\u001b[2;36m                   \u001b[0m\u001b[2;36m \u001b[0m\u001b[36mINFO    \u001b[0m Loaded \u001b[1;36m34\u001b[0m proxies from monosans in \u001b[1;36m0.\u001b[0m18s                                   \u001b]8;id=312844;file:///Users/ww/dev/projects/proxywhirl/proxywhirl/loaders/base.py\u001b\\\u001b[2mbase.py\u001b[0m\u001b]8;;\u001b\\\u001b[2m:\u001b[0m\u001b]8;id=455835;file:///Users/ww/dev/projects/proxywhirl/proxywhirl/loaders/base.py#224\u001b\\\u001b[2m224\u001b[0m\u001b]8;;\u001b\\\n"
      ]
     },
     "metadata": {},
     "output_type": "display_data"
    },
    {
     "data": {
      "text/html": [
       "<pre style=\"white-space:pre;overflow-x:auto;line-height:normal;font-family:Menlo,'DejaVu Sans Mono',consolas,'Courier New',monospace\"><span style=\"color: #7fbfbf; text-decoration-color: #7fbfbf\">                    </span><span style=\"color: #008080; text-decoration-color: #008080\">INFO    </span> HTTP Request: <span style=\"color: #808000; text-decoration-color: #808000; font-weight: bold\">GET</span>                                                     <a href=\"file:///Users/ww/.local/share/uv/python/cpython-3.13.1-macos-aarch64-none/lib/python3.13/logging/__init__.py\" target=\"_blank\"><span style=\"color: #7f7f7f; text-decoration-color: #7f7f7f\">__init__.py</span></a><span style=\"color: #7f7f7f; text-decoration-color: #7f7f7f\">:</span><a href=\"file:///Users/ww/.local/share/uv/python/cpython-3.13.1-macos-aarch64-none/lib/python3.13/logging/__init__.py#1736\" target=\"_blank\"><span style=\"color: #7f7f7f; text-decoration-color: #7f7f7f\">1736</span></a>\n",
       "<span style=\"color: #7fbfbf; text-decoration-color: #7fbfbf\">                    </span>         <span style=\"color: #0000ff; text-decoration-color: #0000ff; text-decoration: underline\">https://raw.githubusercontent.com/proxifly/free-proxy-list/main/proxi</span> <span style=\"color: #7f7f7f; text-decoration-color: #7f7f7f\">                </span>\n",
       "<span style=\"color: #7fbfbf; text-decoration-color: #7fbfbf\">                    </span>         <span style=\"color: #0000ff; text-decoration-color: #0000ff; text-decoration: underline\">es/all/data.json</span> <span style=\"color: #008000; text-decoration-color: #008000\">\"HTTP/1.1 200 OK\"</span>                                    <span style=\"color: #7f7f7f; text-decoration-color: #7f7f7f\">                </span>\n",
       "</pre>\n"
      ],
      "text/plain": [
       "\u001b[2;36m                   \u001b[0m\u001b[2;36m \u001b[0m\u001b[36mINFO    \u001b[0m HTTP Request: \u001b[1;33mGET\u001b[0m                                                     \u001b]8;id=848685;file:///Users/ww/.local/share/uv/python/cpython-3.13.1-macos-aarch64-none/lib/python3.13/logging/__init__.py\u001b\\\u001b[2m__init__.py\u001b[0m\u001b]8;;\u001b\\\u001b[2m:\u001b[0m\u001b]8;id=231613;file:///Users/ww/.local/share/uv/python/cpython-3.13.1-macos-aarch64-none/lib/python3.13/logging/__init__.py#1736\u001b\\\u001b[2m1736\u001b[0m\u001b]8;;\u001b\\\n",
       "\u001b[2;36m                    \u001b[0m         \u001b[4;94mhttps://raw.githubusercontent.com/proxifly/free-proxy-list/main/proxi\u001b[0m \u001b[2m                \u001b[0m\n",
       "\u001b[2;36m                    \u001b[0m         \u001b[4;94mes/all/data.json\u001b[0m \u001b[32m\"HTTP/1.1 200 OK\"\u001b[0m                                    \u001b[2m                \u001b[0m\n"
      ]
     },
     "metadata": {},
     "output_type": "display_data"
    },
    {
     "data": {
      "text/html": [
       "<pre style=\"white-space:pre;overflow-x:auto;line-height:normal;font-family:Menlo,'DejaVu Sans Mono',consolas,'Courier New',monospace\"><span style=\"color: #7fbfbf; text-decoration-color: #7fbfbf\">                    </span><span style=\"color: #008080; text-decoration-color: #008080\">INFO    </span> Received <span style=\"color: #008080; text-decoration-color: #008080; font-weight: bold\">1880</span> proxies from Proxifly                                     <a href=\"file:///Users/ww/dev/projects/proxywhirl/proxywhirl/loaders/proxifly.py\" target=\"_blank\"><span style=\"color: #7f7f7f; text-decoration-color: #7f7f7f\">proxifly.py</span></a><span style=\"color: #7f7f7f; text-decoration-color: #7f7f7f\">:</span><a href=\"file:///Users/ww/dev/projects/proxywhirl/proxywhirl/loaders/proxifly.py#69\" target=\"_blank\"><span style=\"color: #7f7f7f; text-decoration-color: #7f7f7f\">69</span></a>\n",
       "</pre>\n"
      ],
      "text/plain": [
       "\u001b[2;36m                   \u001b[0m\u001b[2;36m \u001b[0m\u001b[36mINFO    \u001b[0m Received \u001b[1;36m1880\u001b[0m proxies from Proxifly                                     \u001b]8;id=244573;file:///Users/ww/dev/projects/proxywhirl/proxywhirl/loaders/proxifly.py\u001b\\\u001b[2mproxifly.py\u001b[0m\u001b]8;;\u001b\\\u001b[2m:\u001b[0m\u001b]8;id=6889;file:///Users/ww/dev/projects/proxywhirl/proxywhirl/loaders/proxifly.py#69\u001b\\\u001b[2m69\u001b[0m\u001b]8;;\u001b\\\n"
      ]
     },
     "metadata": {},
     "output_type": "display_data"
    },
    {
     "data": {
      "text/html": [
       "<pre style=\"white-space:pre;overflow-x:auto;line-height:normal;font-family:Menlo,'DejaVu Sans Mono',consolas,'Courier New',monospace\"><span style=\"color: #7fbfbf; text-decoration-color: #7fbfbf\">                    </span><span style=\"color: #008080; text-decoration-color: #008080\">INFO    </span> Successfully loaded <span style=\"color: #008080; text-decoration-color: #008080; font-weight: bold\">1880</span> proxies from Proxifly                         <a href=\"file:///Users/ww/dev/projects/proxywhirl/proxywhirl/loaders/proxifly.py\" target=\"_blank\"><span style=\"color: #7f7f7f; text-decoration-color: #7f7f7f\">proxifly.py</span></a><span style=\"color: #7f7f7f; text-decoration-color: #7f7f7f\">:</span><a href=\"file:///Users/ww/dev/projects/proxywhirl/proxywhirl/loaders/proxifly.py#120\" target=\"_blank\"><span style=\"color: #7f7f7f; text-decoration-color: #7f7f7f\">120</span></a>\n",
       "</pre>\n"
      ],
      "text/plain": [
       "\u001b[2;36m                   \u001b[0m\u001b[2;36m \u001b[0m\u001b[36mINFO    \u001b[0m Successfully loaded \u001b[1;36m1880\u001b[0m proxies from Proxifly                         \u001b]8;id=940642;file:///Users/ww/dev/projects/proxywhirl/proxywhirl/loaders/proxifly.py\u001b\\\u001b[2mproxifly.py\u001b[0m\u001b]8;;\u001b\\\u001b[2m:\u001b[0m\u001b]8;id=667799;file:///Users/ww/dev/projects/proxywhirl/proxywhirl/loaders/proxifly.py#120\u001b\\\u001b[2m120\u001b[0m\u001b]8;;\u001b\\\n"
      ]
     },
     "metadata": {},
     "output_type": "display_data"
    },
    {
     "data": {
      "text/html": [
       "<pre style=\"white-space:pre;overflow-x:auto;line-height:normal;font-family:Menlo,'DejaVu Sans Mono',consolas,'Courier New',monospace\"><span style=\"color: #7fbfbf; text-decoration-color: #7fbfbf\">                    </span><span style=\"color: #008080; text-decoration-color: #008080\">INFO    </span> HTTP Request: <span style=\"color: #808000; text-decoration-color: #808000; font-weight: bold\">GET</span> <span style=\"color: #0000ff; text-decoration-color: #0000ff; text-decoration: underline\">https://vakhov.github.io/fresh-proxy-list/http.txt</span>  <a href=\"file:///Users/ww/.local/share/uv/python/cpython-3.13.1-macos-aarch64-none/lib/python3.13/logging/__init__.py\" target=\"_blank\"><span style=\"color: #7f7f7f; text-decoration-color: #7f7f7f\">__init__.py</span></a><span style=\"color: #7f7f7f; text-decoration-color: #7f7f7f\">:</span><a href=\"file:///Users/ww/.local/share/uv/python/cpython-3.13.1-macos-aarch64-none/lib/python3.13/logging/__init__.py#1736\" target=\"_blank\"><span style=\"color: #7f7f7f; text-decoration-color: #7f7f7f\">1736</span></a>\n",
       "<span style=\"color: #7fbfbf; text-decoration-color: #7fbfbf\">                    </span>         <span style=\"color: #008000; text-decoration-color: #008000\">\"HTTP/1.1 200 OK\"</span>                                                     <span style=\"color: #7f7f7f; text-decoration-color: #7f7f7f\">                </span>\n",
       "</pre>\n"
      ],
      "text/plain": [
       "\u001b[2;36m                   \u001b[0m\u001b[2;36m \u001b[0m\u001b[36mINFO    \u001b[0m HTTP Request: \u001b[1;33mGET\u001b[0m \u001b[4;94mhttps://vakhov.github.io/fresh-proxy-list/http.txt\u001b[0m  \u001b]8;id=281666;file:///Users/ww/.local/share/uv/python/cpython-3.13.1-macos-aarch64-none/lib/python3.13/logging/__init__.py\u001b\\\u001b[2m__init__.py\u001b[0m\u001b]8;;\u001b\\\u001b[2m:\u001b[0m\u001b]8;id=314915;file:///Users/ww/.local/share/uv/python/cpython-3.13.1-macos-aarch64-none/lib/python3.13/logging/__init__.py#1736\u001b\\\u001b[2m1736\u001b[0m\u001b]8;;\u001b\\\n",
       "\u001b[2;36m                    \u001b[0m         \u001b[32m\"HTTP/1.1 200 OK\"\u001b[0m                                                     \u001b[2m                \u001b[0m\n"
      ]
     },
     "metadata": {},
     "output_type": "display_data"
    },
    {
     "data": {
      "text/html": [
       "<pre style=\"white-space:pre;overflow-x:auto;line-height:normal;font-family:Menlo,'DejaVu Sans Mono',consolas,'Courier New',monospace\"><span style=\"color: #7fbfbf; text-decoration-color: #7fbfbf\">                    </span><span style=\"color: #008080; text-decoration-color: #008080\">INFO    </span> HTTP Request: <span style=\"color: #808000; text-decoration-color: #808000; font-weight: bold\">GET</span>                                                     <a href=\"file:///Users/ww/.local/share/uv/python/cpython-3.13.1-macos-aarch64-none/lib/python3.13/logging/__init__.py\" target=\"_blank\"><span style=\"color: #7f7f7f; text-decoration-color: #7f7f7f\">__init__.py</span></a><span style=\"color: #7f7f7f; text-decoration-color: #7f7f7f\">:</span><a href=\"file:///Users/ww/.local/share/uv/python/cpython-3.13.1-macos-aarch64-none/lib/python3.13/logging/__init__.py#1736\" target=\"_blank\"><span style=\"color: #7f7f7f; text-decoration-color: #7f7f7f\">1736</span></a>\n",
       "<span style=\"color: #7fbfbf; text-decoration-color: #7fbfbf\">                    </span>         <span style=\"color: #0000ff; text-decoration-color: #0000ff; text-decoration: underline\">https://raw.githubusercontent.com/TheSpeedX/PROXY-List/master/http.tx</span> <span style=\"color: #7f7f7f; text-decoration-color: #7f7f7f\">                </span>\n",
       "<span style=\"color: #7fbfbf; text-decoration-color: #7fbfbf\">                    </span>         <span style=\"color: #0000ff; text-decoration-color: #0000ff; text-decoration: underline\">t</span> <span style=\"color: #008000; text-decoration-color: #008000\">\"HTTP/1.1 200 OK\"</span>                                                   <span style=\"color: #7f7f7f; text-decoration-color: #7f7f7f\">                </span>\n",
       "</pre>\n"
      ],
      "text/plain": [
       "\u001b[2;36m                   \u001b[0m\u001b[2;36m \u001b[0m\u001b[36mINFO    \u001b[0m HTTP Request: \u001b[1;33mGET\u001b[0m                                                     \u001b]8;id=737495;file:///Users/ww/.local/share/uv/python/cpython-3.13.1-macos-aarch64-none/lib/python3.13/logging/__init__.py\u001b\\\u001b[2m__init__.py\u001b[0m\u001b]8;;\u001b\\\u001b[2m:\u001b[0m\u001b]8;id=731655;file:///Users/ww/.local/share/uv/python/cpython-3.13.1-macos-aarch64-none/lib/python3.13/logging/__init__.py#1736\u001b\\\u001b[2m1736\u001b[0m\u001b]8;;\u001b\\\n",
       "\u001b[2;36m                    \u001b[0m         \u001b[4;94mhttps://raw.githubusercontent.com/TheSpeedX/PROXY-List/master/http.tx\u001b[0m \u001b[2m                \u001b[0m\n",
       "\u001b[2;36m                    \u001b[0m         \u001b[4;94mt\u001b[0m \u001b[32m\"HTTP/1.1 200 OK\"\u001b[0m                                                   \u001b[2m                \u001b[0m\n"
      ]
     },
     "metadata": {},
     "output_type": "display_data"
    },
    {
     "data": {
      "text/html": [
       "<pre style=\"white-space:pre;overflow-x:auto;line-height:normal;font-family:Menlo,'DejaVu Sans Mono',consolas,'Courier New',monospace\"><span style=\"color: #7fbfbf; text-decoration-color: #7fbfbf\">                    </span><span style=\"color: #008080; text-decoration-color: #008080\">INFO    </span> Loaded <span style=\"color: #008080; text-decoration-color: #008080; font-weight: bold\">1862</span> http proxies                                           <a href=\"file:///Users/ww/dev/projects/proxywhirl/proxywhirl/loaders/vakhov_fresh.py\" target=\"_blank\"><span style=\"color: #7f7f7f; text-decoration-color: #7f7f7f\">vakhov_fresh.py</span></a><span style=\"color: #7f7f7f; text-decoration-color: #7f7f7f\">:</span><a href=\"file:///Users/ww/dev/projects/proxywhirl/proxywhirl/loaders/vakhov_fresh.py#105\" target=\"_blank\"><span style=\"color: #7f7f7f; text-decoration-color: #7f7f7f\">105</span></a>\n",
       "</pre>\n"
      ],
      "text/plain": [
       "\u001b[2;36m                   \u001b[0m\u001b[2;36m \u001b[0m\u001b[36mINFO    \u001b[0m Loaded \u001b[1;36m1862\u001b[0m http proxies                                           \u001b]8;id=887416;file:///Users/ww/dev/projects/proxywhirl/proxywhirl/loaders/vakhov_fresh.py\u001b\\\u001b[2mvakhov_fresh.py\u001b[0m\u001b]8;;\u001b\\\u001b[2m:\u001b[0m\u001b]8;id=423142;file:///Users/ww/dev/projects/proxywhirl/proxywhirl/loaders/vakhov_fresh.py#105\u001b\\\u001b[2m105\u001b[0m\u001b]8;;\u001b\\\n"
      ]
     },
     "metadata": {},
     "output_type": "display_data"
    },
    {
     "data": {
      "text/html": [
       "<pre style=\"white-space:pre;overflow-x:auto;line-height:normal;font-family:Menlo,'DejaVu Sans Mono',consolas,'Courier New',monospace\"><span style=\"color: #7fbfbf; text-decoration-color: #7fbfbf\">                    </span><span style=\"color: #008080; text-decoration-color: #008080\">INFO    </span> Loaded <span style=\"color: #008080; text-decoration-color: #008080; font-weight: bold\">1880</span> proxies from Proxifly in <span style=\"color: #008080; text-decoration-color: #008080; font-weight: bold\">0.</span>21s                                 <a href=\"file:///Users/ww/dev/projects/proxywhirl/proxywhirl/loaders/base.py\" target=\"_blank\"><span style=\"color: #7f7f7f; text-decoration-color: #7f7f7f\">base.py</span></a><span style=\"color: #7f7f7f; text-decoration-color: #7f7f7f\">:</span><a href=\"file:///Users/ww/dev/projects/proxywhirl/proxywhirl/loaders/base.py#224\" target=\"_blank\"><span style=\"color: #7f7f7f; text-decoration-color: #7f7f7f\">224</span></a>\n",
       "</pre>\n"
      ],
      "text/plain": [
       "\u001b[2;36m                   \u001b[0m\u001b[2;36m \u001b[0m\u001b[36mINFO    \u001b[0m Loaded \u001b[1;36m1880\u001b[0m proxies from Proxifly in \u001b[1;36m0.\u001b[0m21s                                 \u001b]8;id=456810;file:///Users/ww/dev/projects/proxywhirl/proxywhirl/loaders/base.py\u001b\\\u001b[2mbase.py\u001b[0m\u001b]8;;\u001b\\\u001b[2m:\u001b[0m\u001b]8;id=756276;file:///Users/ww/dev/projects/proxywhirl/proxywhirl/loaders/base.py#224\u001b\\\u001b[2m224\u001b[0m\u001b]8;;\u001b\\\n"
      ]
     },
     "metadata": {},
     "output_type": "display_data"
    },
    {
     "data": {
      "text/html": [
       "<pre style=\"white-space:pre;overflow-x:auto;line-height:normal;font-family:Menlo,'DejaVu Sans Mono',consolas,'Courier New',monospace\"><span style=\"color: #7fbfbf; text-decoration-color: #7fbfbf\">                    </span><span style=\"color: #008080; text-decoration-color: #008080\">INFO    </span> HTTP Request: <span style=\"color: #808000; text-decoration-color: #808000; font-weight: bold\">GET</span>                                                     <a href=\"file:///Users/ww/.local/share/uv/python/cpython-3.13.1-macos-aarch64-none/lib/python3.13/logging/__init__.py\" target=\"_blank\"><span style=\"color: #7f7f7f; text-decoration-color: #7f7f7f\">__init__.py</span></a><span style=\"color: #7f7f7f; text-decoration-color: #7f7f7f\">:</span><a href=\"file:///Users/ww/.local/share/uv/python/cpython-3.13.1-macos-aarch64-none/lib/python3.13/logging/__init__.py#1736\" target=\"_blank\"><span style=\"color: #7f7f7f; text-decoration-color: #7f7f7f\">1736</span></a>\n",
       "<span style=\"color: #7fbfbf; text-decoration-color: #7fbfbf\">                    </span>         <span style=\"color: #0000ff; text-decoration-color: #0000ff; text-decoration: underline\">https://raw.githubusercontent.com/jetkai/proxy-list/main/online-proxi</span> <span style=\"color: #7f7f7f; text-decoration-color: #7f7f7f\">                </span>\n",
       "<span style=\"color: #7fbfbf; text-decoration-color: #7fbfbf\">                    </span>         <span style=\"color: #0000ff; text-decoration-color: #0000ff; text-decoration: underline\">es/json/proxies.json</span> <span style=\"color: #008000; text-decoration-color: #008000\">\"HTTP/1.1 200 OK\"</span>                                <span style=\"color: #7f7f7f; text-decoration-color: #7f7f7f\">                </span>\n",
       "</pre>\n"
      ],
      "text/plain": [
       "\u001b[2;36m                   \u001b[0m\u001b[2;36m \u001b[0m\u001b[36mINFO    \u001b[0m HTTP Request: \u001b[1;33mGET\u001b[0m                                                     \u001b]8;id=837345;file:///Users/ww/.local/share/uv/python/cpython-3.13.1-macos-aarch64-none/lib/python3.13/logging/__init__.py\u001b\\\u001b[2m__init__.py\u001b[0m\u001b]8;;\u001b\\\u001b[2m:\u001b[0m\u001b]8;id=435519;file:///Users/ww/.local/share/uv/python/cpython-3.13.1-macos-aarch64-none/lib/python3.13/logging/__init__.py#1736\u001b\\\u001b[2m1736\u001b[0m\u001b]8;;\u001b\\\n",
       "\u001b[2;36m                    \u001b[0m         \u001b[4;94mhttps://raw.githubusercontent.com/jetkai/proxy-list/main/online-proxi\u001b[0m \u001b[2m                \u001b[0m\n",
       "\u001b[2;36m                    \u001b[0m         \u001b[4;94mes/json/proxies.json\u001b[0m \u001b[32m\"HTTP/1.1 200 OK\"\u001b[0m                                \u001b[2m                \u001b[0m\n"
      ]
     },
     "metadata": {},
     "output_type": "display_data"
    },
    {
     "data": {
      "text/html": [
       "<pre style=\"white-space:pre;overflow-x:auto;line-height:normal;font-family:Menlo,'DejaVu Sans Mono',consolas,'Courier New',monospace\"><span style=\"color: #7fbfbf; text-decoration-color: #7fbfbf\">                    </span><span style=\"color: #008080; text-decoration-color: #008080\">INFO    </span> HTTP Request: <span style=\"color: #808000; text-decoration-color: #808000; font-weight: bold\">GET</span> <span style=\"color: #0000ff; text-decoration-color: #0000ff; text-decoration: underline\">https://vakhov.github.io/fresh-proxy-list/https.txt</span> <a href=\"file:///Users/ww/.local/share/uv/python/cpython-3.13.1-macos-aarch64-none/lib/python3.13/logging/__init__.py\" target=\"_blank\"><span style=\"color: #7f7f7f; text-decoration-color: #7f7f7f\">__init__.py</span></a><span style=\"color: #7f7f7f; text-decoration-color: #7f7f7f\">:</span><a href=\"file:///Users/ww/.local/share/uv/python/cpython-3.13.1-macos-aarch64-none/lib/python3.13/logging/__init__.py#1736\" target=\"_blank\"><span style=\"color: #7f7f7f; text-decoration-color: #7f7f7f\">1736</span></a>\n",
       "<span style=\"color: #7fbfbf; text-decoration-color: #7fbfbf\">                    </span>         <span style=\"color: #008000; text-decoration-color: #008000\">\"HTTP/1.1 200 OK\"</span>                                                     <span style=\"color: #7f7f7f; text-decoration-color: #7f7f7f\">                </span>\n",
       "</pre>\n"
      ],
      "text/plain": [
       "\u001b[2;36m                   \u001b[0m\u001b[2;36m \u001b[0m\u001b[36mINFO    \u001b[0m HTTP Request: \u001b[1;33mGET\u001b[0m \u001b[4;94mhttps://vakhov.github.io/fresh-proxy-list/https.txt\u001b[0m \u001b]8;id=820667;file:///Users/ww/.local/share/uv/python/cpython-3.13.1-macos-aarch64-none/lib/python3.13/logging/__init__.py\u001b\\\u001b[2m__init__.py\u001b[0m\u001b]8;;\u001b\\\u001b[2m:\u001b[0m\u001b]8;id=80827;file:///Users/ww/.local/share/uv/python/cpython-3.13.1-macos-aarch64-none/lib/python3.13/logging/__init__.py#1736\u001b\\\u001b[2m1736\u001b[0m\u001b]8;;\u001b\\\n",
       "\u001b[2;36m                    \u001b[0m         \u001b[32m\"HTTP/1.1 200 OK\"\u001b[0m                                                     \u001b[2m                \u001b[0m\n"
      ]
     },
     "metadata": {},
     "output_type": "display_data"
    },
    {
     "data": {
      "text/html": [
       "<pre style=\"white-space:pre;overflow-x:auto;line-height:normal;font-family:Menlo,'DejaVu Sans Mono',consolas,'Courier New',monospace\"><span style=\"color: #7fbfbf; text-decoration-color: #7fbfbf\">                    </span><span style=\"color: #008080; text-decoration-color: #008080\">INFO    </span> Loaded <span style=\"color: #008080; text-decoration-color: #008080; font-weight: bold\">38310</span> proxies from the-speedx-http                             <a href=\"file:///Users/ww/dev/projects/proxywhirl/proxywhirl/loaders/the_speedx.py\" target=\"_blank\"><span style=\"color: #7f7f7f; text-decoration-color: #7f7f7f\">the_speedx.py</span></a><span style=\"color: #7f7f7f; text-decoration-color: #7f7f7f\">:</span><a href=\"file:///Users/ww/dev/projects/proxywhirl/proxywhirl/loaders/the_speedx.py#51\" target=\"_blank\"><span style=\"color: #7f7f7f; text-decoration-color: #7f7f7f\">51</span></a>\n",
       "</pre>\n"
      ],
      "text/plain": [
       "\u001b[2;36m                   \u001b[0m\u001b[2;36m \u001b[0m\u001b[36mINFO    \u001b[0m Loaded \u001b[1;36m38310\u001b[0m proxies from the-speedx-http                             \u001b]8;id=106730;file:///Users/ww/dev/projects/proxywhirl/proxywhirl/loaders/the_speedx.py\u001b\\\u001b[2mthe_speedx.py\u001b[0m\u001b]8;;\u001b\\\u001b[2m:\u001b[0m\u001b]8;id=884273;file:///Users/ww/dev/projects/proxywhirl/proxywhirl/loaders/the_speedx.py#51\u001b\\\u001b[2m51\u001b[0m\u001b]8;;\u001b\\\n"
      ]
     },
     "metadata": {},
     "output_type": "display_data"
    },
    {
     "data": {
      "text/html": [
       "<pre style=\"white-space:pre;overflow-x:auto;line-height:normal;font-family:Menlo,'DejaVu Sans Mono',consolas,'Courier New',monospace\"><span style=\"color: #7fbfbf; text-decoration-color: #7fbfbf\">                    </span><span style=\"color: #008080; text-decoration-color: #008080\">INFO    </span> Loaded <span style=\"color: #008080; text-decoration-color: #008080; font-weight: bold\">5</span> https proxies                                             <a href=\"file:///Users/ww/dev/projects/proxywhirl/proxywhirl/loaders/vakhov_fresh.py\" target=\"_blank\"><span style=\"color: #7f7f7f; text-decoration-color: #7f7f7f\">vakhov_fresh.py</span></a><span style=\"color: #7f7f7f; text-decoration-color: #7f7f7f\">:</span><a href=\"file:///Users/ww/dev/projects/proxywhirl/proxywhirl/loaders/vakhov_fresh.py#105\" target=\"_blank\"><span style=\"color: #7f7f7f; text-decoration-color: #7f7f7f\">105</span></a>\n",
       "</pre>\n"
      ],
      "text/plain": [
       "\u001b[2;36m                   \u001b[0m\u001b[2;36m \u001b[0m\u001b[36mINFO    \u001b[0m Loaded \u001b[1;36m5\u001b[0m https proxies                                             \u001b]8;id=708609;file:///Users/ww/dev/projects/proxywhirl/proxywhirl/loaders/vakhov_fresh.py\u001b\\\u001b[2mvakhov_fresh.py\u001b[0m\u001b]8;;\u001b\\\u001b[2m:\u001b[0m\u001b]8;id=474334;file:///Users/ww/dev/projects/proxywhirl/proxywhirl/loaders/vakhov_fresh.py#105\u001b\\\u001b[2m105\u001b[0m\u001b]8;;\u001b\\\n"
      ]
     },
     "metadata": {},
     "output_type": "display_data"
    },
    {
     "data": {
      "text/html": [
       "<pre style=\"white-space:pre;overflow-x:auto;line-height:normal;font-family:Menlo,'DejaVu Sans Mono',consolas,'Courier New',monospace\"><span style=\"color: #7fbfbf; text-decoration-color: #7fbfbf\">                    </span><span style=\"color: #008080; text-decoration-color: #008080\">INFO    </span> Processing <span style=\"color: #008080; text-decoration-color: #008080; font-weight: bold\">1721</span> http proxies                                   <a href=\"file:///Users/ww/dev/projects/proxywhirl/proxywhirl/loaders/jetkai_proxy_list.py\" target=\"_blank\"><span style=\"color: #7f7f7f; text-decoration-color: #7f7f7f\">jetkai_proxy_list.py</span></a><span style=\"color: #7f7f7f; text-decoration-color: #7f7f7f\">:</span><a href=\"file:///Users/ww/dev/projects/proxywhirl/proxywhirl/loaders/jetkai_proxy_list.py#74\" target=\"_blank\"><span style=\"color: #7f7f7f; text-decoration-color: #7f7f7f\">74</span></a>\n",
       "</pre>\n"
      ],
      "text/plain": [
       "\u001b[2;36m                   \u001b[0m\u001b[2;36m \u001b[0m\u001b[36mINFO    \u001b[0m Processing \u001b[1;36m1721\u001b[0m http proxies                                   \u001b]8;id=71770;file:///Users/ww/dev/projects/proxywhirl/proxywhirl/loaders/jetkai_proxy_list.py\u001b\\\u001b[2mjetkai_proxy_list.py\u001b[0m\u001b]8;;\u001b\\\u001b[2m:\u001b[0m\u001b]8;id=555933;file:///Users/ww/dev/projects/proxywhirl/proxywhirl/loaders/jetkai_proxy_list.py#74\u001b\\\u001b[2m74\u001b[0m\u001b]8;;\u001b\\\n"
      ]
     },
     "metadata": {},
     "output_type": "display_data"
    },
    {
     "data": {
      "text/html": [
       "<pre style=\"white-space:pre;overflow-x:auto;line-height:normal;font-family:Menlo,'DejaVu Sans Mono',consolas,'Courier New',monospace\"><span style=\"color: #7fbfbf; text-decoration-color: #7fbfbf\">                    </span><span style=\"color: #008080; text-decoration-color: #008080\">INFO    </span> Loaded <span style=\"color: #008080; text-decoration-color: #008080; font-weight: bold\">38310</span> proxies from the-speedx-http in <span style=\"color: #008080; text-decoration-color: #008080; font-weight: bold\">0.</span>46s                         <a href=\"file:///Users/ww/dev/projects/proxywhirl/proxywhirl/loaders/base.py\" target=\"_blank\"><span style=\"color: #7f7f7f; text-decoration-color: #7f7f7f\">base.py</span></a><span style=\"color: #7f7f7f; text-decoration-color: #7f7f7f\">:</span><a href=\"file:///Users/ww/dev/projects/proxywhirl/proxywhirl/loaders/base.py#224\" target=\"_blank\"><span style=\"color: #7f7f7f; text-decoration-color: #7f7f7f\">224</span></a>\n",
       "</pre>\n"
      ],
      "text/plain": [
       "\u001b[2;36m                   \u001b[0m\u001b[2;36m \u001b[0m\u001b[36mINFO    \u001b[0m Loaded \u001b[1;36m38310\u001b[0m proxies from the-speedx-http in \u001b[1;36m0.\u001b[0m46s                         \u001b]8;id=456478;file:///Users/ww/dev/projects/proxywhirl/proxywhirl/loaders/base.py\u001b\\\u001b[2mbase.py\u001b[0m\u001b]8;;\u001b\\\u001b[2m:\u001b[0m\u001b]8;id=675289;file:///Users/ww/dev/projects/proxywhirl/proxywhirl/loaders/base.py#224\u001b\\\u001b[2m224\u001b[0m\u001b]8;;\u001b\\\n"
      ]
     },
     "metadata": {},
     "output_type": "display_data"
    },
    {
     "data": {
      "text/html": [
       "<pre style=\"white-space:pre;overflow-x:auto;line-height:normal;font-family:Menlo,'DejaVu Sans Mono',consolas,'Courier New',monospace\"><span style=\"color: #7fbfbf; text-decoration-color: #7fbfbf\">                    </span><span style=\"color: #008080; text-decoration-color: #008080\">INFO    </span> Processing <span style=\"color: #008080; text-decoration-color: #008080; font-weight: bold\">2086</span> https proxies                                  <a href=\"file:///Users/ww/dev/projects/proxywhirl/proxywhirl/loaders/jetkai_proxy_list.py\" target=\"_blank\"><span style=\"color: #7f7f7f; text-decoration-color: #7f7f7f\">jetkai_proxy_list.py</span></a><span style=\"color: #7f7f7f; text-decoration-color: #7f7f7f\">:</span><a href=\"file:///Users/ww/dev/projects/proxywhirl/proxywhirl/loaders/jetkai_proxy_list.py#74\" target=\"_blank\"><span style=\"color: #7f7f7f; text-decoration-color: #7f7f7f\">74</span></a>\n",
       "</pre>\n"
      ],
      "text/plain": [
       "\u001b[2;36m                   \u001b[0m\u001b[2;36m \u001b[0m\u001b[36mINFO    \u001b[0m Processing \u001b[1;36m2086\u001b[0m https proxies                                  \u001b]8;id=326405;file:///Users/ww/dev/projects/proxywhirl/proxywhirl/loaders/jetkai_proxy_list.py\u001b\\\u001b[2mjetkai_proxy_list.py\u001b[0m\u001b]8;;\u001b\\\u001b[2m:\u001b[0m\u001b]8;id=583140;file:///Users/ww/dev/projects/proxywhirl/proxywhirl/loaders/jetkai_proxy_list.py#74\u001b\\\u001b[2m74\u001b[0m\u001b]8;;\u001b\\\n"
      ]
     },
     "metadata": {},
     "output_type": "display_data"
    },
    {
     "data": {
      "text/html": [
       "<pre style=\"white-space:pre;overflow-x:auto;line-height:normal;font-family:Menlo,'DejaVu Sans Mono',consolas,'Courier New',monospace\"><span style=\"color: #7fbfbf; text-decoration-color: #7fbfbf\">                    </span><span style=\"color: #008080; text-decoration-color: #008080\">INFO    </span> Processing <span style=\"color: #008080; text-decoration-color: #008080; font-weight: bold\">1572</span> socks4 proxies                                 <a href=\"file:///Users/ww/dev/projects/proxywhirl/proxywhirl/loaders/jetkai_proxy_list.py\" target=\"_blank\"><span style=\"color: #7f7f7f; text-decoration-color: #7f7f7f\">jetkai_proxy_list.py</span></a><span style=\"color: #7f7f7f; text-decoration-color: #7f7f7f\">:</span><a href=\"file:///Users/ww/dev/projects/proxywhirl/proxywhirl/loaders/jetkai_proxy_list.py#74\" target=\"_blank\"><span style=\"color: #7f7f7f; text-decoration-color: #7f7f7f\">74</span></a>\n",
       "</pre>\n"
      ],
      "text/plain": [
       "\u001b[2;36m                   \u001b[0m\u001b[2;36m \u001b[0m\u001b[36mINFO    \u001b[0m Processing \u001b[1;36m1572\u001b[0m socks4 proxies                                 \u001b]8;id=828990;file:///Users/ww/dev/projects/proxywhirl/proxywhirl/loaders/jetkai_proxy_list.py\u001b\\\u001b[2mjetkai_proxy_list.py\u001b[0m\u001b]8;;\u001b\\\u001b[2m:\u001b[0m\u001b]8;id=788602;file:///Users/ww/dev/projects/proxywhirl/proxywhirl/loaders/jetkai_proxy_list.py#74\u001b\\\u001b[2m74\u001b[0m\u001b]8;;\u001b\\\n"
      ]
     },
     "metadata": {},
     "output_type": "display_data"
    },
    {
     "data": {
      "text/html": [
       "<pre style=\"white-space:pre;overflow-x:auto;line-height:normal;font-family:Menlo,'DejaVu Sans Mono',consolas,'Courier New',monospace\"><span style=\"color: #7fbfbf; text-decoration-color: #7fbfbf\">                    </span><span style=\"color: #008080; text-decoration-color: #008080\">INFO    </span> Processing <span style=\"color: #008080; text-decoration-color: #008080; font-weight: bold\">347</span> socks5 proxies                                  <a href=\"file:///Users/ww/dev/projects/proxywhirl/proxywhirl/loaders/jetkai_proxy_list.py\" target=\"_blank\"><span style=\"color: #7f7f7f; text-decoration-color: #7f7f7f\">jetkai_proxy_list.py</span></a><span style=\"color: #7f7f7f; text-decoration-color: #7f7f7f\">:</span><a href=\"file:///Users/ww/dev/projects/proxywhirl/proxywhirl/loaders/jetkai_proxy_list.py#74\" target=\"_blank\"><span style=\"color: #7f7f7f; text-decoration-color: #7f7f7f\">74</span></a>\n",
       "</pre>\n"
      ],
      "text/plain": [
       "\u001b[2;36m                   \u001b[0m\u001b[2;36m \u001b[0m\u001b[36mINFO    \u001b[0m Processing \u001b[1;36m347\u001b[0m socks5 proxies                                  \u001b]8;id=234384;file:///Users/ww/dev/projects/proxywhirl/proxywhirl/loaders/jetkai_proxy_list.py\u001b\\\u001b[2mjetkai_proxy_list.py\u001b[0m\u001b]8;;\u001b\\\u001b[2m:\u001b[0m\u001b]8;id=50543;file:///Users/ww/dev/projects/proxywhirl/proxywhirl/loaders/jetkai_proxy_list.py#74\u001b\\\u001b[2m74\u001b[0m\u001b]8;;\u001b\\\n"
      ]
     },
     "metadata": {},
     "output_type": "display_data"
    },
    {
     "data": {
      "text/html": [
       "<pre style=\"white-space:pre;overflow-x:auto;line-height:normal;font-family:Menlo,'DejaVu Sans Mono',consolas,'Courier New',monospace\"><span style=\"color: #7fbfbf; text-decoration-color: #7fbfbf\">                    </span><span style=\"color: #008080; text-decoration-color: #008080\">INFO    </span> Successfully loaded <span style=\"color: #008080; text-decoration-color: #008080; font-weight: bold\">5726</span> proxies from JetkaiProxyList         <a href=\"file:///Users/ww/dev/projects/proxywhirl/proxywhirl/loaders/jetkai_proxy_list.py\" target=\"_blank\"><span style=\"color: #7f7f7f; text-decoration-color: #7f7f7f\">jetkai_proxy_list.py</span></a><span style=\"color: #7f7f7f; text-decoration-color: #7f7f7f\">:</span><a href=\"file:///Users/ww/dev/projects/proxywhirl/proxywhirl/loaders/jetkai_proxy_list.py#116\" target=\"_blank\"><span style=\"color: #7f7f7f; text-decoration-color: #7f7f7f\">116</span></a>\n",
       "</pre>\n"
      ],
      "text/plain": [
       "\u001b[2;36m                   \u001b[0m\u001b[2;36m \u001b[0m\u001b[36mINFO    \u001b[0m Successfully loaded \u001b[1;36m5726\u001b[0m proxies from JetkaiProxyList         \u001b]8;id=569186;file:///Users/ww/dev/projects/proxywhirl/proxywhirl/loaders/jetkai_proxy_list.py\u001b\\\u001b[2mjetkai_proxy_list.py\u001b[0m\u001b]8;;\u001b\\\u001b[2m:\u001b[0m\u001b]8;id=622937;file:///Users/ww/dev/projects/proxywhirl/proxywhirl/loaders/jetkai_proxy_list.py#116\u001b\\\u001b[2m116\u001b[0m\u001b]8;;\u001b\\\n"
      ]
     },
     "metadata": {},
     "output_type": "display_data"
    },
    {
     "data": {
      "text/html": [
       "<pre style=\"white-space:pre;overflow-x:auto;line-height:normal;font-family:Menlo,'DejaVu Sans Mono',consolas,'Courier New',monospace\"><span style=\"color: #7fbfbf; text-decoration-color: #7fbfbf\">                    </span><span style=\"color: #008080; text-decoration-color: #008080\">INFO    </span> Loaded <span style=\"color: #008080; text-decoration-color: #008080; font-weight: bold\">5726</span> proxies from JetkaiProxyList in <span style=\"color: #008080; text-decoration-color: #008080; font-weight: bold\">0.</span>22s                          <a href=\"file:///Users/ww/dev/projects/proxywhirl/proxywhirl/loaders/base.py\" target=\"_blank\"><span style=\"color: #7f7f7f; text-decoration-color: #7f7f7f\">base.py</span></a><span style=\"color: #7f7f7f; text-decoration-color: #7f7f7f\">:</span><a href=\"file:///Users/ww/dev/projects/proxywhirl/proxywhirl/loaders/base.py#224\" target=\"_blank\"><span style=\"color: #7f7f7f; text-decoration-color: #7f7f7f\">224</span></a>\n",
       "</pre>\n"
      ],
      "text/plain": [
       "\u001b[2;36m                   \u001b[0m\u001b[2;36m \u001b[0m\u001b[36mINFO    \u001b[0m Loaded \u001b[1;36m5726\u001b[0m proxies from JetkaiProxyList in \u001b[1;36m0.\u001b[0m22s                          \u001b]8;id=784546;file:///Users/ww/dev/projects/proxywhirl/proxywhirl/loaders/base.py\u001b\\\u001b[2mbase.py\u001b[0m\u001b]8;;\u001b\\\u001b[2m:\u001b[0m\u001b]8;id=494264;file:///Users/ww/dev/projects/proxywhirl/proxywhirl/loaders/base.py#224\u001b\\\u001b[2m224\u001b[0m\u001b]8;;\u001b\\\n"
      ]
     },
     "metadata": {},
     "output_type": "display_data"
    },
    {
     "data": {
      "text/html": [
       "<pre style=\"white-space:pre;overflow-x:auto;line-height:normal;font-family:Menlo,'DejaVu Sans Mono',consolas,'Courier New',monospace\"><span style=\"color: #7fbfbf; text-decoration-color: #7fbfbf\">                    </span><span style=\"color: #008080; text-decoration-color: #008080\">INFO    </span> HTTP Request: <span style=\"color: #808000; text-decoration-color: #808000; font-weight: bold\">GET</span>                                                     <a href=\"file:///Users/ww/.local/share/uv/python/cpython-3.13.1-macos-aarch64-none/lib/python3.13/logging/__init__.py\" target=\"_blank\"><span style=\"color: #7f7f7f; text-decoration-color: #7f7f7f\">__init__.py</span></a><span style=\"color: #7f7f7f; text-decoration-color: #7f7f7f\">:</span><a href=\"file:///Users/ww/.local/share/uv/python/cpython-3.13.1-macos-aarch64-none/lib/python3.13/logging/__init__.py#1736\" target=\"_blank\"><span style=\"color: #7f7f7f; text-decoration-color: #7f7f7f\">1736</span></a>\n",
       "<span style=\"color: #7fbfbf; text-decoration-color: #7fbfbf\">                    </span>         <span style=\"color: #0000ff; text-decoration-color: #0000ff; text-decoration: underline\">https://vakhov.github.io/fresh-proxy-list/socks4.txt</span> <span style=\"color: #008000; text-decoration-color: #008000\">\"HTTP/1.1 200 </span>   <span style=\"color: #7f7f7f; text-decoration-color: #7f7f7f\">                </span>\n",
       "<span style=\"color: #7fbfbf; text-decoration-color: #7fbfbf\">                    </span>         <span style=\"color: #008000; text-decoration-color: #008000\">OK\"</span>                                                                   <span style=\"color: #7f7f7f; text-decoration-color: #7f7f7f\">                </span>\n",
       "</pre>\n"
      ],
      "text/plain": [
       "\u001b[2;36m                   \u001b[0m\u001b[2;36m \u001b[0m\u001b[36mINFO    \u001b[0m HTTP Request: \u001b[1;33mGET\u001b[0m                                                     \u001b]8;id=918577;file:///Users/ww/.local/share/uv/python/cpython-3.13.1-macos-aarch64-none/lib/python3.13/logging/__init__.py\u001b\\\u001b[2m__init__.py\u001b[0m\u001b]8;;\u001b\\\u001b[2m:\u001b[0m\u001b]8;id=598434;file:///Users/ww/.local/share/uv/python/cpython-3.13.1-macos-aarch64-none/lib/python3.13/logging/__init__.py#1736\u001b\\\u001b[2m1736\u001b[0m\u001b]8;;\u001b\\\n",
       "\u001b[2;36m                    \u001b[0m         \u001b[4;94mhttps://vakhov.github.io/fresh-proxy-list/socks4.txt\u001b[0m \u001b[32m\"HTTP/1.1 200 \u001b[0m   \u001b[2m                \u001b[0m\n",
       "\u001b[2;36m                    \u001b[0m         \u001b[32mOK\"\u001b[0m                                                                   \u001b[2m                \u001b[0m\n"
      ]
     },
     "metadata": {},
     "output_type": "display_data"
    },
    {
     "data": {
      "text/html": [
       "<pre style=\"white-space:pre;overflow-x:auto;line-height:normal;font-family:Menlo,'DejaVu Sans Mono',consolas,'Courier New',monospace\"><span style=\"color: #7fbfbf; text-decoration-color: #7fbfbf\">                    </span><span style=\"color: #008080; text-decoration-color: #008080\">INFO    </span> Loaded <span style=\"color: #008080; text-decoration-color: #008080; font-weight: bold\">159</span> socks4 proxies                                          <a href=\"file:///Users/ww/dev/projects/proxywhirl/proxywhirl/loaders/vakhov_fresh.py\" target=\"_blank\"><span style=\"color: #7f7f7f; text-decoration-color: #7f7f7f\">vakhov_fresh.py</span></a><span style=\"color: #7f7f7f; text-decoration-color: #7f7f7f\">:</span><a href=\"file:///Users/ww/dev/projects/proxywhirl/proxywhirl/loaders/vakhov_fresh.py#105\" target=\"_blank\"><span style=\"color: #7f7f7f; text-decoration-color: #7f7f7f\">105</span></a>\n",
       "</pre>\n"
      ],
      "text/plain": [
       "\u001b[2;36m                   \u001b[0m\u001b[2;36m \u001b[0m\u001b[36mINFO    \u001b[0m Loaded \u001b[1;36m159\u001b[0m socks4 proxies                                          \u001b]8;id=530515;file:///Users/ww/dev/projects/proxywhirl/proxywhirl/loaders/vakhov_fresh.py\u001b\\\u001b[2mvakhov_fresh.py\u001b[0m\u001b]8;;\u001b\\\u001b[2m:\u001b[0m\u001b]8;id=639713;file:///Users/ww/dev/projects/proxywhirl/proxywhirl/loaders/vakhov_fresh.py#105\u001b\\\u001b[2m105\u001b[0m\u001b]8;;\u001b\\\n"
      ]
     },
     "metadata": {},
     "output_type": "display_data"
    },
    {
     "data": {
      "text/html": [
       "<pre style=\"white-space:pre;overflow-x:auto;line-height:normal;font-family:Menlo,'DejaVu Sans Mono',consolas,'Courier New',monospace\"><span style=\"color: #7fbfbf; text-decoration-color: #7fbfbf\">                    </span><span style=\"color: #008080; text-decoration-color: #008080\">INFO    </span> HTTP Request: <span style=\"color: #808000; text-decoration-color: #808000; font-weight: bold\">GET</span>                                                     <a href=\"file:///Users/ww/.local/share/uv/python/cpython-3.13.1-macos-aarch64-none/lib/python3.13/logging/__init__.py\" target=\"_blank\"><span style=\"color: #7f7f7f; text-decoration-color: #7f7f7f\">__init__.py</span></a><span style=\"color: #7f7f7f; text-decoration-color: #7f7f7f\">:</span><a href=\"file:///Users/ww/.local/share/uv/python/cpython-3.13.1-macos-aarch64-none/lib/python3.13/logging/__init__.py#1736\" target=\"_blank\"><span style=\"color: #7f7f7f; text-decoration-color: #7f7f7f\">1736</span></a>\n",
       "<span style=\"color: #7fbfbf; text-decoration-color: #7fbfbf\">                    </span>         <span style=\"color: #0000ff; text-decoration-color: #0000ff; text-decoration: underline\">https://vakhov.github.io/fresh-proxy-list/socks5.txt</span> <span style=\"color: #008000; text-decoration-color: #008000\">\"HTTP/1.1 200 </span>   <span style=\"color: #7f7f7f; text-decoration-color: #7f7f7f\">                </span>\n",
       "<span style=\"color: #7fbfbf; text-decoration-color: #7fbfbf\">                    </span>         <span style=\"color: #008000; text-decoration-color: #008000\">OK\"</span>                                                                   <span style=\"color: #7f7f7f; text-decoration-color: #7f7f7f\">                </span>\n",
       "</pre>\n"
      ],
      "text/plain": [
       "\u001b[2;36m                   \u001b[0m\u001b[2;36m \u001b[0m\u001b[36mINFO    \u001b[0m HTTP Request: \u001b[1;33mGET\u001b[0m                                                     \u001b]8;id=316520;file:///Users/ww/.local/share/uv/python/cpython-3.13.1-macos-aarch64-none/lib/python3.13/logging/__init__.py\u001b\\\u001b[2m__init__.py\u001b[0m\u001b]8;;\u001b\\\u001b[2m:\u001b[0m\u001b]8;id=351711;file:///Users/ww/.local/share/uv/python/cpython-3.13.1-macos-aarch64-none/lib/python3.13/logging/__init__.py#1736\u001b\\\u001b[2m1736\u001b[0m\u001b]8;;\u001b\\\n",
       "\u001b[2;36m                    \u001b[0m         \u001b[4;94mhttps://vakhov.github.io/fresh-proxy-list/socks5.txt\u001b[0m \u001b[32m\"HTTP/1.1 200 \u001b[0m   \u001b[2m                \u001b[0m\n",
       "\u001b[2;36m                    \u001b[0m         \u001b[32mOK\"\u001b[0m                                                                   \u001b[2m                \u001b[0m\n"
      ]
     },
     "metadata": {},
     "output_type": "display_data"
    },
    {
     "data": {
      "text/html": [
       "<pre style=\"white-space:pre;overflow-x:auto;line-height:normal;font-family:Menlo,'DejaVu Sans Mono',consolas,'Courier New',monospace\"><span style=\"color: #7fbfbf; text-decoration-color: #7fbfbf\">                    </span><span style=\"color: #008080; text-decoration-color: #008080\">INFO    </span> Loaded <span style=\"color: #008080; text-decoration-color: #008080; font-weight: bold\">21</span> socks5 proxies                                           <a href=\"file:///Users/ww/dev/projects/proxywhirl/proxywhirl/loaders/vakhov_fresh.py\" target=\"_blank\"><span style=\"color: #7f7f7f; text-decoration-color: #7f7f7f\">vakhov_fresh.py</span></a><span style=\"color: #7f7f7f; text-decoration-color: #7f7f7f\">:</span><a href=\"file:///Users/ww/dev/projects/proxywhirl/proxywhirl/loaders/vakhov_fresh.py#105\" target=\"_blank\"><span style=\"color: #7f7f7f; text-decoration-color: #7f7f7f\">105</span></a>\n",
       "</pre>\n"
      ],
      "text/plain": [
       "\u001b[2;36m                   \u001b[0m\u001b[2;36m \u001b[0m\u001b[36mINFO    \u001b[0m Loaded \u001b[1;36m21\u001b[0m socks5 proxies                                           \u001b]8;id=157044;file:///Users/ww/dev/projects/proxywhirl/proxywhirl/loaders/vakhov_fresh.py\u001b\\\u001b[2mvakhov_fresh.py\u001b[0m\u001b]8;;\u001b\\\u001b[2m:\u001b[0m\u001b]8;id=893071;file:///Users/ww/dev/projects/proxywhirl/proxywhirl/loaders/vakhov_fresh.py#105\u001b\\\u001b[2m105\u001b[0m\u001b]8;;\u001b\\\n"
      ]
     },
     "metadata": {},
     "output_type": "display_data"
    },
    {
     "data": {
      "text/html": [
       "<pre style=\"white-space:pre;overflow-x:auto;line-height:normal;font-family:Menlo,'DejaVu Sans Mono',consolas,'Courier New',monospace\"><span style=\"color: #7fbfbf; text-decoration-color: #7fbfbf\">                    </span><span style=\"color: #008080; text-decoration-color: #008080\">INFO    </span> Successfully loaded <span style=\"color: #008080; text-decoration-color: #008080; font-weight: bold\">2047</span> total proxies from VakhovFresh            <a href=\"file:///Users/ww/dev/projects/proxywhirl/proxywhirl/loaders/vakhov_fresh.py\" target=\"_blank\"><span style=\"color: #7f7f7f; text-decoration-color: #7f7f7f\">vakhov_fresh.py</span></a><span style=\"color: #7f7f7f; text-decoration-color: #7f7f7f\">:</span><a href=\"file:///Users/ww/dev/projects/proxywhirl/proxywhirl/loaders/vakhov_fresh.py#117\" target=\"_blank\"><span style=\"color: #7f7f7f; text-decoration-color: #7f7f7f\">117</span></a>\n",
       "</pre>\n"
      ],
      "text/plain": [
       "\u001b[2;36m                   \u001b[0m\u001b[2;36m \u001b[0m\u001b[36mINFO    \u001b[0m Successfully loaded \u001b[1;36m2047\u001b[0m total proxies from VakhovFresh            \u001b]8;id=69331;file:///Users/ww/dev/projects/proxywhirl/proxywhirl/loaders/vakhov_fresh.py\u001b\\\u001b[2mvakhov_fresh.py\u001b[0m\u001b]8;;\u001b\\\u001b[2m:\u001b[0m\u001b]8;id=424984;file:///Users/ww/dev/projects/proxywhirl/proxywhirl/loaders/vakhov_fresh.py#117\u001b\\\u001b[2m117\u001b[0m\u001b]8;;\u001b\\\n"
      ]
     },
     "metadata": {},
     "output_type": "display_data"
    },
    {
     "data": {
      "text/html": [
       "<pre style=\"white-space:pre;overflow-x:auto;line-height:normal;font-family:Menlo,'DejaVu Sans Mono',consolas,'Courier New',monospace\"><span style=\"color: #7fbfbf; text-decoration-color: #7fbfbf\">                    </span><span style=\"color: #008080; text-decoration-color: #008080\">INFO    </span> Loaded <span style=\"color: #008080; text-decoration-color: #008080; font-weight: bold\">2047</span> proxies from VakhovFresh in <span style=\"color: #008080; text-decoration-color: #008080; font-weight: bold\">0.</span>36s                              <a href=\"file:///Users/ww/dev/projects/proxywhirl/proxywhirl/loaders/base.py\" target=\"_blank\"><span style=\"color: #7f7f7f; text-decoration-color: #7f7f7f\">base.py</span></a><span style=\"color: #7f7f7f; text-decoration-color: #7f7f7f\">:</span><a href=\"file:///Users/ww/dev/projects/proxywhirl/proxywhirl/loaders/base.py#224\" target=\"_blank\"><span style=\"color: #7f7f7f; text-decoration-color: #7f7f7f\">224</span></a>\n",
       "</pre>\n"
      ],
      "text/plain": [
       "\u001b[2;36m                   \u001b[0m\u001b[2;36m \u001b[0m\u001b[36mINFO    \u001b[0m Loaded \u001b[1;36m2047\u001b[0m proxies from VakhovFresh in \u001b[1;36m0.\u001b[0m36s                              \u001b]8;id=117403;file:///Users/ww/dev/projects/proxywhirl/proxywhirl/loaders/base.py\u001b\\\u001b[2mbase.py\u001b[0m\u001b]8;;\u001b\\\u001b[2m:\u001b[0m\u001b]8;id=961157;file:///Users/ww/dev/projects/proxywhirl/proxywhirl/loaders/base.py#224\u001b\\\u001b[2m224\u001b[0m\u001b]8;;\u001b\\\n"
      ]
     },
     "metadata": {},
     "output_type": "display_data"
    },
    {
     "data": {
      "text/html": [
       "<pre style=\"white-space:pre;overflow-x:auto;line-height:normal;font-family:Menlo,'DejaVu Sans Mono',consolas,'Courier New',monospace\"><span style=\"color: #7fbfbf; text-decoration-color: #7fbfbf\">[08/24/25 08:06:52] </span><span style=\"color: #008080; text-decoration-color: #008080\">INFO    </span> HTTP Request: <span style=\"color: #808000; text-decoration-color: #808000; font-weight: bold\">GET</span>                                                     <a href=\"file:///Users/ww/.local/share/uv/python/cpython-3.13.1-macos-aarch64-none/lib/python3.13/logging/__init__.py\" target=\"_blank\"><span style=\"color: #7f7f7f; text-decoration-color: #7f7f7f\">__init__.py</span></a><span style=\"color: #7f7f7f; text-decoration-color: #7f7f7f\">:</span><a href=\"file:///Users/ww/.local/share/uv/python/cpython-3.13.1-macos-aarch64-none/lib/python3.13/logging/__init__.py#1736\" target=\"_blank\"><span style=\"color: #7f7f7f; text-decoration-color: #7f7f7f\">1736</span></a>\n",
       "<span style=\"color: #7fbfbf; text-decoration-color: #7fbfbf\">                    </span>         <span style=\"color: #0000ff; text-decoration-color: #0000ff; text-decoration: underline\">https://api.proxyscrape.com/v3/free-proxy-list/get?request=getproxies</span> <span style=\"color: #7f7f7f; text-decoration-color: #7f7f7f\">                </span>\n",
       "<span style=\"color: #7fbfbf; text-decoration-color: #7fbfbf\">                    </span>         <span style=\"color: #0000ff; text-decoration-color: #0000ff; text-decoration: underline\">&amp;proxy_format=ipport&amp;format=text&amp;protocol=http&amp;limit=10000</span> <span style=\"color: #008000; text-decoration-color: #008000\">\"HTTP/1.1 </span> <span style=\"color: #7f7f7f; text-decoration-color: #7f7f7f\">                </span>\n",
       "<span style=\"color: #7fbfbf; text-decoration-color: #7fbfbf\">                    </span>         <span style=\"color: #008000; text-decoration-color: #008000\">200 OK\"</span>                                                               <span style=\"color: #7f7f7f; text-decoration-color: #7f7f7f\">                </span>\n",
       "</pre>\n"
      ],
      "text/plain": [
       "\u001b[2;36m[08/24/25 08:06:52]\u001b[0m\u001b[2;36m \u001b[0m\u001b[36mINFO    \u001b[0m HTTP Request: \u001b[1;33mGET\u001b[0m                                                     \u001b]8;id=611711;file:///Users/ww/.local/share/uv/python/cpython-3.13.1-macos-aarch64-none/lib/python3.13/logging/__init__.py\u001b\\\u001b[2m__init__.py\u001b[0m\u001b]8;;\u001b\\\u001b[2m:\u001b[0m\u001b]8;id=852243;file:///Users/ww/.local/share/uv/python/cpython-3.13.1-macos-aarch64-none/lib/python3.13/logging/__init__.py#1736\u001b\\\u001b[2m1736\u001b[0m\u001b]8;;\u001b\\\n",
       "\u001b[2;36m                    \u001b[0m         \u001b[4;94mhttps://api.proxyscrape.com/v3/free-proxy-list/get?\u001b[0m\u001b[4;94mrequest\u001b[0m\u001b[4;94m=\u001b[0m\u001b[4;94mgetproxies\u001b[0m \u001b[2m                \u001b[0m\n",
       "\u001b[2;36m                    \u001b[0m         \u001b[4;94m&\u001b[0m\u001b[4;94mproxy_format\u001b[0m\u001b[4;94m=\u001b[0m\u001b[4;94mipport\u001b[0m\u001b[4;94m&\u001b[0m\u001b[4;94mformat\u001b[0m\u001b[4;94m=\u001b[0m\u001b[4;94mtext\u001b[0m\u001b[4;94m&\u001b[0m\u001b[4;94mprotocol\u001b[0m\u001b[4;94m=\u001b[0m\u001b[4;94mhttp\u001b[0m\u001b[4;94m&\u001b[0m\u001b[4;94mlimit\u001b[0m\u001b[4;94m=\u001b[0m\u001b[4;94m10000\u001b[0m \u001b[32m\"HTTP/1.1 \u001b[0m \u001b[2m                \u001b[0m\n",
       "\u001b[2;36m                    \u001b[0m         \u001b[32m200 OK\"\u001b[0m                                                               \u001b[2m                \u001b[0m\n"
      ]
     },
     "metadata": {},
     "output_type": "display_data"
    },
    {
     "data": {
      "text/html": [
       "<pre style=\"white-space:pre;overflow-x:auto;line-height:normal;font-family:Menlo,'DejaVu Sans Mono',consolas,'Courier New',monospace\"><span style=\"color: #7fbfbf; text-decoration-color: #7fbfbf\">[08/24/25 08:06:54] </span><span style=\"color: #008080; text-decoration-color: #008080\">INFO    </span> HTTP Request: <span style=\"color: #808000; text-decoration-color: #808000; font-weight: bold\">GET</span>                                                     <a href=\"file:///Users/ww/.local/share/uv/python/cpython-3.13.1-macos-aarch64-none/lib/python3.13/logging/__init__.py\" target=\"_blank\"><span style=\"color: #7f7f7f; text-decoration-color: #7f7f7f\">__init__.py</span></a><span style=\"color: #7f7f7f; text-decoration-color: #7f7f7f\">:</span><a href=\"file:///Users/ww/.local/share/uv/python/cpython-3.13.1-macos-aarch64-none/lib/python3.13/logging/__init__.py#1736\" target=\"_blank\"><span style=\"color: #7f7f7f; text-decoration-color: #7f7f7f\">1736</span></a>\n",
       "<span style=\"color: #7fbfbf; text-decoration-color: #7fbfbf\">                    </span>         <span style=\"color: #0000ff; text-decoration-color: #0000ff; text-decoration: underline\">https://api.proxyscrape.com/v3/free-proxy-list/get?request=getproxies</span> <span style=\"color: #7f7f7f; text-decoration-color: #7f7f7f\">                </span>\n",
       "<span style=\"color: #7fbfbf; text-decoration-color: #7fbfbf\">                    </span>         <span style=\"color: #0000ff; text-decoration-color: #0000ff; text-decoration: underline\">&amp;proxy_format=ipport&amp;format=text&amp;protocol=https&amp;limit=10000</span> <span style=\"color: #008000; text-decoration-color: #008000\">\"HTTP/1.1</span> <span style=\"color: #7f7f7f; text-decoration-color: #7f7f7f\">                </span>\n",
       "<span style=\"color: #7fbfbf; text-decoration-color: #7fbfbf\">                    </span>         <span style=\"color: #008000; text-decoration-color: #008000\">200 OK\"</span>                                                               <span style=\"color: #7f7f7f; text-decoration-color: #7f7f7f\">                </span>\n",
       "</pre>\n"
      ],
      "text/plain": [
       "\u001b[2;36m[08/24/25 08:06:54]\u001b[0m\u001b[2;36m \u001b[0m\u001b[36mINFO    \u001b[0m HTTP Request: \u001b[1;33mGET\u001b[0m                                                     \u001b]8;id=383493;file:///Users/ww/.local/share/uv/python/cpython-3.13.1-macos-aarch64-none/lib/python3.13/logging/__init__.py\u001b\\\u001b[2m__init__.py\u001b[0m\u001b]8;;\u001b\\\u001b[2m:\u001b[0m\u001b]8;id=310189;file:///Users/ww/.local/share/uv/python/cpython-3.13.1-macos-aarch64-none/lib/python3.13/logging/__init__.py#1736\u001b\\\u001b[2m1736\u001b[0m\u001b]8;;\u001b\\\n",
       "\u001b[2;36m                    \u001b[0m         \u001b[4;94mhttps://api.proxyscrape.com/v3/free-proxy-list/get?\u001b[0m\u001b[4;94mrequest\u001b[0m\u001b[4;94m=\u001b[0m\u001b[4;94mgetproxies\u001b[0m \u001b[2m                \u001b[0m\n",
       "\u001b[2;36m                    \u001b[0m         \u001b[4;94m&\u001b[0m\u001b[4;94mproxy_format\u001b[0m\u001b[4;94m=\u001b[0m\u001b[4;94mipport\u001b[0m\u001b[4;94m&\u001b[0m\u001b[4;94mformat\u001b[0m\u001b[4;94m=\u001b[0m\u001b[4;94mtext\u001b[0m\u001b[4;94m&\u001b[0m\u001b[4;94mprotocol\u001b[0m\u001b[4;94m=\u001b[0m\u001b[4;94mhttps\u001b[0m\u001b[4;94m&\u001b[0m\u001b[4;94mlimit\u001b[0m\u001b[4;94m=\u001b[0m\u001b[4;94m10000\u001b[0m \u001b[32m\"HTTP/1.1\u001b[0m \u001b[2m                \u001b[0m\n",
       "\u001b[2;36m                    \u001b[0m         \u001b[32m200 OK\"\u001b[0m                                                               \u001b[2m                \u001b[0m\n"
      ]
     },
     "metadata": {},
     "output_type": "display_data"
    },
    {
     "data": {
      "text/html": [
       "<pre style=\"white-space:pre;overflow-x:auto;line-height:normal;font-family:Menlo,'DejaVu Sans Mono',consolas,'Courier New',monospace\"><span style=\"color: #7fbfbf; text-decoration-color: #7fbfbf\">[08/24/25 08:06:55] </span><span style=\"color: #008080; text-decoration-color: #008080\">INFO    </span> HTTP Request: <span style=\"color: #808000; text-decoration-color: #808000; font-weight: bold\">GET</span>                                                     <a href=\"file:///Users/ww/.local/share/uv/python/cpython-3.13.1-macos-aarch64-none/lib/python3.13/logging/__init__.py\" target=\"_blank\"><span style=\"color: #7f7f7f; text-decoration-color: #7f7f7f\">__init__.py</span></a><span style=\"color: #7f7f7f; text-decoration-color: #7f7f7f\">:</span><a href=\"file:///Users/ww/.local/share/uv/python/cpython-3.13.1-macos-aarch64-none/lib/python3.13/logging/__init__.py#1736\" target=\"_blank\"><span style=\"color: #7f7f7f; text-decoration-color: #7f7f7f\">1736</span></a>\n",
       "<span style=\"color: #7fbfbf; text-decoration-color: #7fbfbf\">                    </span>         <span style=\"color: #0000ff; text-decoration-color: #0000ff; text-decoration: underline\">https://api.proxyscrape.com/v3/free-proxy-list/get?request=getproxies</span> <span style=\"color: #7f7f7f; text-decoration-color: #7f7f7f\">                </span>\n",
       "<span style=\"color: #7fbfbf; text-decoration-color: #7fbfbf\">                    </span>         <span style=\"color: #0000ff; text-decoration-color: #0000ff; text-decoration: underline\">&amp;proxy_format=ipport&amp;format=text&amp;protocol=socks4&amp;limit=10000</span>          <span style=\"color: #7f7f7f; text-decoration-color: #7f7f7f\">                </span>\n",
       "<span style=\"color: #7fbfbf; text-decoration-color: #7fbfbf\">                    </span>         <span style=\"color: #008000; text-decoration-color: #008000\">\"HTTP/1.1 200 OK\"</span>                                                     <span style=\"color: #7f7f7f; text-decoration-color: #7f7f7f\">                </span>\n",
       "</pre>\n"
      ],
      "text/plain": [
       "\u001b[2;36m[08/24/25 08:06:55]\u001b[0m\u001b[2;36m \u001b[0m\u001b[36mINFO    \u001b[0m HTTP Request: \u001b[1;33mGET\u001b[0m                                                     \u001b]8;id=107161;file:///Users/ww/.local/share/uv/python/cpython-3.13.1-macos-aarch64-none/lib/python3.13/logging/__init__.py\u001b\\\u001b[2m__init__.py\u001b[0m\u001b]8;;\u001b\\\u001b[2m:\u001b[0m\u001b]8;id=879428;file:///Users/ww/.local/share/uv/python/cpython-3.13.1-macos-aarch64-none/lib/python3.13/logging/__init__.py#1736\u001b\\\u001b[2m1736\u001b[0m\u001b]8;;\u001b\\\n",
       "\u001b[2;36m                    \u001b[0m         \u001b[4;94mhttps://api.proxyscrape.com/v3/free-proxy-list/get?\u001b[0m\u001b[4;94mrequest\u001b[0m\u001b[4;94m=\u001b[0m\u001b[4;94mgetproxies\u001b[0m \u001b[2m                \u001b[0m\n",
       "\u001b[2;36m                    \u001b[0m         \u001b[4;94m&\u001b[0m\u001b[4;94mproxy_format\u001b[0m\u001b[4;94m=\u001b[0m\u001b[4;94mipport\u001b[0m\u001b[4;94m&\u001b[0m\u001b[4;94mformat\u001b[0m\u001b[4;94m=\u001b[0m\u001b[4;94mtext\u001b[0m\u001b[4;94m&\u001b[0m\u001b[4;94mprotocol\u001b[0m\u001b[4;94m=\u001b[0m\u001b[4;94msocks4\u001b[0m\u001b[4;94m&\u001b[0m\u001b[4;94mlimit\u001b[0m\u001b[4;94m=\u001b[0m\u001b[4;94m10000\u001b[0m          \u001b[2m                \u001b[0m\n",
       "\u001b[2;36m                    \u001b[0m         \u001b[32m\"HTTP/1.1 200 OK\"\u001b[0m                                                     \u001b[2m                \u001b[0m\n"
      ]
     },
     "metadata": {},
     "output_type": "display_data"
    },
    {
     "data": {
      "text/html": [
       "<pre style=\"white-space:pre;overflow-x:auto;line-height:normal;font-family:Menlo,'DejaVu Sans Mono',consolas,'Courier New',monospace\"><span style=\"color: #7fbfbf; text-decoration-color: #7fbfbf\">                    </span><span style=\"color: #008080; text-decoration-color: #008080\">INFO    </span> HTTP Request: <span style=\"color: #808000; text-decoration-color: #808000; font-weight: bold\">GET</span>                                                     <a href=\"file:///Users/ww/.local/share/uv/python/cpython-3.13.1-macos-aarch64-none/lib/python3.13/logging/__init__.py\" target=\"_blank\"><span style=\"color: #7f7f7f; text-decoration-color: #7f7f7f\">__init__.py</span></a><span style=\"color: #7f7f7f; text-decoration-color: #7f7f7f\">:</span><a href=\"file:///Users/ww/.local/share/uv/python/cpython-3.13.1-macos-aarch64-none/lib/python3.13/logging/__init__.py#1736\" target=\"_blank\"><span style=\"color: #7f7f7f; text-decoration-color: #7f7f7f\">1736</span></a>\n",
       "<span style=\"color: #7fbfbf; text-decoration-color: #7fbfbf\">                    </span>         <span style=\"color: #0000ff; text-decoration-color: #0000ff; text-decoration: underline\">https://api.proxyscrape.com/v3/free-proxy-list/get?request=getproxies</span> <span style=\"color: #7f7f7f; text-decoration-color: #7f7f7f\">                </span>\n",
       "<span style=\"color: #7fbfbf; text-decoration-color: #7fbfbf\">                    </span>         <span style=\"color: #0000ff; text-decoration-color: #0000ff; text-decoration: underline\">&amp;proxy_format=ipport&amp;format=text&amp;protocol=socks5&amp;limit=10000</span>          <span style=\"color: #7f7f7f; text-decoration-color: #7f7f7f\">                </span>\n",
       "<span style=\"color: #7fbfbf; text-decoration-color: #7fbfbf\">                    </span>         <span style=\"color: #008000; text-decoration-color: #008000\">\"HTTP/1.1 200 OK\"</span>                                                     <span style=\"color: #7f7f7f; text-decoration-color: #7f7f7f\">                </span>\n",
       "</pre>\n"
      ],
      "text/plain": [
       "\u001b[2;36m                   \u001b[0m\u001b[2;36m \u001b[0m\u001b[36mINFO    \u001b[0m HTTP Request: \u001b[1;33mGET\u001b[0m                                                     \u001b]8;id=248037;file:///Users/ww/.local/share/uv/python/cpython-3.13.1-macos-aarch64-none/lib/python3.13/logging/__init__.py\u001b\\\u001b[2m__init__.py\u001b[0m\u001b]8;;\u001b\\\u001b[2m:\u001b[0m\u001b]8;id=328503;file:///Users/ww/.local/share/uv/python/cpython-3.13.1-macos-aarch64-none/lib/python3.13/logging/__init__.py#1736\u001b\\\u001b[2m1736\u001b[0m\u001b]8;;\u001b\\\n",
       "\u001b[2;36m                    \u001b[0m         \u001b[4;94mhttps://api.proxyscrape.com/v3/free-proxy-list/get?\u001b[0m\u001b[4;94mrequest\u001b[0m\u001b[4;94m=\u001b[0m\u001b[4;94mgetproxies\u001b[0m \u001b[2m                \u001b[0m\n",
       "\u001b[2;36m                    \u001b[0m         \u001b[4;94m&\u001b[0m\u001b[4;94mproxy_format\u001b[0m\u001b[4;94m=\u001b[0m\u001b[4;94mipport\u001b[0m\u001b[4;94m&\u001b[0m\u001b[4;94mformat\u001b[0m\u001b[4;94m=\u001b[0m\u001b[4;94mtext\u001b[0m\u001b[4;94m&\u001b[0m\u001b[4;94mprotocol\u001b[0m\u001b[4;94m=\u001b[0m\u001b[4;94msocks5\u001b[0m\u001b[4;94m&\u001b[0m\u001b[4;94mlimit\u001b[0m\u001b[4;94m=\u001b[0m\u001b[4;94m10000\u001b[0m          \u001b[2m                \u001b[0m\n",
       "\u001b[2;36m                    \u001b[0m         \u001b[32m\"HTTP/1.1 200 OK\"\u001b[0m                                                     \u001b[2m                \u001b[0m\n"
      ]
     },
     "metadata": {},
     "output_type": "display_data"
    },
    {
     "data": {
      "text/html": [
       "<pre style=\"white-space:pre;overflow-x:auto;line-height:normal;font-family:Menlo,'DejaVu Sans Mono',consolas,'Courier New',monospace\"><span style=\"color: #7fbfbf; text-decoration-color: #7fbfbf\">                    </span><span style=\"color: #008080; text-decoration-color: #008080\">INFO    </span> Loaded <span style=\"color: #008080; text-decoration-color: #008080; font-weight: bold\">20448</span> proxies from proxyscrape                                <a href=\"file:///Users/ww/dev/projects/proxywhirl/proxywhirl/loaders/proxyscrape.py\" target=\"_blank\"><span style=\"color: #7f7f7f; text-decoration-color: #7f7f7f\">proxyscrape.py</span></a><span style=\"color: #7f7f7f; text-decoration-color: #7f7f7f\">:</span><a href=\"file:///Users/ww/dev/projects/proxywhirl/proxywhirl/loaders/proxyscrape.py#62\" target=\"_blank\"><span style=\"color: #7f7f7f; text-decoration-color: #7f7f7f\">62</span></a>\n",
       "</pre>\n"
      ],
      "text/plain": [
       "\u001b[2;36m                   \u001b[0m\u001b[2;36m \u001b[0m\u001b[36mINFO    \u001b[0m Loaded \u001b[1;36m20448\u001b[0m proxies from proxyscrape                                \u001b]8;id=668895;file:///Users/ww/dev/projects/proxywhirl/proxywhirl/loaders/proxyscrape.py\u001b\\\u001b[2mproxyscrape.py\u001b[0m\u001b]8;;\u001b\\\u001b[2m:\u001b[0m\u001b]8;id=247517;file:///Users/ww/dev/projects/proxywhirl/proxywhirl/loaders/proxyscrape.py#62\u001b\\\u001b[2m62\u001b[0m\u001b]8;;\u001b\\\n"
      ]
     },
     "metadata": {},
     "output_type": "display_data"
    },
    {
     "data": {
      "text/html": [
       "<pre style=\"white-space:pre;overflow-x:auto;line-height:normal;font-family:Menlo,'DejaVu Sans Mono',consolas,'Courier New',monospace\"><span style=\"color: #7fbfbf; text-decoration-color: #7fbfbf\">                    </span><span style=\"color: #008080; text-decoration-color: #008080\">INFO    </span> Loaded <span style=\"color: #008080; text-decoration-color: #008080; font-weight: bold\">20448</span> proxies from proxyscrape in <span style=\"color: #008080; text-decoration-color: #008080; font-weight: bold\">4.</span>57s                             <a href=\"file:///Users/ww/dev/projects/proxywhirl/proxywhirl/loaders/base.py\" target=\"_blank\"><span style=\"color: #7f7f7f; text-decoration-color: #7f7f7f\">base.py</span></a><span style=\"color: #7f7f7f; text-decoration-color: #7f7f7f\">:</span><a href=\"file:///Users/ww/dev/projects/proxywhirl/proxywhirl/loaders/base.py#224\" target=\"_blank\"><span style=\"color: #7f7f7f; text-decoration-color: #7f7f7f\">224</span></a>\n",
       "</pre>\n"
      ],
      "text/plain": [
       "\u001b[2;36m                   \u001b[0m\u001b[2;36m \u001b[0m\u001b[36mINFO    \u001b[0m Loaded \u001b[1;36m20448\u001b[0m proxies from proxyscrape in \u001b[1;36m4.\u001b[0m57s                             \u001b]8;id=877969;file:///Users/ww/dev/projects/proxywhirl/proxywhirl/loaders/base.py\u001b\\\u001b[2mbase.py\u001b[0m\u001b]8;;\u001b\\\u001b[2m:\u001b[0m\u001b]8;id=619834;file:///Users/ww/dev/projects/proxywhirl/proxywhirl/loaders/base.py#224\u001b\\\u001b[2m224\u001b[0m\u001b]8;;\u001b\\\n"
      ]
     },
     "metadata": {},
     "output_type": "display_data"
    },
    {
     "data": {
      "text/html": [
       "<pre style=\"white-space:pre;overflow-x:auto;line-height:normal;font-family:Menlo,'DejaVu Sans Mono',consolas,'Courier New',monospace\"><span style=\"color: #7fbfbf; text-decoration-color: #7fbfbf\">                    </span><span style=\"color: #008080; text-decoration-color: #008080\">INFO    </span> Processing <span style=\"color: #008080; text-decoration-color: #008080; font-weight: bold\">38310</span> rows from the-speedx-http                           <a href=\"file:///Users/ww/dev/projects/proxywhirl/proxywhirl/proxywhirl.py\" target=\"_blank\"><span style=\"color: #7f7f7f; text-decoration-color: #7f7f7f\">proxywhirl.py</span></a><span style=\"color: #7f7f7f; text-decoration-color: #7f7f7f\">:</span><a href=\"file:///Users/ww/dev/projects/proxywhirl/proxywhirl/proxywhirl.py#496\" target=\"_blank\"><span style=\"color: #7f7f7f; text-decoration-color: #7f7f7f\">496</span></a>\n",
       "</pre>\n"
      ],
      "text/plain": [
       "\u001b[2;36m                   \u001b[0m\u001b[2;36m \u001b[0m\u001b[36mINFO    \u001b[0m Processing \u001b[1;36m38310\u001b[0m rows from the-speedx-http                           \u001b]8;id=841537;file:///Users/ww/dev/projects/proxywhirl/proxywhirl/proxywhirl.py\u001b\\\u001b[2mproxywhirl.py\u001b[0m\u001b]8;;\u001b\\\u001b[2m:\u001b[0m\u001b]8;id=933545;file:///Users/ww/dev/projects/proxywhirl/proxywhirl/proxywhirl.py#496\u001b\\\u001b[2m496\u001b[0m\u001b]8;;\u001b\\\n"
      ]
     },
     "metadata": {},
     "output_type": "display_data"
    },
    {
     "data": {
      "text/html": [
       "<pre style=\"white-space:pre;overflow-x:auto;line-height:normal;font-family:Menlo,'DejaVu Sans Mono',consolas,'Courier New',monospace\"><span style=\"color: #7fbfbf; text-decoration-color: #7fbfbf\">[08/24/25 08:06:57] </span><span style=\"color: #008080; text-decoration-color: #008080\">INFO    </span> Loaded <span style=\"color: #008080; text-decoration-color: #008080; font-weight: bold\">38310</span> proxies from the-speedx-http                            <a href=\"file:///Users/ww/dev/projects/proxywhirl/proxywhirl/proxywhirl.py\" target=\"_blank\"><span style=\"color: #7f7f7f; text-decoration-color: #7f7f7f\">proxywhirl.py</span></a><span style=\"color: #7f7f7f; text-decoration-color: #7f7f7f\">:</span><a href=\"file:///Users/ww/dev/projects/proxywhirl/proxywhirl/proxywhirl.py#521\" target=\"_blank\"><span style=\"color: #7f7f7f; text-decoration-color: #7f7f7f\">521</span></a>\n",
       "</pre>\n"
      ],
      "text/plain": [
       "\u001b[2;36m[08/24/25 08:06:57]\u001b[0m\u001b[2;36m \u001b[0m\u001b[36mINFO    \u001b[0m Loaded \u001b[1;36m38310\u001b[0m proxies from the-speedx-http                            \u001b]8;id=309933;file:///Users/ww/dev/projects/proxywhirl/proxywhirl/proxywhirl.py\u001b\\\u001b[2mproxywhirl.py\u001b[0m\u001b]8;;\u001b\\\u001b[2m:\u001b[0m\u001b]8;id=619402;file:///Users/ww/dev/projects/proxywhirl/proxywhirl/proxywhirl.py#521\u001b\\\u001b[2m521\u001b[0m\u001b]8;;\u001b\\\n"
      ]
     },
     "metadata": {},
     "output_type": "display_data"
    },
    {
     "data": {
      "text/html": [
       "<pre style=\"white-space:pre;overflow-x:auto;line-height:normal;font-family:Menlo,'DejaVu Sans Mono',consolas,'Courier New',monospace\"><span style=\"color: #7fbfbf; text-decoration-color: #7fbfbf\">                    </span><span style=\"color: #008080; text-decoration-color: #008080\">INFO    </span> Processing <span style=\"color: #008080; text-decoration-color: #008080; font-weight: bold\">5100</span> rows from the-speedx-socks                           <a href=\"file:///Users/ww/dev/projects/proxywhirl/proxywhirl/proxywhirl.py\" target=\"_blank\"><span style=\"color: #7f7f7f; text-decoration-color: #7f7f7f\">proxywhirl.py</span></a><span style=\"color: #7f7f7f; text-decoration-color: #7f7f7f\">:</span><a href=\"file:///Users/ww/dev/projects/proxywhirl/proxywhirl/proxywhirl.py#496\" target=\"_blank\"><span style=\"color: #7f7f7f; text-decoration-color: #7f7f7f\">496</span></a>\n",
       "</pre>\n"
      ],
      "text/plain": [
       "\u001b[2;36m                   \u001b[0m\u001b[2;36m \u001b[0m\u001b[36mINFO    \u001b[0m Processing \u001b[1;36m5100\u001b[0m rows from the-speedx-socks                           \u001b]8;id=799006;file:///Users/ww/dev/projects/proxywhirl/proxywhirl/proxywhirl.py\u001b\\\u001b[2mproxywhirl.py\u001b[0m\u001b]8;;\u001b\\\u001b[2m:\u001b[0m\u001b]8;id=842689;file:///Users/ww/dev/projects/proxywhirl/proxywhirl/proxywhirl.py#496\u001b\\\u001b[2m496\u001b[0m\u001b]8;;\u001b\\\n"
      ]
     },
     "metadata": {},
     "output_type": "display_data"
    },
    {
     "data": {
      "text/html": [
       "<pre style=\"white-space:pre;overflow-x:auto;line-height:normal;font-family:Menlo,'DejaVu Sans Mono',consolas,'Courier New',monospace\"><span style=\"color: #7fbfbf; text-decoration-color: #7fbfbf\">                    </span><span style=\"color: #008080; text-decoration-color: #008080\">INFO    </span> Loaded <span style=\"color: #008080; text-decoration-color: #008080; font-weight: bold\">886</span> proxies from the-speedx-socks                             <a href=\"file:///Users/ww/dev/projects/proxywhirl/proxywhirl/proxywhirl.py\" target=\"_blank\"><span style=\"color: #7f7f7f; text-decoration-color: #7f7f7f\">proxywhirl.py</span></a><span style=\"color: #7f7f7f; text-decoration-color: #7f7f7f\">:</span><a href=\"file:///Users/ww/dev/projects/proxywhirl/proxywhirl/proxywhirl.py#521\" target=\"_blank\"><span style=\"color: #7f7f7f; text-decoration-color: #7f7f7f\">521</span></a>\n",
       "</pre>\n"
      ],
      "text/plain": [
       "\u001b[2;36m                   \u001b[0m\u001b[2;36m \u001b[0m\u001b[36mINFO    \u001b[0m Loaded \u001b[1;36m886\u001b[0m proxies from the-speedx-socks                             \u001b]8;id=75396;file:///Users/ww/dev/projects/proxywhirl/proxywhirl/proxywhirl.py\u001b\\\u001b[2mproxywhirl.py\u001b[0m\u001b]8;;\u001b\\\u001b[2m:\u001b[0m\u001b]8;id=383916;file:///Users/ww/dev/projects/proxywhirl/proxywhirl/proxywhirl.py#521\u001b\\\u001b[2m521\u001b[0m\u001b]8;;\u001b\\\n"
      ]
     },
     "metadata": {},
     "output_type": "display_data"
    },
    {
     "data": {
      "text/html": [
       "<pre style=\"white-space:pre;overflow-x:auto;line-height:normal;font-family:Menlo,'DejaVu Sans Mono',consolas,'Courier New',monospace\"><span style=\"color: #7fbfbf; text-decoration-color: #7fbfbf\">                    </span><span style=\"color: #008080; text-decoration-color: #008080\">INFO    </span> Processing <span style=\"color: #008080; text-decoration-color: #008080; font-weight: bold\">400</span> rows from clarketm-http                               <a href=\"file:///Users/ww/dev/projects/proxywhirl/proxywhirl/proxywhirl.py\" target=\"_blank\"><span style=\"color: #7f7f7f; text-decoration-color: #7f7f7f\">proxywhirl.py</span></a><span style=\"color: #7f7f7f; text-decoration-color: #7f7f7f\">:</span><a href=\"file:///Users/ww/dev/projects/proxywhirl/proxywhirl/proxywhirl.py#496\" target=\"_blank\"><span style=\"color: #7f7f7f; text-decoration-color: #7f7f7f\">496</span></a>\n",
       "</pre>\n"
      ],
      "text/plain": [
       "\u001b[2;36m                   \u001b[0m\u001b[2;36m \u001b[0m\u001b[36mINFO    \u001b[0m Processing \u001b[1;36m400\u001b[0m rows from clarketm-http                               \u001b]8;id=673902;file:///Users/ww/dev/projects/proxywhirl/proxywhirl/proxywhirl.py\u001b\\\u001b[2mproxywhirl.py\u001b[0m\u001b]8;;\u001b\\\u001b[2m:\u001b[0m\u001b]8;id=4281;file:///Users/ww/dev/projects/proxywhirl/proxywhirl/proxywhirl.py#496\u001b\\\u001b[2m496\u001b[0m\u001b]8;;\u001b\\\n"
      ]
     },
     "metadata": {},
     "output_type": "display_data"
    },
    {
     "data": {
      "text/html": [
       "<pre style=\"white-space:pre;overflow-x:auto;line-height:normal;font-family:Menlo,'DejaVu Sans Mono',consolas,'Courier New',monospace\"><span style=\"color: #7fbfbf; text-decoration-color: #7fbfbf\">                    </span><span style=\"color: #008080; text-decoration-color: #008080\">INFO    </span> Loaded <span style=\"color: #008080; text-decoration-color: #008080; font-weight: bold\">0</span> proxies from clarketm-http                                  <a href=\"file:///Users/ww/dev/projects/proxywhirl/proxywhirl/proxywhirl.py\" target=\"_blank\"><span style=\"color: #7f7f7f; text-decoration-color: #7f7f7f\">proxywhirl.py</span></a><span style=\"color: #7f7f7f; text-decoration-color: #7f7f7f\">:</span><a href=\"file:///Users/ww/dev/projects/proxywhirl/proxywhirl/proxywhirl.py#521\" target=\"_blank\"><span style=\"color: #7f7f7f; text-decoration-color: #7f7f7f\">521</span></a>\n",
       "</pre>\n"
      ],
      "text/plain": [
       "\u001b[2;36m                   \u001b[0m\u001b[2;36m \u001b[0m\u001b[36mINFO    \u001b[0m Loaded \u001b[1;36m0\u001b[0m proxies from clarketm-http                                  \u001b]8;id=506534;file:///Users/ww/dev/projects/proxywhirl/proxywhirl/proxywhirl.py\u001b\\\u001b[2mproxywhirl.py\u001b[0m\u001b]8;;\u001b\\\u001b[2m:\u001b[0m\u001b]8;id=728753;file:///Users/ww/dev/projects/proxywhirl/proxywhirl/proxywhirl.py#521\u001b\\\u001b[2m521\u001b[0m\u001b]8;;\u001b\\\n"
      ]
     },
     "metadata": {},
     "output_type": "display_data"
    },
    {
     "data": {
      "text/html": [
       "<pre style=\"white-space:pre;overflow-x:auto;line-height:normal;font-family:Menlo,'DejaVu Sans Mono',consolas,'Courier New',monospace\"><span style=\"color: #7fbfbf; text-decoration-color: #7fbfbf\">                    </span><span style=\"color: #008080; text-decoration-color: #008080\">INFO    </span> Processing <span style=\"color: #008080; text-decoration-color: #008080; font-weight: bold\">34</span> rows from monosans                                     <a href=\"file:///Users/ww/dev/projects/proxywhirl/proxywhirl/proxywhirl.py\" target=\"_blank\"><span style=\"color: #7f7f7f; text-decoration-color: #7f7f7f\">proxywhirl.py</span></a><span style=\"color: #7f7f7f; text-decoration-color: #7f7f7f\">:</span><a href=\"file:///Users/ww/dev/projects/proxywhirl/proxywhirl/proxywhirl.py#496\" target=\"_blank\"><span style=\"color: #7f7f7f; text-decoration-color: #7f7f7f\">496</span></a>\n",
       "</pre>\n"
      ],
      "text/plain": [
       "\u001b[2;36m                   \u001b[0m\u001b[2;36m \u001b[0m\u001b[36mINFO    \u001b[0m Processing \u001b[1;36m34\u001b[0m rows from monosans                                     \u001b]8;id=980599;file:///Users/ww/dev/projects/proxywhirl/proxywhirl/proxywhirl.py\u001b\\\u001b[2mproxywhirl.py\u001b[0m\u001b]8;;\u001b\\\u001b[2m:\u001b[0m\u001b]8;id=664319;file:///Users/ww/dev/projects/proxywhirl/proxywhirl/proxywhirl.py#496\u001b\\\u001b[2m496\u001b[0m\u001b]8;;\u001b\\\n"
      ]
     },
     "metadata": {},
     "output_type": "display_data"
    },
    {
     "data": {
      "text/html": [
       "<pre style=\"white-space:pre;overflow-x:auto;line-height:normal;font-family:Menlo,'DejaVu Sans Mono',consolas,'Courier New',monospace\"><span style=\"color: #7fbfbf; text-decoration-color: #7fbfbf\">                    </span><span style=\"color: #008080; text-decoration-color: #008080\">INFO    </span> Loaded <span style=\"color: #008080; text-decoration-color: #008080; font-weight: bold\">7</span> proxies from monosans                                       <a href=\"file:///Users/ww/dev/projects/proxywhirl/proxywhirl/proxywhirl.py\" target=\"_blank\"><span style=\"color: #7f7f7f; text-decoration-color: #7f7f7f\">proxywhirl.py</span></a><span style=\"color: #7f7f7f; text-decoration-color: #7f7f7f\">:</span><a href=\"file:///Users/ww/dev/projects/proxywhirl/proxywhirl/proxywhirl.py#521\" target=\"_blank\"><span style=\"color: #7f7f7f; text-decoration-color: #7f7f7f\">521</span></a>\n",
       "</pre>\n"
      ],
      "text/plain": [
       "\u001b[2;36m                   \u001b[0m\u001b[2;36m \u001b[0m\u001b[36mINFO    \u001b[0m Loaded \u001b[1;36m7\u001b[0m proxies from monosans                                       \u001b]8;id=487311;file:///Users/ww/dev/projects/proxywhirl/proxywhirl/proxywhirl.py\u001b\\\u001b[2mproxywhirl.py\u001b[0m\u001b]8;;\u001b\\\u001b[2m:\u001b[0m\u001b]8;id=304808;file:///Users/ww/dev/projects/proxywhirl/proxywhirl/proxywhirl.py#521\u001b\\\u001b[2m521\u001b[0m\u001b]8;;\u001b\\\n"
      ]
     },
     "metadata": {},
     "output_type": "display_data"
    },
    {
     "data": {
      "text/html": [
       "<pre style=\"white-space:pre;overflow-x:auto;line-height:normal;font-family:Menlo,'DejaVu Sans Mono',consolas,'Courier New',monospace\"><span style=\"color: #7fbfbf; text-decoration-color: #7fbfbf\">                    </span><span style=\"color: #008080; text-decoration-color: #008080\">INFO    </span> Processing <span style=\"color: #008080; text-decoration-color: #008080; font-weight: bold\">20448</span> rows from proxyscrape                               <a href=\"file:///Users/ww/dev/projects/proxywhirl/proxywhirl/proxywhirl.py\" target=\"_blank\"><span style=\"color: #7f7f7f; text-decoration-color: #7f7f7f\">proxywhirl.py</span></a><span style=\"color: #7f7f7f; text-decoration-color: #7f7f7f\">:</span><a href=\"file:///Users/ww/dev/projects/proxywhirl/proxywhirl/proxywhirl.py#496\" target=\"_blank\"><span style=\"color: #7f7f7f; text-decoration-color: #7f7f7f\">496</span></a>\n",
       "</pre>\n"
      ],
      "text/plain": [
       "\u001b[2;36m                   \u001b[0m\u001b[2;36m \u001b[0m\u001b[36mINFO    \u001b[0m Processing \u001b[1;36m20448\u001b[0m rows from proxyscrape                               \u001b]8;id=337534;file:///Users/ww/dev/projects/proxywhirl/proxywhirl/proxywhirl.py\u001b\\\u001b[2mproxywhirl.py\u001b[0m\u001b]8;;\u001b\\\u001b[2m:\u001b[0m\u001b]8;id=226465;file:///Users/ww/dev/projects/proxywhirl/proxywhirl/proxywhirl.py#496\u001b\\\u001b[2m496\u001b[0m\u001b]8;;\u001b\\\n"
      ]
     },
     "metadata": {},
     "output_type": "display_data"
    },
    {
     "data": {
      "text/html": [
       "<pre style=\"white-space:pre;overflow-x:auto;line-height:normal;font-family:Menlo,'DejaVu Sans Mono',consolas,'Courier New',monospace\"><span style=\"color: #7fbfbf; text-decoration-color: #7fbfbf\">[08/24/25 08:06:58] </span><span style=\"color: #008080; text-decoration-color: #008080\">INFO    </span> Loaded <span style=\"color: #008080; text-decoration-color: #008080; font-weight: bold\">457</span> proxies from proxyscrape                                  <a href=\"file:///Users/ww/dev/projects/proxywhirl/proxywhirl/proxywhirl.py\" target=\"_blank\"><span style=\"color: #7f7f7f; text-decoration-color: #7f7f7f\">proxywhirl.py</span></a><span style=\"color: #7f7f7f; text-decoration-color: #7f7f7f\">:</span><a href=\"file:///Users/ww/dev/projects/proxywhirl/proxywhirl/proxywhirl.py#521\" target=\"_blank\"><span style=\"color: #7f7f7f; text-decoration-color: #7f7f7f\">521</span></a>\n",
       "</pre>\n"
      ],
      "text/plain": [
       "\u001b[2;36m[08/24/25 08:06:58]\u001b[0m\u001b[2;36m \u001b[0m\u001b[36mINFO    \u001b[0m Loaded \u001b[1;36m457\u001b[0m proxies from proxyscrape                                  \u001b]8;id=522128;file:///Users/ww/dev/projects/proxywhirl/proxywhirl/proxywhirl.py\u001b\\\u001b[2mproxywhirl.py\u001b[0m\u001b]8;;\u001b\\\u001b[2m:\u001b[0m\u001b]8;id=882436;file:///Users/ww/dev/projects/proxywhirl/proxywhirl/proxywhirl.py#521\u001b\\\u001b[2m521\u001b[0m\u001b]8;;\u001b\\\n"
      ]
     },
     "metadata": {},
     "output_type": "display_data"
    },
    {
     "data": {
      "text/html": [
       "<pre style=\"white-space:pre;overflow-x:auto;line-height:normal;font-family:Menlo,'DejaVu Sans Mono',consolas,'Courier New',monospace\"><span style=\"color: #7fbfbf; text-decoration-color: #7fbfbf\">                    </span><span style=\"color: #008080; text-decoration-color: #008080\">INFO    </span> Processing <span style=\"color: #008080; text-decoration-color: #008080; font-weight: bold\">1880</span> rows from Proxifly                                   <a href=\"file:///Users/ww/dev/projects/proxywhirl/proxywhirl/proxywhirl.py\" target=\"_blank\"><span style=\"color: #7f7f7f; text-decoration-color: #7f7f7f\">proxywhirl.py</span></a><span style=\"color: #7f7f7f; text-decoration-color: #7f7f7f\">:</span><a href=\"file:///Users/ww/dev/projects/proxywhirl/proxywhirl/proxywhirl.py#496\" target=\"_blank\"><span style=\"color: #7f7f7f; text-decoration-color: #7f7f7f\">496</span></a>\n",
       "</pre>\n"
      ],
      "text/plain": [
       "\u001b[2;36m                   \u001b[0m\u001b[2;36m \u001b[0m\u001b[36mINFO    \u001b[0m Processing \u001b[1;36m1880\u001b[0m rows from Proxifly                                   \u001b]8;id=558662;file:///Users/ww/dev/projects/proxywhirl/proxywhirl/proxywhirl.py\u001b\\\u001b[2mproxywhirl.py\u001b[0m\u001b]8;;\u001b\\\u001b[2m:\u001b[0m\u001b]8;id=714101;file:///Users/ww/dev/projects/proxywhirl/proxywhirl/proxywhirl.py#496\u001b\\\u001b[2m496\u001b[0m\u001b]8;;\u001b\\\n"
      ]
     },
     "metadata": {},
     "output_type": "display_data"
    },
    {
     "data": {
      "text/html": [
       "<pre style=\"white-space:pre;overflow-x:auto;line-height:normal;font-family:Menlo,'DejaVu Sans Mono',consolas,'Courier New',monospace\"><span style=\"color: #7fbfbf; text-decoration-color: #7fbfbf\">                    </span><span style=\"color: #008080; text-decoration-color: #008080\">INFO    </span> Loaded <span style=\"color: #008080; text-decoration-color: #008080; font-weight: bold\">124</span> proxies from Proxifly                                     <a href=\"file:///Users/ww/dev/projects/proxywhirl/proxywhirl/proxywhirl.py\" target=\"_blank\"><span style=\"color: #7f7f7f; text-decoration-color: #7f7f7f\">proxywhirl.py</span></a><span style=\"color: #7f7f7f; text-decoration-color: #7f7f7f\">:</span><a href=\"file:///Users/ww/dev/projects/proxywhirl/proxywhirl/proxywhirl.py#521\" target=\"_blank\"><span style=\"color: #7f7f7f; text-decoration-color: #7f7f7f\">521</span></a>\n",
       "</pre>\n"
      ],
      "text/plain": [
       "\u001b[2;36m                   \u001b[0m\u001b[2;36m \u001b[0m\u001b[36mINFO    \u001b[0m Loaded \u001b[1;36m124\u001b[0m proxies from Proxifly                                     \u001b]8;id=663454;file:///Users/ww/dev/projects/proxywhirl/proxywhirl/proxywhirl.py\u001b\\\u001b[2mproxywhirl.py\u001b[0m\u001b]8;;\u001b\\\u001b[2m:\u001b[0m\u001b]8;id=315535;file:///Users/ww/dev/projects/proxywhirl/proxywhirl/proxywhirl.py#521\u001b\\\u001b[2m521\u001b[0m\u001b]8;;\u001b\\\n"
      ]
     },
     "metadata": {},
     "output_type": "display_data"
    },
    {
     "data": {
      "text/html": [
       "<pre style=\"white-space:pre;overflow-x:auto;line-height:normal;font-family:Menlo,'DejaVu Sans Mono',consolas,'Courier New',monospace\"><span style=\"color: #7fbfbf; text-decoration-color: #7fbfbf\">                    </span><span style=\"color: #008080; text-decoration-color: #008080\">INFO    </span> Processing <span style=\"color: #008080; text-decoration-color: #008080; font-weight: bold\">2047</span> rows from VakhovFresh                                <a href=\"file:///Users/ww/dev/projects/proxywhirl/proxywhirl/proxywhirl.py\" target=\"_blank\"><span style=\"color: #7f7f7f; text-decoration-color: #7f7f7f\">proxywhirl.py</span></a><span style=\"color: #7f7f7f; text-decoration-color: #7f7f7f\">:</span><a href=\"file:///Users/ww/dev/projects/proxywhirl/proxywhirl/proxywhirl.py#496\" target=\"_blank\"><span style=\"color: #7f7f7f; text-decoration-color: #7f7f7f\">496</span></a>\n",
       "</pre>\n"
      ],
      "text/plain": [
       "\u001b[2;36m                   \u001b[0m\u001b[2;36m \u001b[0m\u001b[36mINFO    \u001b[0m Processing \u001b[1;36m2047\u001b[0m rows from VakhovFresh                                \u001b]8;id=510071;file:///Users/ww/dev/projects/proxywhirl/proxywhirl/proxywhirl.py\u001b\\\u001b[2mproxywhirl.py\u001b[0m\u001b]8;;\u001b\\\u001b[2m:\u001b[0m\u001b]8;id=5321;file:///Users/ww/dev/projects/proxywhirl/proxywhirl/proxywhirl.py#496\u001b\\\u001b[2m496\u001b[0m\u001b]8;;\u001b\\\n"
      ]
     },
     "metadata": {},
     "output_type": "display_data"
    },
    {
     "data": {
      "text/html": [
       "<pre style=\"white-space:pre;overflow-x:auto;line-height:normal;font-family:Menlo,'DejaVu Sans Mono',consolas,'Courier New',monospace\"><span style=\"color: #7fbfbf; text-decoration-color: #7fbfbf\">                    </span><span style=\"color: #008080; text-decoration-color: #008080\">INFO    </span> Loaded <span style=\"color: #008080; text-decoration-color: #008080; font-weight: bold\">15</span> proxies from VakhovFresh                                   <a href=\"file:///Users/ww/dev/projects/proxywhirl/proxywhirl/proxywhirl.py\" target=\"_blank\"><span style=\"color: #7f7f7f; text-decoration-color: #7f7f7f\">proxywhirl.py</span></a><span style=\"color: #7f7f7f; text-decoration-color: #7f7f7f\">:</span><a href=\"file:///Users/ww/dev/projects/proxywhirl/proxywhirl/proxywhirl.py#521\" target=\"_blank\"><span style=\"color: #7f7f7f; text-decoration-color: #7f7f7f\">521</span></a>\n",
       "</pre>\n"
      ],
      "text/plain": [
       "\u001b[2;36m                   \u001b[0m\u001b[2;36m \u001b[0m\u001b[36mINFO    \u001b[0m Loaded \u001b[1;36m15\u001b[0m proxies from VakhovFresh                                   \u001b]8;id=20905;file:///Users/ww/dev/projects/proxywhirl/proxywhirl/proxywhirl.py\u001b\\\u001b[2mproxywhirl.py\u001b[0m\u001b]8;;\u001b\\\u001b[2m:\u001b[0m\u001b]8;id=879487;file:///Users/ww/dev/projects/proxywhirl/proxywhirl/proxywhirl.py#521\u001b\\\u001b[2m521\u001b[0m\u001b]8;;\u001b\\\n"
      ]
     },
     "metadata": {},
     "output_type": "display_data"
    },
    {
     "data": {
      "text/html": [
       "<pre style=\"white-space:pre;overflow-x:auto;line-height:normal;font-family:Menlo,'DejaVu Sans Mono',consolas,'Courier New',monospace\"><span style=\"color: #7fbfbf; text-decoration-color: #7fbfbf\">                    </span><span style=\"color: #008080; text-decoration-color: #008080\">INFO    </span> Processing <span style=\"color: #008080; text-decoration-color: #008080; font-weight: bold\">5726</span> rows from JetkaiProxyList                            <a href=\"file:///Users/ww/dev/projects/proxywhirl/proxywhirl/proxywhirl.py\" target=\"_blank\"><span style=\"color: #7f7f7f; text-decoration-color: #7f7f7f\">proxywhirl.py</span></a><span style=\"color: #7f7f7f; text-decoration-color: #7f7f7f\">:</span><a href=\"file:///Users/ww/dev/projects/proxywhirl/proxywhirl/proxywhirl.py#496\" target=\"_blank\"><span style=\"color: #7f7f7f; text-decoration-color: #7f7f7f\">496</span></a>\n",
       "</pre>\n"
      ],
      "text/plain": [
       "\u001b[2;36m                   \u001b[0m\u001b[2;36m \u001b[0m\u001b[36mINFO    \u001b[0m Processing \u001b[1;36m5726\u001b[0m rows from JetkaiProxyList                            \u001b]8;id=287664;file:///Users/ww/dev/projects/proxywhirl/proxywhirl/proxywhirl.py\u001b\\\u001b[2mproxywhirl.py\u001b[0m\u001b]8;;\u001b\\\u001b[2m:\u001b[0m\u001b]8;id=266750;file:///Users/ww/dev/projects/proxywhirl/proxywhirl/proxywhirl.py#496\u001b\\\u001b[2m496\u001b[0m\u001b]8;;\u001b\\\n"
      ]
     },
     "metadata": {},
     "output_type": "display_data"
    },
    {
     "data": {
      "text/html": [
       "<pre style=\"white-space:pre;overflow-x:auto;line-height:normal;font-family:Menlo,'DejaVu Sans Mono',consolas,'Courier New',monospace\"><span style=\"color: #7fbfbf; text-decoration-color: #7fbfbf\">                    </span><span style=\"color: #008080; text-decoration-color: #008080\">INFO    </span> Loaded <span style=\"color: #008080; text-decoration-color: #008080; font-weight: bold\">3793</span> proxies from JetkaiProxyList                             <a href=\"file:///Users/ww/dev/projects/proxywhirl/proxywhirl/proxywhirl.py\" target=\"_blank\"><span style=\"color: #7f7f7f; text-decoration-color: #7f7f7f\">proxywhirl.py</span></a><span style=\"color: #7f7f7f; text-decoration-color: #7f7f7f\">:</span><a href=\"file:///Users/ww/dev/projects/proxywhirl/proxywhirl/proxywhirl.py#521\" target=\"_blank\"><span style=\"color: #7f7f7f; text-decoration-color: #7f7f7f\">521</span></a>\n",
       "</pre>\n"
      ],
      "text/plain": [
       "\u001b[2;36m                   \u001b[0m\u001b[2;36m \u001b[0m\u001b[36mINFO    \u001b[0m Loaded \u001b[1;36m3793\u001b[0m proxies from JetkaiProxyList                             \u001b]8;id=235505;file:///Users/ww/dev/projects/proxywhirl/proxywhirl/proxywhirl.py\u001b\\\u001b[2mproxywhirl.py\u001b[0m\u001b]8;;\u001b\\\u001b[2m:\u001b[0m\u001b]8;id=379023;file:///Users/ww/dev/projects/proxywhirl/proxywhirl/proxywhirl.py#521\u001b\\\u001b[2m521\u001b[0m\u001b]8;;\u001b\\\n"
      ]
     },
     "metadata": {},
     "output_type": "display_data"
    },
    {
     "data": {
      "text/html": [
       "<pre style=\"white-space:pre;overflow-x:auto;line-height:normal;font-family:Menlo,'DejaVu Sans Mono',consolas,'Courier New',monospace\"><span style=\"color: #7fbfbf; text-decoration-color: #7fbfbf\">                    </span><span style=\"color: #008080; text-decoration-color: #008080\">INFO    </span> Capping validation to first %d proxies out of %d during fetch        <a href=\"file:///Users/ww/dev/projects/proxywhirl/proxywhirl/proxywhirl.py\" target=\"_blank\"><span style=\"color: #7f7f7f; text-decoration-color: #7f7f7f\">proxywhirl.py</span></a><span style=\"color: #7f7f7f; text-decoration-color: #7f7f7f\">:</span><a href=\"file:///Users/ww/dev/projects/proxywhirl/proxywhirl/proxywhirl.py#549\" target=\"_blank\"><span style=\"color: #7f7f7f; text-decoration-color: #7f7f7f\">549</span></a>\n",
       "</pre>\n"
      ],
      "text/plain": [
       "\u001b[2;36m                   \u001b[0m\u001b[2;36m \u001b[0m\u001b[36mINFO    \u001b[0m Capping validation to first %d proxies out of %d during fetch        \u001b]8;id=326809;file:///Users/ww/dev/projects/proxywhirl/proxywhirl/proxywhirl.py\u001b\\\u001b[2mproxywhirl.py\u001b[0m\u001b]8;;\u001b\\\u001b[2m:\u001b[0m\u001b]8;id=610472;file:///Users/ww/dev/projects/proxywhirl/proxywhirl/proxywhirl.py#549\u001b\\\u001b[2m549\u001b[0m\u001b]8;;\u001b\\\n"
      ]
     },
     "metadata": {},
     "output_type": "display_data"
    },
    {
     "data": {
      "text/html": [
       "<pre style=\"white-space:pre;overflow-x:auto;line-height:normal;font-family:Menlo,'DejaVu Sans Mono',consolas,'Courier New',monospace\"><span style=\"color: #7fbfbf; text-decoration-color: #7fbfbf\">                    </span><span style=\"color: #008080; text-decoration-color: #008080\">INFO    </span> Validating %d loaded proxies<span style=\"color: #808000; text-decoration-color: #808000\">...</span>                                      <a href=\"file:///Users/ww/dev/projects/proxywhirl/proxywhirl/proxywhirl.py\" target=\"_blank\"><span style=\"color: #7f7f7f; text-decoration-color: #7f7f7f\">proxywhirl.py</span></a><span style=\"color: #7f7f7f; text-decoration-color: #7f7f7f\">:</span><a href=\"file:///Users/ww/dev/projects/proxywhirl/proxywhirl/proxywhirl.py#556\" target=\"_blank\"><span style=\"color: #7f7f7f; text-decoration-color: #7f7f7f\">556</span></a>\n",
       "</pre>\n"
      ],
      "text/plain": [
       "\u001b[2;36m                   \u001b[0m\u001b[2;36m \u001b[0m\u001b[36mINFO    \u001b[0m Validating %d loaded proxies\u001b[33m...\u001b[0m                                      \u001b]8;id=519620;file:///Users/ww/dev/projects/proxywhirl/proxywhirl/proxywhirl.py\u001b\\\u001b[2mproxywhirl.py\u001b[0m\u001b]8;;\u001b\\\u001b[2m:\u001b[0m\u001b]8;id=243926;file:///Users/ww/dev/projects/proxywhirl/proxywhirl/proxywhirl.py#556\u001b\\\u001b[2m556\u001b[0m\u001b]8;;\u001b\\\n"
      ]
     },
     "metadata": {},
     "output_type": "display_data"
    },
    {
     "data": {
      "text/html": [
       "<pre style=\"white-space:pre;overflow-x:auto;line-height:normal;font-family:Menlo,'DejaVu Sans Mono',consolas,'Courier New',monospace\"><span style=\"color: #7fbfbf; text-decoration-color: #7fbfbf\">                    </span><span style=\"color: #008080; text-decoration-color: #008080\">INFO    </span> Validating %d proxies with enhanced validation<span style=\"color: #808000; text-decoration-color: #808000\">...</span>                     <a href=\"file:///Users/ww/dev/projects/proxywhirl/proxywhirl/validator.py\" target=\"_blank\"><span style=\"color: #7f7f7f; text-decoration-color: #7f7f7f\">validator.py</span></a><span style=\"color: #7f7f7f; text-decoration-color: #7f7f7f\">:</span><a href=\"file:///Users/ww/dev/projects/proxywhirl/proxywhirl/validator.py#600\" target=\"_blank\"><span style=\"color: #7f7f7f; text-decoration-color: #7f7f7f\">600</span></a>\n",
       "</pre>\n"
      ],
      "text/plain": [
       "\u001b[2;36m                   \u001b[0m\u001b[2;36m \u001b[0m\u001b[36mINFO    \u001b[0m Validating %d proxies with enhanced validation\u001b[33m...\u001b[0m                     \u001b]8;id=88223;file:///Users/ww/dev/projects/proxywhirl/proxywhirl/validator.py\u001b\\\u001b[2mvalidator.py\u001b[0m\u001b]8;;\u001b\\\u001b[2m:\u001b[0m\u001b]8;id=668675;file:///Users/ww/dev/projects/proxywhirl/proxywhirl/validator.py#600\u001b\\\u001b[2m600\u001b[0m\u001b]8;;\u001b\\\n"
      ]
     },
     "metadata": {},
     "output_type": "display_data"
    },
    {
     "data": {
      "text/html": [
       "<pre style=\"white-space:pre;overflow-x:auto;line-height:normal;font-family:Menlo,'DejaVu Sans Mono',consolas,'Courier New',monospace\"><span style=\"color: #7fbfbf; text-decoration-color: #7fbfbf\">                    </span><span style=\"color: #008080; text-decoration-color: #008080\">INFO    </span> Validation complete: %d/%d valid <span style=\"font-weight: bold\">(</span>%s<span style=\"font-weight: bold\">)</span> in %.1fs <span style=\"font-weight: bold\">[</span>Quality: %s<span style=\"font-weight: bold\">]</span>          <a href=\"file:///Users/ww/dev/projects/proxywhirl/proxywhirl/validator.py\" target=\"_blank\"><span style=\"color: #7f7f7f; text-decoration-color: #7f7f7f\">validator.py</span></a><span style=\"color: #7f7f7f; text-decoration-color: #7f7f7f\">:</span><a href=\"file:///Users/ww/dev/projects/proxywhirl/proxywhirl/validator.py#634\" target=\"_blank\"><span style=\"color: #7f7f7f; text-decoration-color: #7f7f7f\">634</span></a>\n",
       "</pre>\n"
      ],
      "text/plain": [
       "\u001b[2;36m                   \u001b[0m\u001b[2;36m \u001b[0m\u001b[36mINFO    \u001b[0m Validation complete: %d/%d valid \u001b[1m(\u001b[0m%s\u001b[1m)\u001b[0m in %.1fs \u001b[1m[\u001b[0mQuality: %s\u001b[1m]\u001b[0m          \u001b]8;id=34490;file:///Users/ww/dev/projects/proxywhirl/proxywhirl/validator.py\u001b\\\u001b[2mvalidator.py\u001b[0m\u001b]8;;\u001b\\\u001b[2m:\u001b[0m\u001b]8;id=835991;file:///Users/ww/dev/projects/proxywhirl/proxywhirl/validator.py#634\u001b\\\u001b[2m634\u001b[0m\u001b]8;;\u001b\\\n"
      ]
     },
     "metadata": {},
     "output_type": "display_data"
    },
    {
     "data": {
      "text/html": [
       "<pre style=\"white-space:pre;overflow-x:auto;line-height:normal;font-family:Menlo,'DejaVu Sans Mono',consolas,'Courier New',monospace\"><span style=\"color: #7fbfbf; text-decoration-color: #7fbfbf\">                    </span><span style=\"color: #008080; text-decoration-color: #008080\">INFO    </span> Validation complete: %.1f%% success rate                             <a href=\"file:///Users/ww/dev/projects/proxywhirl/proxywhirl/proxywhirl.py\" target=\"_blank\"><span style=\"color: #7f7f7f; text-decoration-color: #7f7f7f\">proxywhirl.py</span></a><span style=\"color: #7f7f7f; text-decoration-color: #7f7f7f\">:</span><a href=\"file:///Users/ww/dev/projects/proxywhirl/proxywhirl/proxywhirl.py#560\" target=\"_blank\"><span style=\"color: #7f7f7f; text-decoration-color: #7f7f7f\">560</span></a>\n",
       "</pre>\n"
      ],
      "text/plain": [
       "\u001b[2;36m                   \u001b[0m\u001b[2;36m \u001b[0m\u001b[36mINFO    \u001b[0m Validation complete: %.1f%% success rate                             \u001b]8;id=965467;file:///Users/ww/dev/projects/proxywhirl/proxywhirl/proxywhirl.py\u001b\\\u001b[2mproxywhirl.py\u001b[0m\u001b]8;;\u001b\\\u001b[2m:\u001b[0m\u001b]8;id=458967;file:///Users/ww/dev/projects/proxywhirl/proxywhirl/proxywhirl.py#560\u001b\\\u001b[2m560\u001b[0m\u001b]8;;\u001b\\\n"
      ]
     },
     "metadata": {},
     "output_type": "display_data"
    },
    {
     "data": {
      "text/html": [
       "<pre style=\"white-space:pre;overflow-x:auto;line-height:normal;font-family:Menlo,'DejaVu Sans Mono',consolas,'Courier New',monospace\"><span style=\"color: #7fbfbf; text-decoration-color: #7fbfbf\">                    </span><span style=\"color: #008080; text-decoration-color: #008080\">INFO    </span> Total proxies loaded: <span style=\"color: #008080; text-decoration-color: #008080; font-weight: bold\">0</span>                                              <a href=\"file:///Users/ww/dev/projects/proxywhirl/proxywhirl/proxywhirl.py\" target=\"_blank\"><span style=\"color: #7f7f7f; text-decoration-color: #7f7f7f\">proxywhirl.py</span></a><span style=\"color: #7f7f7f; text-decoration-color: #7f7f7f\">:</span><a href=\"file:///Users/ww/dev/projects/proxywhirl/proxywhirl/proxywhirl.py#568\" target=\"_blank\"><span style=\"color: #7f7f7f; text-decoration-color: #7f7f7f\">568</span></a>\n",
       "</pre>\n"
      ],
      "text/plain": [
       "\u001b[2;36m                   \u001b[0m\u001b[2;36m \u001b[0m\u001b[36mINFO    \u001b[0m Total proxies loaded: \u001b[1;36m0\u001b[0m                                              \u001b]8;id=801788;file:///Users/ww/dev/projects/proxywhirl/proxywhirl/proxywhirl.py\u001b\\\u001b[2mproxywhirl.py\u001b[0m\u001b]8;;\u001b\\\u001b[2m:\u001b[0m\u001b]8;id=654160;file:///Users/ww/dev/projects/proxywhirl/proxywhirl/proxywhirl.py#568\u001b\\\u001b[2m568\u001b[0m\u001b]8;;\u001b\\\n"
      ]
     },
     "metadata": {},
     "output_type": "display_data"
    },
    {
     "data": {
      "text/html": [
       "<pre style=\"white-space:pre;overflow-x:auto;line-height:normal;font-family:Menlo,'DejaVu Sans Mono',consolas,'Courier New',monospace\"><span style=\"color: #7fbfbf; text-decoration-color: #7fbfbf\">                    </span><span style=\"color: #808000; text-decoration-color: #808000\">WARNING </span> No proxies could be fetched from any loader                          <a href=\"file:///Users/ww/dev/projects/proxywhirl/proxywhirl/proxywhirl.py\" target=\"_blank\"><span style=\"color: #7f7f7f; text-decoration-color: #7f7f7f\">proxywhirl.py</span></a><span style=\"color: #7f7f7f; text-decoration-color: #7f7f7f\">:</span><a href=\"file:///Users/ww/dev/projects/proxywhirl/proxywhirl/proxywhirl.py#634\" target=\"_blank\"><span style=\"color: #7f7f7f; text-decoration-color: #7f7f7f\">634</span></a>\n",
       "</pre>\n"
      ],
      "text/plain": [
       "\u001b[2;36m                   \u001b[0m\u001b[2;36m \u001b[0m\u001b[33mWARNING \u001b[0m No proxies could be fetched from any loader                          \u001b]8;id=875751;file:///Users/ww/dev/projects/proxywhirl/proxywhirl/proxywhirl.py\u001b\\\u001b[2mproxywhirl.py\u001b[0m\u001b]8;;\u001b\\\u001b[2m:\u001b[0m\u001b]8;id=644434;file:///Users/ww/dev/projects/proxywhirl/proxywhirl/proxywhirl.py#634\u001b\\\u001b[2m634\u001b[0m\u001b]8;;\u001b\\\n"
      ]
     },
     "metadata": {},
     "output_type": "display_data"
    }
   ],
   "source": [
    "from proxywhirl import ProxyWhirl\n",
    "\n",
    "pw = ProxyWhirl()\n",
    "pw.get_proxy()"
   ]
  },
  {
   "cell_type": "code",
   "execution_count": null,
   "id": "7eda23e2",
   "metadata": {},
   "outputs": [],
   "source": []
  },
  {
   "cell_type": "markdown",
   "id": "57fd8a7c",
   "metadata": {},
   "source": [
    "---"
   ]
  },
  {
   "cell_type": "markdown",
   "id": "2009cd7a",
   "metadata": {},
   "source": [
    "## Command Line Interface (CLI)"
   ]
  },
  {
   "cell_type": "code",
   "execution_count": null,
   "id": "339191bd",
   "metadata": {},
   "outputs": [],
   "source": [
    "%%bash"
   ]
  },
  {
   "cell_type": "markdown",
   "id": "f1d39171",
   "metadata": {},
   "source": [
    "---"
   ]
  },
  {
   "cell_type": "markdown",
   "id": "c94de0c6",
   "metadata": {},
   "source": [
    "## Terminal User Interface (TUI)"
   ]
  },
  {
   "cell_type": "markdown",
   "id": "280ba1f4",
   "metadata": {},
   "source": [
    "---"
   ]
  }
 ],
 "metadata": {
  "kernelspec": {
   "display_name": "proxywhirl (3.13.1)",
   "language": "python",
   "name": "python3"
  },
  "language_info": {
   "codemirror_mode": {
    "name": "ipython",
    "version": 3
   },
   "file_extension": ".py",
   "mimetype": "text/x-python",
   "name": "python",
   "nbconvert_exporter": "python",
   "pygments_lexer": "ipython3",
   "version": "3.13.1"
  }
 },
 "nbformat": 4,
 "nbformat_minor": 5
}
